{
 "cells": [
  {
   "cell_type": "code",
   "execution_count": 1,
   "id": "a7d2b514-1ca1-49c3-aeba-f22917a1beee",
   "metadata": {},
   "outputs": [
    {
     "data": {
      "text/plain": [
       "5"
      ]
     },
     "execution_count": 1,
     "metadata": {},
     "output_type": "execute_result"
    }
   ],
   "source": [
    "5"
   ]
  },
  {
   "cell_type": "code",
   "execution_count": 2,
   "id": "9500c23e-0739-42fe-a261-580eae8dea28",
   "metadata": {},
   "outputs": [],
   "source": [
    "li=[1,2,3,4]"
   ]
  },
  {
   "cell_type": "code",
   "execution_count": 3,
   "id": "895565f7-afba-445f-9bf7-b2ae1a6e052c",
   "metadata": {},
   "outputs": [
    {
     "data": {
      "text/plain": [
       "1"
      ]
     },
     "execution_count": 3,
     "metadata": {},
     "output_type": "execute_result"
    }
   ],
   "source": [
    "li[0]"
   ]
  },
  {
   "cell_type": "code",
   "execution_count": 4,
   "id": "fdada475-cf2d-4141-a1c4-842957ff7952",
   "metadata": {},
   "outputs": [],
   "source": [
    "li[1]=4"
   ]
  },
  {
   "cell_type": "code",
   "execution_count": 5,
   "id": "3a7eadb8-f021-4aa2-a9f7-d925f5bf5ae4",
   "metadata": {},
   "outputs": [
    {
     "data": {
      "text/plain": [
       "[1, 4, 3, 4]"
      ]
     },
     "execution_count": 5,
     "metadata": {},
     "output_type": "execute_result"
    }
   ],
   "source": [
    "li"
   ]
  },
  {
   "cell_type": "code",
   "execution_count": 6,
   "id": "e1eb5e3d-d7ea-4702-b09d-103d91559535",
   "metadata": {},
   "outputs": [
    {
     "data": {
      "text/plain": [
       "[1, 4, 3, 4]"
      ]
     },
     "execution_count": 6,
     "metadata": {},
     "output_type": "execute_result"
    }
   ],
   "source": [
    "li"
   ]
  },
  {
   "cell_type": "code",
   "execution_count": 7,
   "id": "ac17c864-c90f-43b9-b0eb-08d6d88a1534",
   "metadata": {},
   "outputs": [
    {
     "data": {
      "text/plain": [
       "[1, 4, 3, 4]"
      ]
     },
     "execution_count": 7,
     "metadata": {},
     "output_type": "execute_result"
    }
   ],
   "source": [
    "li[0:]"
   ]
  },
  {
   "cell_type": "code",
   "execution_count": 8,
   "id": "694a2773-db88-44bf-853a-4e19c24a9464",
   "metadata": {},
   "outputs": [
    {
     "data": {
      "text/plain": [
       "[1, 4, 3, 4]"
      ]
     },
     "execution_count": 8,
     "metadata": {},
     "output_type": "execute_result"
    }
   ],
   "source": [
    "li[0:4]"
   ]
  },
  {
   "cell_type": "code",
   "execution_count": 9,
   "id": "957f3561-3006-42c9-bf14-116b92c0b9f5",
   "metadata": {},
   "outputs": [
    {
     "data": {
      "text/plain": [
       "[1, 4, 3]"
      ]
     },
     "execution_count": 9,
     "metadata": {},
     "output_type": "execute_result"
    }
   ],
   "source": [
    "li[:-1]"
   ]
  },
  {
   "cell_type": "code",
   "execution_count": 10,
   "id": "21dfb2a0-7c02-441f-a1f6-030c66aecf91",
   "metadata": {},
   "outputs": [
    {
     "data": {
      "text/plain": [
       "[0, 1, 2, 3, 4, 5, 6, 7]"
      ]
     },
     "execution_count": 10,
     "metadata": {},
     "output_type": "execute_result"
    }
   ],
   "source": [
    "li=[1,2,3,0,4,7,6,5]\n",
    "sorted(li)"
   ]
  },
  {
   "cell_type": "code",
   "execution_count": 11,
   "id": "919bfaad-f559-42df-a1dd-f81d111ed331",
   "metadata": {},
   "outputs": [],
   "source": [
    "li.sort()"
   ]
  },
  {
   "cell_type": "code",
   "execution_count": 12,
   "id": "e821892d-739b-40f4-8de3-bd1cbb50f50e",
   "metadata": {},
   "outputs": [
    {
     "data": {
      "text/plain": [
       "[0, 1, 2, 3, 4, 5, 6, 7]"
      ]
     },
     "execution_count": 12,
     "metadata": {},
     "output_type": "execute_result"
    }
   ],
   "source": [
    "li"
   ]
  },
  {
   "cell_type": "code",
   "execution_count": 13,
   "id": "240c1eb1-ec8a-462f-9abf-d7f824bb2829",
   "metadata": {},
   "outputs": [
    {
     "data": {
      "text/plain": [
       "6"
      ]
     },
     "execution_count": 13,
     "metadata": {},
     "output_type": "execute_result"
    }
   ],
   "source": [
    "li[-2]"
   ]
  },
  {
   "cell_type": "code",
   "execution_count": 14,
   "id": "51b3df03-6b58-49a7-b3e4-bf6d978bb785",
   "metadata": {},
   "outputs": [
    {
     "data": {
      "text/plain": [
       "[0, 1, 2, 3, 4, 5, 6, 7]"
      ]
     },
     "execution_count": 14,
     "metadata": {},
     "output_type": "execute_result"
    }
   ],
   "source": [
    "li"
   ]
  },
  {
   "cell_type": "code",
   "execution_count": 15,
   "id": "e88f9e62-c2e8-42d5-b4b5-8dcf12778bc1",
   "metadata": {},
   "outputs": [],
   "source": [
    "li.append(9)"
   ]
  },
  {
   "cell_type": "code",
   "execution_count": 16,
   "id": "8ab55d62-8edc-4186-bf6a-4a1df301e8a3",
   "metadata": {},
   "outputs": [
    {
     "data": {
      "text/plain": [
       "[0, 1, 2, 3, 4, 5, 6, 7, 9]"
      ]
     },
     "execution_count": 16,
     "metadata": {},
     "output_type": "execute_result"
    }
   ],
   "source": [
    "li"
   ]
  },
  {
   "cell_type": "code",
   "execution_count": 17,
   "id": "e04ce5bf-3261-4679-ad0e-a5631a653c6e",
   "metadata": {},
   "outputs": [],
   "source": [
    "li.insert(-1,8)"
   ]
  },
  {
   "cell_type": "code",
   "execution_count": 18,
   "id": "716640fb-7689-4c02-a2f9-cb732a3e3037",
   "metadata": {},
   "outputs": [
    {
     "data": {
      "text/plain": [
       "[0, 1, 2, 3, 4, 5, 6, 7, 8, 9]"
      ]
     },
     "execution_count": 18,
     "metadata": {},
     "output_type": "execute_result"
    }
   ],
   "source": [
    "li"
   ]
  },
  {
   "cell_type": "code",
   "execution_count": 19,
   "id": "76f2dda9-d359-4c95-a6a4-0364ff905b18",
   "metadata": {},
   "outputs": [],
   "source": [
    "li.append(11)"
   ]
  },
  {
   "cell_type": "code",
   "execution_count": 20,
   "id": "b3104521-60fa-499d-8042-8936d9b7f836",
   "metadata": {},
   "outputs": [],
   "source": [
    "li.insert(8,10)"
   ]
  },
  {
   "cell_type": "code",
   "execution_count": 21,
   "id": "662cf847-f6fb-4a8c-8251-9e88cfc75592",
   "metadata": {},
   "outputs": [
    {
     "data": {
      "text/plain": [
       "[0, 1, 2, 3, 4, 5, 6, 7, 10, 8, 9, 11]"
      ]
     },
     "execution_count": 21,
     "metadata": {},
     "output_type": "execute_result"
    }
   ],
   "source": [
    "li"
   ]
  },
  {
   "cell_type": "code",
   "execution_count": 22,
   "id": "51c73229-d267-4ddc-a3ba-729e03a81906",
   "metadata": {},
   "outputs": [
    {
     "data": {
      "text/plain": [
       "[0, 1, 2, 3, 4, 5, 6, 7, 8, 9, 10, 11]"
      ]
     },
     "execution_count": 22,
     "metadata": {},
     "output_type": "execute_result"
    }
   ],
   "source": [
    "sorted(li)"
   ]
  },
  {
   "cell_type": "code",
   "execution_count": 23,
   "id": "3d6b6255-1d63-4786-87b9-ab17f433c26c",
   "metadata": {},
   "outputs": [
    {
     "ename": "TypeError",
     "evalue": "'int' object is not iterable",
     "output_type": "error",
     "traceback": [
      "\u001b[0;31m---------------------------------------------------------------------------\u001b[0m",
      "\u001b[0;31mTypeError\u001b[0m                                 Traceback (most recent call last)",
      "Cell \u001b[0;32mIn[23], line 1\u001b[0m\n\u001b[0;32m----> 1\u001b[0m \u001b[43mli\u001b[49m\u001b[38;5;241;43m.\u001b[39;49m\u001b[43mextend\u001b[49m\u001b[43m(\u001b[49m\u001b[38;5;241;43m5\u001b[39;49m\u001b[43m)\u001b[49m\n",
      "\u001b[0;31mTypeError\u001b[0m: 'int' object is not iterable"
     ]
    }
   ],
   "source": [
    "li.extend(5)"
   ]
  },
  {
   "cell_type": "code",
   "execution_count": 24,
   "id": "fdc1bcbf-05ef-42f1-835d-dcc15a43f758",
   "metadata": {},
   "outputs": [],
   "source": [
    "l1=[1,2,3]\n",
    "l2=[4,5,6]\n",
    "l1.extend(l2)"
   ]
  },
  {
   "cell_type": "code",
   "execution_count": 25,
   "id": "cdc784a6-1da9-4052-90be-638074bf31eb",
   "metadata": {},
   "outputs": [
    {
     "data": {
      "text/plain": [
       "[1, 2, 3, 4, 5, 6]"
      ]
     },
     "execution_count": 25,
     "metadata": {},
     "output_type": "execute_result"
    }
   ],
   "source": [
    "l1"
   ]
  },
  {
   "cell_type": "code",
   "execution_count": 26,
   "id": "a6a06bb6-26e6-4d4a-8910-3ec77a7c2a26",
   "metadata": {},
   "outputs": [
    {
     "data": {
      "text/plain": [
       "[4, 5, 6]"
      ]
     },
     "execution_count": 26,
     "metadata": {},
     "output_type": "execute_result"
    }
   ],
   "source": [
    "l2"
   ]
  },
  {
   "cell_type": "code",
   "execution_count": 28,
   "id": "9dd8d1a3-b61a-4b8a-b4c9-6edda4d21315",
   "metadata": {},
   "outputs": [
    {
     "name": "stdout",
     "output_type": "stream",
     "text": [
      "hello hello \n"
     ]
    }
   ],
   "source": [
    "print(\"hello \" *2)"
   ]
  },
  {
   "cell_type": "code",
   "execution_count": 29,
   "id": "a8468fc7-5099-4047-828c-b1ce512f037a",
   "metadata": {},
   "outputs": [
    {
     "data": {
      "text/plain": [
       "[1, 2, 3, 4, 5, 6]"
      ]
     },
     "execution_count": 29,
     "metadata": {},
     "output_type": "execute_result"
    }
   ],
   "source": [
    "l1"
   ]
  },
  {
   "cell_type": "code",
   "execution_count": 30,
   "id": "91b81b2c-4266-4d28-be14-2a81ad3c204d",
   "metadata": {},
   "outputs": [
    {
     "data": {
      "text/plain": [
       "False"
      ]
     },
     "execution_count": 30,
     "metadata": {},
     "output_type": "execute_result"
    }
   ],
   "source": [
    "7 in l1"
   ]
  },
  {
   "cell_type": "code",
   "execution_count": 31,
   "id": "ecab9b76-b64e-4b1c-944a-dd62f36d450a",
   "metadata": {},
   "outputs": [
    {
     "data": {
      "text/plain": [
       "True"
      ]
     },
     "execution_count": 31,
     "metadata": {},
     "output_type": "execute_result"
    }
   ],
   "source": [
    "7 not in l1"
   ]
  },
  {
   "cell_type": "code",
   "execution_count": 32,
   "id": "a5981a7d-9996-4e8d-998d-9b2ca48e37c6",
   "metadata": {},
   "outputs": [
    {
     "data": {
      "text/plain": [
       "5"
      ]
     },
     "execution_count": 32,
     "metadata": {},
     "output_type": "execute_result"
    }
   ],
   "source": [
    "a=6\n",
    "b=a\n",
    "b=5\n",
    "b"
   ]
  },
  {
   "cell_type": "code",
   "execution_count": 33,
   "id": "8a1d3e98-374e-40ce-827b-750f3def3291",
   "metadata": {},
   "outputs": [
    {
     "data": {
      "text/plain": [
       "6"
      ]
     },
     "execution_count": 33,
     "metadata": {},
     "output_type": "execute_result"
    }
   ],
   "source": [
    "a"
   ]
  },
  {
   "cell_type": "code",
   "execution_count": 34,
   "id": "6fed2156-4723-4e90-be8b-9402c0ae2180",
   "metadata": {},
   "outputs": [
    {
     "data": {
      "text/plain": [
       "[1, 2, 3]"
      ]
     },
     "execution_count": 34,
     "metadata": {},
     "output_type": "execute_result"
    }
   ],
   "source": [
    "li=[1,2,3]\n",
    "l=li\n",
    "l"
   ]
  },
  {
   "cell_type": "code",
   "execution_count": 35,
   "id": "c7c935cb-f38d-4fbf-a3d5-b9a3ea76b3ac",
   "metadata": {},
   "outputs": [],
   "source": [
    "l[0]=5"
   ]
  },
  {
   "cell_type": "code",
   "execution_count": 36,
   "id": "4f5337a1-7f1d-4e8f-bcbc-12725420ff25",
   "metadata": {},
   "outputs": [
    {
     "data": {
      "text/plain": [
       "[5, 2, 3]"
      ]
     },
     "execution_count": 36,
     "metadata": {},
     "output_type": "execute_result"
    }
   ],
   "source": [
    "l"
   ]
  },
  {
   "cell_type": "code",
   "execution_count": 37,
   "id": "1f3f13c1-b231-4e39-817a-385631510f29",
   "metadata": {},
   "outputs": [
    {
     "data": {
      "text/plain": [
       "[5, 2, 3]"
      ]
     },
     "execution_count": 37,
     "metadata": {},
     "output_type": "execute_result"
    }
   ],
   "source": [
    "li"
   ]
  },
  {
   "cell_type": "code",
   "execution_count": 38,
   "id": "4017da4d-5d47-4a76-aaa8-5f98fb4a6656",
   "metadata": {},
   "outputs": [
    {
     "data": {
      "text/plain": [
       "True"
      ]
     },
     "execution_count": 38,
     "metadata": {},
     "output_type": "execute_result"
    }
   ],
   "source": [
    "l==li"
   ]
  },
  {
   "cell_type": "code",
   "execution_count": 41,
   "id": "f379f9c9-d06b-434e-909a-51d4aa442332",
   "metadata": {},
   "outputs": [],
   "source": [
    "l1=[4,2,5]\n",
    "l2=l1.copy()\n"
   ]
  },
  {
   "cell_type": "code",
   "execution_count": 42,
   "id": "e4cc7bd3-bae7-43a3-b1d1-fc574e96896a",
   "metadata": {},
   "outputs": [],
   "source": [
    "l2[0]=9"
   ]
  },
  {
   "cell_type": "markdown",
   "id": "5f382bf2-63c8-4c69-8896-3e3df9eb9668",
   "metadata": {},
   "source": [
    "## "
   ]
  },
  {
   "cell_type": "code",
   "execution_count": 43,
   "id": "0fedd47e-5617-46f6-8b47-f128381c4fe9",
   "metadata": {},
   "outputs": [
    {
     "data": {
      "text/plain": [
       "[9, 2, 5]"
      ]
     },
     "execution_count": 43,
     "metadata": {},
     "output_type": "execute_result"
    }
   ],
   "source": [
    "l2"
   ]
  },
  {
   "cell_type": "code",
   "execution_count": 44,
   "id": "752599d1-b5c8-40ac-8d60-cca14d3cb118",
   "metadata": {},
   "outputs": [
    {
     "data": {
      "text/plain": [
       "[4, 2, 5]"
      ]
     },
     "execution_count": 44,
     "metadata": {},
     "output_type": "execute_result"
    }
   ],
   "source": [
    "l1"
   ]
  },
  {
   "cell_type": "code",
   "execution_count": 45,
   "id": "078f9122-6472-4cc8-ac35-c2035dc0d6f9",
   "metadata": {},
   "outputs": [
    {
     "data": {
      "text/plain": [
       "['apple', 'banana', 'orange']"
      ]
     },
     "execution_count": 45,
     "metadata": {},
     "output_type": "execute_result"
    }
   ],
   "source": [
    "list=[\"apple\",\"orange\",\"banana\"]\n",
    "sorted(list)"
   ]
  },
  {
   "cell_type": "code",
   "execution_count": 46,
   "id": "a0bfab1f-b956-4c85-9cc3-4adc30a74071",
   "metadata": {},
   "outputs": [
    {
     "data": {
      "text/plain": [
       "0"
      ]
     },
     "execution_count": 46,
     "metadata": {},
     "output_type": "execute_result"
    }
   ],
   "source": [
    "list.index(\"apple\")"
   ]
  },
  {
   "cell_type": "code",
   "execution_count": 47,
   "id": "31cbf693-aee5-4534-8c6e-7ba69e9af6ee",
   "metadata": {},
   "outputs": [
    {
     "ename": "AttributeError",
     "evalue": "'list' object has no attribute 'find'",
     "output_type": "error",
     "traceback": [
      "\u001b[0;31m---------------------------------------------------------------------------\u001b[0m",
      "\u001b[0;31mAttributeError\u001b[0m                            Traceback (most recent call last)",
      "Cell \u001b[0;32mIn[47], line 1\u001b[0m\n\u001b[0;32m----> 1\u001b[0m \u001b[38;5;28;43mlist\u001b[39;49m\u001b[38;5;241;43m.\u001b[39;49m\u001b[43mfind\u001b[49m(\u001b[38;5;241m2\u001b[39m)\n",
      "\u001b[0;31mAttributeError\u001b[0m: 'list' object has no attribute 'find'"
     ]
    }
   ],
   "source": [
    "list.find(2)"
   ]
  },
  {
   "cell_type": "code",
   "execution_count": 48,
   "id": "3acaf1d9-acb1-40a5-9e75-0575a08e61bf",
   "metadata": {},
   "outputs": [
    {
     "data": {
      "text/plain": [
       "0"
      ]
     },
     "execution_count": 48,
     "metadata": {},
     "output_type": "execute_result"
    }
   ],
   "source": [
    "list.index(\"apple\")"
   ]
  },
  {
   "cell_type": "code",
   "execution_count": 49,
   "id": "24b12519-56d7-4dd0-9ea1-02a31ca2e297",
   "metadata": {},
   "outputs": [
    {
     "data": {
      "text/plain": [
       "[5, 2, 3]"
      ]
     },
     "execution_count": 49,
     "metadata": {},
     "output_type": "execute_result"
    }
   ],
   "source": [
    "li"
   ]
  },
  {
   "cell_type": "code",
   "execution_count": 50,
   "id": "4c9c22c2-a704-4e6e-bfdb-728afc95a06a",
   "metadata": {},
   "outputs": [],
   "source": [
    "del li"
   ]
  },
  {
   "cell_type": "code",
   "execution_count": 51,
   "id": "aeb5eaca-0fd3-4cd7-983a-d08e52f7a72d",
   "metadata": {},
   "outputs": [
    {
     "ename": "NameError",
     "evalue": "name 'li' is not defined",
     "output_type": "error",
     "traceback": [
      "\u001b[0;31m---------------------------------------------------------------------------\u001b[0m",
      "\u001b[0;31mNameError\u001b[0m                                 Traceback (most recent call last)",
      "Cell \u001b[0;32mIn[51], line 1\u001b[0m\n\u001b[0;32m----> 1\u001b[0m \u001b[43mli\u001b[49m\n",
      "\u001b[0;31mNameError\u001b[0m: name 'li' is not defined"
     ]
    }
   ],
   "source": [
    "li"
   ]
  },
  {
   "cell_type": "code",
   "execution_count": 52,
   "id": "14531bfe-ae9b-46ce-b35c-1bb5cb2f7974",
   "metadata": {},
   "outputs": [
    {
     "data": {
      "text/plain": [
       "[4, 2, 5]"
      ]
     },
     "execution_count": 52,
     "metadata": {},
     "output_type": "execute_result"
    }
   ],
   "source": [
    "l1"
   ]
  },
  {
   "cell_type": "code",
   "execution_count": 54,
   "id": "46582993-2039-4900-bb90-c03d67675877",
   "metadata": {},
   "outputs": [],
   "source": [
    "l1.clear()"
   ]
  },
  {
   "cell_type": "code",
   "execution_count": 55,
   "id": "1a495b03-45ec-441e-85bd-07c9aa7df398",
   "metadata": {},
   "outputs": [
    {
     "data": {
      "text/plain": [
       "[]"
      ]
     },
     "execution_count": 55,
     "metadata": {},
     "output_type": "execute_result"
    }
   ],
   "source": [
    "l1"
   ]
  },
  {
   "cell_type": "markdown",
   "id": "066031ae-178a-47a3-bf7c-de4a689003c5",
   "metadata": {},
   "source": [
    "# li"
   ]
  },
  {
   "cell_type": "code",
   "execution_count": 57,
   "id": "e3042615-bc00-4aad-b4fc-b5ec2cb55b11",
   "metadata": {},
   "outputs": [
    {
     "data": {
      "text/plain": [
       "[1, 2, 3, 4]"
      ]
     },
     "execution_count": 57,
     "metadata": {},
     "output_type": "execute_result"
    }
   ],
   "source": [
    "li=[1,2,3,4]\n",
    "li"
   ]
  },
  {
   "cell_type": "code",
   "execution_count": 58,
   "id": "6e3daea2-4f68-44c2-a9e9-1d9802ff8dfd",
   "metadata": {},
   "outputs": [
    {
     "data": {
      "text/plain": [
       "4"
      ]
     },
     "execution_count": 58,
     "metadata": {},
     "output_type": "execute_result"
    }
   ],
   "source": [
    "li.pop()"
   ]
  },
  {
   "cell_type": "code",
   "execution_count": 59,
   "id": "b7af603c-29e6-4757-9868-c9ce743b959c",
   "metadata": {},
   "outputs": [
    {
     "data": {
      "text/plain": [
       "1"
      ]
     },
     "execution_count": 59,
     "metadata": {},
     "output_type": "execute_result"
    }
   ],
   "source": [
    "li.pop(0)"
   ]
  },
  {
   "cell_type": "code",
   "execution_count": 60,
   "id": "b50f05da-c41a-47a1-a52a-528825eef37e",
   "metadata": {},
   "outputs": [
    {
     "ename": "NameError",
     "evalue": "name 'loi' is not defined",
     "output_type": "error",
     "traceback": [
      "\u001b[0;31m---------------------------------------------------------------------------\u001b[0m",
      "\u001b[0;31mNameError\u001b[0m                                 Traceback (most recent call last)",
      "Cell \u001b[0;32mIn[60], line 1\u001b[0m\n\u001b[0;32m----> 1\u001b[0m \u001b[43mloi\u001b[49m\n",
      "\u001b[0;31mNameError\u001b[0m: name 'loi' is not defined"
     ]
    }
   ],
   "source": [
    "loi"
   ]
  },
  {
   "cell_type": "code",
   "execution_count": 61,
   "id": "fbbe4270-0ea7-4858-9b5f-5cec7919f71a",
   "metadata": {},
   "outputs": [
    {
     "data": {
      "text/plain": [
       "[2, 3]"
      ]
     },
     "execution_count": 61,
     "metadata": {},
     "output_type": "execute_result"
    }
   ],
   "source": [
    "li"
   ]
  },
  {
   "cell_type": "code",
   "execution_count": 62,
   "id": "77da2519-e840-4144-bb19-c057a47942ae",
   "metadata": {},
   "outputs": [],
   "source": [
    "li.insert(0,1)"
   ]
  },
  {
   "cell_type": "code",
   "execution_count": 63,
   "id": "1c5844b3-7c3a-4b22-a830-4d7e52b5c88f",
   "metadata": {},
   "outputs": [
    {
     "data": {
      "text/plain": [
       "[1, 2, 3]"
      ]
     },
     "execution_count": 63,
     "metadata": {},
     "output_type": "execute_result"
    }
   ],
   "source": [
    "li"
   ]
  },
  {
   "cell_type": "code",
   "execution_count": 64,
   "id": "89712baa-2c14-4a8e-823c-3cf599a784c1",
   "metadata": {},
   "outputs": [],
   "source": [
    "li.remove(1)"
   ]
  },
  {
   "cell_type": "code",
   "execution_count": 65,
   "id": "3745dbf3-f770-45e3-89c2-2aa3e5cfb49b",
   "metadata": {},
   "outputs": [
    {
     "data": {
      "text/plain": [
       "[2, 3]"
      ]
     },
     "execution_count": 65,
     "metadata": {},
     "output_type": "execute_result"
    }
   ],
   "source": [
    "li"
   ]
  },
  {
   "cell_type": "code",
   "execution_count": 66,
   "id": "0b9c7122-d3b6-4e23-b485-ff397836e154",
   "metadata": {},
   "outputs": [
    {
     "ename": "AttributeError",
     "evalue": "'list' object has no attribute 'add'",
     "output_type": "error",
     "traceback": [
      "\u001b[0;31m---------------------------------------------------------------------------\u001b[0m",
      "\u001b[0;31mAttributeError\u001b[0m                            Traceback (most recent call last)",
      "Cell \u001b[0;32mIn[66], line 1\u001b[0m\n\u001b[0;32m----> 1\u001b[0m \u001b[43mli\u001b[49m\u001b[38;5;241;43m.\u001b[39;49m\u001b[43madd\u001b[49m(\u001b[38;5;241m5\u001b[39m)\n",
      "\u001b[0;31mAttributeError\u001b[0m: 'list' object has no attribute 'add'"
     ]
    }
   ],
   "source": [
    "li.add(5)"
   ]
  },
  {
   "cell_type": "code",
   "execution_count": 67,
   "id": "1cab3c2d-7bc7-4699-8b38-d9abc7d4a776",
   "metadata": {},
   "outputs": [
    {
     "data": {
      "text/plain": [
       "[2, 3]"
      ]
     },
     "execution_count": 67,
     "metadata": {},
     "output_type": "execute_result"
    }
   ],
   "source": [
    "li"
   ]
  },
  {
   "cell_type": "code",
   "execution_count": 68,
   "id": "74a58d76-bc2f-49ce-ae6f-46d878d95260",
   "metadata": {},
   "outputs": [],
   "source": [
    "li.remove(3) #directly remove enay element"
   ]
  },
  {
   "cell_type": "code",
   "execution_count": 69,
   "id": "d0091de7-fa32-4d1d-bf04-2662b49a83eb",
   "metadata": {},
   "outputs": [
    {
     "data": {
      "text/plain": [
       "[2]"
      ]
     },
     "execution_count": 69,
     "metadata": {},
     "output_type": "execute_result"
    }
   ],
   "source": [
    "li"
   ]
  },
  {
   "cell_type": "code",
   "execution_count": 70,
   "id": "ce6a7f2b-98dd-4355-8b92-932a5d3fa5a2",
   "metadata": {},
   "outputs": [],
   "source": [
    "li.append(5)"
   ]
  },
  {
   "cell_type": "code",
   "execution_count": 71,
   "id": "464843f8-191e-499b-ac29-81cc5fba8369",
   "metadata": {},
   "outputs": [
    {
     "data": {
      "text/plain": [
       "[2, 5]"
      ]
     },
     "execution_count": 71,
     "metadata": {},
     "output_type": "execute_result"
    }
   ],
   "source": [
    "li"
   ]
  },
  {
   "cell_type": "code",
   "execution_count": 72,
   "id": "1833843a-3243-4c57-92ef-dde8082b60f7",
   "metadata": {},
   "outputs": [],
   "source": [
    "li.append(4)"
   ]
  },
  {
   "cell_type": "code",
   "execution_count": 73,
   "id": "74a567ba-a640-462d-85bf-047c931ac500",
   "metadata": {},
   "outputs": [
    {
     "data": {
      "text/plain": [
       "[2, 5, 4]"
      ]
     },
     "execution_count": 73,
     "metadata": {},
     "output_type": "execute_result"
    }
   ],
   "source": [
    "li"
   ]
  },
  {
   "cell_type": "code",
   "execution_count": 74,
   "id": "35ae194c-42ce-455f-83ac-24541ce79143",
   "metadata": {},
   "outputs": [],
   "source": [
    "d=[]\n",
    "for x in li:\n",
    "    d.append(x*2)\n",
    "    "
   ]
  },
  {
   "cell_type": "code",
   "execution_count": 75,
   "id": "3a2e972e-e2f4-4826-9f4a-bd4327568654",
   "metadata": {},
   "outputs": [
    {
     "data": {
      "text/plain": [
       "[4, 10, 8]"
      ]
     },
     "execution_count": 75,
     "metadata": {},
     "output_type": "execute_result"
    }
   ],
   "source": [
    "d"
   ]
  },
  {
   "cell_type": "code",
   "execution_count": 79,
   "id": "adf1b34e-a317-40bf-8f88-21df33e83aab",
   "metadata": {},
   "outputs": [],
   "source": [
    "d=[[x+2] for x in li ]"
   ]
  },
  {
   "cell_type": "code",
   "execution_count": 80,
   "id": "f557abc9-3c10-4785-8ca1-032b89b62caa",
   "metadata": {},
   "outputs": [
    {
     "data": {
      "text/plain": [
       "[[4], [7], [6]]"
      ]
     },
     "execution_count": 80,
     "metadata": {},
     "output_type": "execute_result"
    }
   ],
   "source": [
    "d"
   ]
  },
  {
   "cell_type": "code",
   "execution_count": 78,
   "id": "e3df3fa1-d3bd-46f2-9c79-212c1f0286eb",
   "metadata": {},
   "outputs": [
    {
     "data": {
      "text/plain": [
       "[2, 5, 4]"
      ]
     },
     "execution_count": 78,
     "metadata": {},
     "output_type": "execute_result"
    }
   ],
   "source": [
    "li"
   ]
  },
  {
   "cell_type": "code",
   "execution_count": 81,
   "id": "c5c66c7c-bb51-4a2d-a7db-8807f65ea628",
   "metadata": {},
   "outputs": [],
   "source": [
    "el=[x*10 for x in li]"
   ]
  },
  {
   "cell_type": "code",
   "execution_count": 82,
   "id": "2c9bf778-f39f-471f-ae2c-0e221b1bea4a",
   "metadata": {},
   "outputs": [
    {
     "data": {
      "text/plain": [
       "[20, 50, 40]"
      ]
     },
     "execution_count": 82,
     "metadata": {},
     "output_type": "execute_result"
    }
   ],
   "source": [
    "el"
   ]
  },
  {
   "cell_type": "code",
   "execution_count": 83,
   "id": "f319d59f-c7f2-4425-843b-86d0fbdeed46",
   "metadata": {},
   "outputs": [],
   "source": [
    "li=[\"rahul\",\"deepak\",\"rohit\"]"
   ]
  },
  {
   "cell_type": "code",
   "execution_count": 85,
   "id": "d4d2ad86-e4e9-4aaa-9777-badae358527b",
   "metadata": {},
   "outputs": [],
   "source": [
    "final=[x.upper() for x in li]"
   ]
  },
  {
   "cell_type": "code",
   "execution_count": 86,
   "id": "0aeedd1b-5ef6-4c40-952a-211b92318924",
   "metadata": {},
   "outputs": [
    {
     "data": {
      "text/plain": [
       "['RAHUL', 'DEEPAK', 'ROHIT']"
      ]
     },
     "execution_count": 86,
     "metadata": {},
     "output_type": "execute_result"
    }
   ],
   "source": [
    "final"
   ]
  },
  {
   "cell_type": "code",
   "execution_count": 87,
   "id": "97215e22-8d6b-4ba9-9ba9-dd1fb7b0f674",
   "metadata": {},
   "outputs": [],
   "source": [
    "final=[x.title() for x in li]"
   ]
  },
  {
   "cell_type": "code",
   "execution_count": 88,
   "id": "3ddf29d2-5326-42b8-aa00-ca5c0f087aee",
   "metadata": {},
   "outputs": [
    {
     "data": {
      "text/plain": [
       "['Rahul', 'Deepak', 'Rohit']"
      ]
     },
     "execution_count": 88,
     "metadata": {},
     "output_type": "execute_result"
    }
   ],
   "source": [
    "final"
   ]
  },
  {
   "cell_type": "code",
   "execution_count": 89,
   "id": "1d545b8a-53c2-4721-a38f-f32f4fedac67",
   "metadata": {},
   "outputs": [],
   "source": [
    "final=[x.capitalize() for x in li]"
   ]
  },
  {
   "cell_type": "code",
   "execution_count": 90,
   "id": "c86e8947-6eec-4c76-98a1-0d81e728159d",
   "metadata": {},
   "outputs": [
    {
     "data": {
      "text/plain": [
       "['Rahul', 'Deepak', 'Rohit']"
      ]
     },
     "execution_count": 90,
     "metadata": {},
     "output_type": "execute_result"
    }
   ],
   "source": [
    "final"
   ]
  },
  {
   "cell_type": "code",
   "execution_count": 91,
   "id": "35ea5ebd-93ac-4924-8477-601e0dbc2175",
   "metadata": {},
   "outputs": [
    {
     "data": {
      "text/plain": [
       "['rahul', 'deepak', 'rohit']"
      ]
     },
     "execution_count": 91,
     "metadata": {},
     "output_type": "execute_result"
    }
   ],
   "source": [
    "li"
   ]
  },
  {
   "cell_type": "code",
   "execution_count": 96,
   "id": "af9c29f1-b793-41c3-a5ab-37fbd6b60d91",
   "metadata": {},
   "outputs": [],
   "source": [
    "d=[\"shri \"+ x.title() for x in li]"
   ]
  },
  {
   "cell_type": "code",
   "execution_count": 97,
   "id": "96ec6aec-ecf9-4f32-867e-ce08b2f33d03",
   "metadata": {},
   "outputs": [
    {
     "data": {
      "text/plain": [
       "['shri Rahul', 'shri Deepak', 'shri Rohit']"
      ]
     },
     "execution_count": 97,
     "metadata": {},
     "output_type": "execute_result"
    }
   ],
   "source": [
    "d"
   ]
  },
  {
   "cell_type": "code",
   "execution_count": 98,
   "id": "ef1d03c6-9a72-43e1-b1e2-47a751864a7e",
   "metadata": {},
   "outputs": [
    {
     "name": "stdout",
     "output_type": "stream",
     "text": [
      "['shri Rahul', 'shri Deepak', 'shri Rohit']\n"
     ]
    }
   ],
   "source": [
    "print(d\n",
    "     )"
   ]
  },
  {
   "cell_type": "code",
   "execution_count": 101,
   "id": "a9e94b37-e87e-40ce-a5b5-e908e49743ed",
   "metadata": {},
   "outputs": [],
   "source": [
    "li=[1,2,3]\n",
    "sq=[x**2 for x in li]"
   ]
  },
  {
   "cell_type": "code",
   "execution_count": 102,
   "id": "df482c94-c082-4609-a574-e1b3138efe55",
   "metadata": {},
   "outputs": [
    {
     "data": {
      "text/plain": [
       "[1, 4, 9]"
      ]
     },
     "execution_count": 102,
     "metadata": {},
     "output_type": "execute_result"
    }
   ],
   "source": [
    "sq"
   ]
  },
  {
   "cell_type": "code",
   "execution_count": 103,
   "id": "c587a3c5-b2d5-4ef4-9e02-619a6d589ebc",
   "metadata": {},
   "outputs": [],
   "source": [
    "na=\"rahul\""
   ]
  },
  {
   "cell_type": "code",
   "execution_count": 120,
   "id": "7df2c7dd-077d-4054-bd1a-61100cb29843",
   "metadata": {},
   "outputs": [
    {
     "data": {
      "text/plain": [
       "['rahul']"
      ]
     },
     "execution_count": 120,
     "metadata": {},
     "output_type": "execute_result"
    }
   ],
   "source": [
    "x=na.split()\n",
    "x"
   ]
  },
  {
   "cell_type": "code",
   "execution_count": 125,
   "id": "44b76251-230c-4e0d-bafd-16071d893fe8",
   "metadata": {},
   "outputs": [
    {
     "data": {
      "text/plain": [
       "['rahul@', '23']"
      ]
     },
     "execution_count": 125,
     "metadata": {},
     "output_type": "execute_result"
    }
   ],
   "source": [
    "x=\"rahul@123\"\n",
    "v=x.split(\"1\")\n",
    "v"
   ]
  },
  {
   "cell_type": "code",
   "execution_count": 126,
   "id": "a61d79f1-a03d-459b-9404-2fde02b6195f",
   "metadata": {},
   "outputs": [
    {
     "data": {
      "text/plain": [
       "'rahul@123'"
      ]
     },
     "execution_count": 126,
     "metadata": {},
     "output_type": "execute_result"
    }
   ],
   "source": [
    "x"
   ]
  },
  {
   "cell_type": "code",
   "execution_count": 128,
   "id": "1dc16c4e-2277-426a-8cef-633a0b7f11ae",
   "metadata": {},
   "outputs": [
    {
     "data": {
      "text/plain": [
       "True"
      ]
     },
     "execution_count": 128,
     "metadata": {},
     "output_type": "execute_result"
    }
   ],
   "source": [
    "x.endswith(\"3\")"
   ]
  },
  {
   "cell_type": "code",
   "execution_count": 132,
   "id": "07b3f163-8ef0-4cdf-b668-ef3b237dce45",
   "metadata": {},
   "outputs": [
    {
     "data": {
      "text/plain": [
       "['com', 'in']"
      ]
     },
     "execution_count": 132,
     "metadata": {},
     "output_type": "execute_result"
    }
   ],
   "source": [
    "li=[\"rahul@123.com\",\"rohit@123.in\"]\n",
    "domain=[x.split(\".\")[-1] for x in li]\n",
    "domain"
   ]
  },
  {
   "cell_type": "code",
   "execution_count": 137,
   "id": "67c9f6af-586e-4875-b5a7-34cb902fcb1c",
   "metadata": {},
   "outputs": [],
   "source": [
    "li=[\"rahul@123.com\",\"rohit@123.in\",\"fool$hsbsxuj\"]\n",
    "domain=[x.upper() for x in li if \"@\" in x]"
   ]
  },
  {
   "cell_type": "code",
   "execution_count": 138,
   "id": "232cb170-49e5-4d1d-a06f-f7a2431c22c5",
   "metadata": {},
   "outputs": [
    {
     "data": {
      "text/plain": [
       "['RAHUL@123.COM', 'ROHIT@123.IN']"
      ]
     },
     "execution_count": 138,
     "metadata": {},
     "output_type": "execute_result"
    }
   ],
   "source": [
    "domain"
   ]
  },
  {
   "cell_type": "code",
   "execution_count": 139,
   "id": "5456c060-c05e-4064-b55d-9f846a54d59f",
   "metadata": {},
   "outputs": [],
   "source": [
    "y=[x+j for x in [1,2,3] for j in [5,6,4]]"
   ]
  },
  {
   "cell_type": "code",
   "execution_count": 140,
   "id": "c6080acf-f024-44ae-8b3c-ff815e759a04",
   "metadata": {},
   "outputs": [
    {
     "data": {
      "text/plain": [
       "[6, 7, 5, 7, 8, 6, 8, 9, 7]"
      ]
     },
     "execution_count": 140,
     "metadata": {},
     "output_type": "execute_result"
    }
   ],
   "source": [
    "y"
   ]
  },
  {
   "cell_type": "code",
   "execution_count": 141,
   "id": "40dbb205-e1b2-49b4-8e47-237525ecf919",
   "metadata": {},
   "outputs": [],
   "source": [
    "x=[]"
   ]
  },
  {
   "cell_type": "code",
   "execution_count": 142,
   "id": "d372e426-17a0-4119-83ca-e0428e838831",
   "metadata": {},
   "outputs": [
    {
     "data": {
      "text/plain": [
       "[1, 2, 3]"
      ]
     },
     "execution_count": 142,
     "metadata": {},
     "output_type": "execute_result"
    }
   ],
   "source": [
    "x.append(1)\n",
    "x.append(2)\n",
    "x.append(3)\n",
    "x"
   ]
  },
  {
   "cell_type": "code",
   "execution_count": 143,
   "id": "969a582c-6bfe-4bd6-992f-08c61dba5166",
   "metadata": {},
   "outputs": [
    {
     "data": {
      "text/plain": [
       "3"
      ]
     },
     "execution_count": 143,
     "metadata": {},
     "output_type": "execute_result"
    }
   ],
   "source": [
    "x.pop()"
   ]
  },
  {
   "cell_type": "code",
   "execution_count": 144,
   "id": "d61527c6-a72c-420a-8cf5-cab1a112c24b",
   "metadata": {},
   "outputs": [
    {
     "data": {
      "text/plain": [
       "1"
      ]
     },
     "execution_count": 144,
     "metadata": {},
     "output_type": "execute_result"
    }
   ],
   "source": [
    "x.pop(0)"
   ]
  },
  {
   "cell_type": "code",
   "execution_count": 145,
   "id": "25be6bf7-55e9-4d18-8d40-681a9fc65f27",
   "metadata": {},
   "outputs": [
    {
     "data": {
      "text/plain": [
       "[2]"
      ]
     },
     "execution_count": 145,
     "metadata": {},
     "output_type": "execute_result"
    }
   ],
   "source": [
    "x"
   ]
  },
  {
   "cell_type": "code",
   "execution_count": 147,
   "id": "132bc7dc-0dc8-43f2-8d71-1028964b93af",
   "metadata": {},
   "outputs": [
    {
     "name": "stdout",
     "output_type": "stream",
     "text": [
      "4\n",
      "3\n",
      "2\n",
      "1\n"
     ]
    }
   ],
   "source": [
    "li=[1,2,3,4]\n",
    "while li:\n",
    "    print(li.pop())"
   ]
  },
  {
   "cell_type": "code",
   "execution_count": 148,
   "id": "b5e4bb28-fffd-4d5d-910e-690d0e2b16b7",
   "metadata": {},
   "outputs": [],
   "source": [
    "from collections import deque\n",
    "x=deque()\n",
    "x.append(1)\n",
    "x.append(2)\n",
    "x.append(3)"
   ]
  },
  {
   "cell_type": "code",
   "execution_count": 149,
   "id": "853fab20-f6e3-4965-9a11-5ce2119dd36f",
   "metadata": {},
   "outputs": [
    {
     "data": {
      "text/plain": [
       "deque([1, 2, 3])"
      ]
     },
     "execution_count": 149,
     "metadata": {},
     "output_type": "execute_result"
    }
   ],
   "source": [
    "x"
   ]
  },
  {
   "cell_type": "code",
   "execution_count": 153,
   "id": "b304f7d3-048f-4d0b-a14d-5274239579d1",
   "metadata": {},
   "outputs": [],
   "source": [
    "while x :\n",
    "    y=x.popleft()\n",
    "    print(y)"
   ]
  },
  {
   "cell_type": "code",
   "execution_count": 154,
   "id": "c2cf1a3d-ef22-42d2-bee3-0499b457592b",
   "metadata": {},
   "outputs": [
    {
     "data": {
      "text/plain": [
       "deque([])"
      ]
     },
     "execution_count": 154,
     "metadata": {},
     "output_type": "execute_result"
    }
   ],
   "source": [
    "x"
   ]
  },
  {
   "cell_type": "code",
   "execution_count": 155,
   "id": "d7b1d87f-a6aa-47e3-87b5-61c1be7a0d83",
   "metadata": {},
   "outputs": [
    {
     "ename": "ImportError",
     "evalue": "cannot import name 'enqueue' from 'collections' (/opt/conda/lib/python3.10/collections/__init__.py)",
     "output_type": "error",
     "traceback": [
      "\u001b[0;31m---------------------------------------------------------------------------\u001b[0m",
      "\u001b[0;31mImportError\u001b[0m                               Traceback (most recent call last)",
      "Cell \u001b[0;32mIn[155], line 1\u001b[0m\n\u001b[0;32m----> 1\u001b[0m \u001b[38;5;28;01mfrom\u001b[39;00m \u001b[38;5;21;01mcollections\u001b[39;00m \u001b[38;5;28;01mimport\u001b[39;00m enqueue\n\u001b[1;32m      2\u001b[0m checkout\u001b[38;5;241m=\u001b[39mqueue()\n\u001b[1;32m      3\u001b[0m checkout\u001b[38;5;241m.\u001b[39mappend(\u001b[38;5;124m\"\u001b[39m\u001b[38;5;124m1\u001b[39m\u001b[38;5;124m\"\u001b[39m);\n",
      "\u001b[0;31mImportError\u001b[0m: cannot import name 'enqueue' from 'collections' (/opt/conda/lib/python3.10/collections/__init__.py)"
     ]
    }
   ],
   "source": [
    "from collections import enqueue\n",
    "checkout=queue()\n",
    "checkout.append(\"1\");\n",
    "checkout.append(\"2\");\n",
    "checkout.append(\"3\");\n",
    "checkout.append(\"4\");\n",
    "while checkout!=\"false\":\n",
    "    print(checkout.popleft())"
   ]
  },
  {
   "cell_type": "code",
   "execution_count": 156,
   "id": "037ccf8e-d000-4f5d-af67-cb24cf20d31f",
   "metadata": {},
   "outputs": [
    {
     "name": "stdout",
     "output_type": "stream",
     "text": [
      "1\n",
      "2\n",
      "3\n",
      "4\n"
     ]
    },
    {
     "ename": "IndexError",
     "evalue": "pop from an empty deque",
     "output_type": "error",
     "traceback": [
      "\u001b[0;31m---------------------------------------------------------------------------\u001b[0m",
      "\u001b[0;31mIndexError\u001b[0m                                Traceback (most recent call last)",
      "Cell \u001b[0;32mIn[156], line 8\u001b[0m\n\u001b[1;32m      6\u001b[0m checkout\u001b[38;5;241m.\u001b[39mappend(\u001b[38;5;124m\"\u001b[39m\u001b[38;5;124m4\u001b[39m\u001b[38;5;124m\"\u001b[39m);\n\u001b[1;32m      7\u001b[0m \u001b[38;5;28;01mwhile\u001b[39;00m checkout\u001b[38;5;241m!=\u001b[39m\u001b[38;5;124m\"\u001b[39m\u001b[38;5;124mfalse\u001b[39m\u001b[38;5;124m\"\u001b[39m:\n\u001b[0;32m----> 8\u001b[0m     \u001b[38;5;28mprint\u001b[39m(\u001b[43mcheckout\u001b[49m\u001b[38;5;241;43m.\u001b[39;49m\u001b[43mpopleft\u001b[49m\u001b[43m(\u001b[49m\u001b[43m)\u001b[49m)\n",
      "\u001b[0;31mIndexError\u001b[0m: pop from an empty deque"
     ]
    }
   ],
   "source": [
    "from collections import deque\n",
    "checkout = deque();\n",
    "checkout.append(\"1\");\n",
    "checkout.append(\"2\");\n",
    "checkout.append(\"3\");\n",
    "checkout.append(\"4\");\n",
    "while checkout!=\"false\":\n",
    "    print(checkout.popleft())"
   ]
  },
  {
   "cell_type": "code",
   "execution_count": null,
   "id": "06eb2d52-fb0b-44f1-80b4-6494f342c6f6",
   "metadata": {},
   "outputs": [],
   "source": []
  }
 ],
 "metadata": {
  "kernelspec": {
   "display_name": "Python 3 (ipykernel)",
   "language": "python",
   "name": "python3"
  },
  "language_info": {
   "codemirror_mode": {
    "name": "ipython",
    "version": 3
   },
   "file_extension": ".py",
   "mimetype": "text/x-python",
   "name": "python",
   "nbconvert_exporter": "python",
   "pygments_lexer": "ipython3",
   "version": "3.10.8"
  }
 },
 "nbformat": 4,
 "nbformat_minor": 5
}
