{
 "cells": [
  {
   "cell_type": "code",
   "execution_count": 1,
   "id": "778c8745-508c-460e-b415-070ee3d14be7",
   "metadata": {},
   "outputs": [],
   "source": [
    "# #list store any thing \n",
    "# []"
   ]
  },
  {
   "cell_type": "code",
   "execution_count": 2,
   "id": "7dea5cac-1fa4-476d-ac81-09071a27e749",
   "metadata": {},
   "outputs": [
    {
     "data": {
      "text/plain": [
       "list"
      ]
     },
     "execution_count": 2,
     "metadata": {},
     "output_type": "execute_result"
    }
   ],
   "source": [
    "type([])"
   ]
  },
  {
   "cell_type": "code",
   "execution_count": 3,
   "id": "c4ed8573-5032-4ee0-8328-044a6c42ed96",
   "metadata": {},
   "outputs": [],
   "source": [
    "li=[1,2,3,4.2,\"Rhul\",2+3j]"
   ]
  },
  {
   "cell_type": "code",
   "execution_count": 4,
   "id": "5e1f0552-33f2-40de-b17e-1bdf1c6e8fe5",
   "metadata": {},
   "outputs": [
    {
     "data": {
      "text/plain": [
       "[1, 2, 3, 4.2, 'Rhul', (2+3j)]"
      ]
     },
     "execution_count": 4,
     "metadata": {},
     "output_type": "execute_result"
    }
   ],
   "source": [
    "li"
   ]
  },
  {
   "cell_type": "code",
   "execution_count": 5,
   "id": "bf5bdfd0-7ff9-463c-a81b-9713c2cc3ec0",
   "metadata": {},
   "outputs": [
    {
     "data": {
      "text/plain": [
       "list"
      ]
     },
     "execution_count": 5,
     "metadata": {},
     "output_type": "execute_result"
    }
   ],
   "source": [
    "type(li)"
   ]
  },
  {
   "cell_type": "code",
   "execution_count": 6,
   "id": "1f51771b-d5b0-4c5e-89ff-a977fc91989f",
   "metadata": {},
   "outputs": [],
   "source": [
    "#it is mutable"
   ]
  },
  {
   "cell_type": "code",
   "execution_count": 7,
   "id": "7bd2a6ff-c88e-4a62-864b-d7d317b33a7f",
   "metadata": {},
   "outputs": [],
   "source": [
    "li[4]=\"Rahul\""
   ]
  },
  {
   "cell_type": "code",
   "execution_count": 8,
   "id": "62e80d58-5fe3-4b27-9526-b2509e75391d",
   "metadata": {},
   "outputs": [
    {
     "data": {
      "text/plain": [
       "[1, 2, 3, 4.2, 'Rahul', (2+3j)]"
      ]
     },
     "execution_count": 8,
     "metadata": {},
     "output_type": "execute_result"
    }
   ],
   "source": [
    "li"
   ]
  },
  {
   "cell_type": "code",
   "execution_count": 23,
   "id": "0751a134-239b-421e-93de-68a2b78e81b1",
   "metadata": {},
   "outputs": [
    {
     "data": {
      "text/plain": [
       "'aba'"
      ]
     },
     "execution_count": 23,
     "metadata": {},
     "output_type": "execute_result"
    }
   ],
   "source": [
    "s=\"aba\"\n",
    "y=\"\"\n",
    "for x in s:\n",
    "    y=x+y\n",
    "y\n",
    "# if y != x:\n",
    "#     print(\"false\")\n",
    "# else:\n",
    "#     print(\"true\")"
   ]
  },
  {
   "cell_type": "code",
   "execution_count": 11,
   "id": "400cbfb9-1d6a-4d8d-b111-e492be03352a",
   "metadata": {},
   "outputs": [
    {
     "data": {
      "text/plain": [
       "'abc'"
      ]
     },
     "execution_count": 11,
     "metadata": {},
     "output_type": "execute_result"
    }
   ],
   "source": [
    "y"
   ]
  },
  {
   "cell_type": "code",
   "execution_count": 24,
   "id": "7767664b-e969-4181-b469-a2c62546ee2d",
   "metadata": {},
   "outputs": [
    {
     "data": {
      "text/plain": [
       "[1, 2, 3, 4.2, 'Rahul', (2+3j)]"
      ]
     },
     "execution_count": 24,
     "metadata": {},
     "output_type": "execute_result"
    }
   ],
   "source": [
    "li"
   ]
  },
  {
   "cell_type": "code",
   "execution_count": 25,
   "id": "84e8529d-bf2a-468b-9859-116a8b52a54a",
   "metadata": {},
   "outputs": [
    {
     "data": {
      "text/plain": [
       "[1, 2, 3, 4.2, 'Rahul', (2+3j)]"
      ]
     },
     "execution_count": 25,
     "metadata": {},
     "output_type": "execute_result"
    }
   ],
   "source": [
    "li[0:]"
   ]
  },
  {
   "cell_type": "code",
   "execution_count": 26,
   "id": "7f6455fa-d4a1-4c7b-a12b-0fb14d4d6a68",
   "metadata": {},
   "outputs": [
    {
     "data": {
      "text/plain": [
       "[1, 2, 3, 4.2, 'Rahul', (2+3j)]"
      ]
     },
     "execution_count": 26,
     "metadata": {},
     "output_type": "execute_result"
    }
   ],
   "source": [
    "li[:]"
   ]
  },
  {
   "cell_type": "code",
   "execution_count": 27,
   "id": "3d5b8b41-4f49-467d-9da4-64fa7682a80b",
   "metadata": {},
   "outputs": [
    {
     "data": {
      "text/plain": [
       "[1, 2, 3, 4.2, 'Rahul']"
      ]
     },
     "execution_count": 27,
     "metadata": {},
     "output_type": "execute_result"
    }
   ],
   "source": [
    "li[:-1]"
   ]
  },
  {
   "cell_type": "code",
   "execution_count": 28,
   "id": "c9ee3e08-4a8e-45e4-b276-6402ced958e1",
   "metadata": {},
   "outputs": [],
   "source": [
    "movie=[\"Action1\",\"Action2\",\"Action3\",\"Comdey1\"]"
   ]
  },
  {
   "cell_type": "code",
   "execution_count": 29,
   "id": "e100e60f-8d3e-4426-b6bc-0229b1a72ef8",
   "metadata": {},
   "outputs": [
    {
     "data": {
      "text/plain": [
       "['Action1', 'Action2', 'Action3']"
      ]
     },
     "execution_count": 29,
     "metadata": {},
     "output_type": "execute_result"
    }
   ],
   "source": [
    "movie[0:3]"
   ]
  },
  {
   "cell_type": "code",
   "execution_count": 30,
   "id": "12d8cb99-b4e5-4962-a061-2c79b86d1631",
   "metadata": {},
   "outputs": [
    {
     "data": {
      "text/plain": [
       "['Action1', 'Action2', 'Action3']"
      ]
     },
     "execution_count": 30,
     "metadata": {},
     "output_type": "execute_result"
    }
   ],
   "source": [
    "movie[0:-1]"
   ]
  },
  {
   "cell_type": "code",
   "execution_count": 33,
   "id": "0d996416-1201-423f-a3e8-eff332d84995",
   "metadata": {},
   "outputs": [],
   "source": [
    "li=[4,5,6,7,1,2]\n",
    "li.sort()"
   ]
  },
  {
   "cell_type": "code",
   "execution_count": 34,
   "id": "c7a5d016-a0e2-4a4c-aa6a-1c00935c48e5",
   "metadata": {},
   "outputs": [
    {
     "data": {
      "text/plain": [
       "[1, 2, 4, 5, 6, 7]"
      ]
     },
     "execution_count": 34,
     "metadata": {},
     "output_type": "execute_result"
    }
   ],
   "source": [
    "li"
   ]
  },
  {
   "cell_type": "code",
   "execution_count": 35,
   "id": "9070b0c5-429e-4a63-a62a-142360b5ac0b",
   "metadata": {},
   "outputs": [
    {
     "data": {
      "text/plain": [
       "6"
      ]
     },
     "execution_count": 35,
     "metadata": {},
     "output_type": "execute_result"
    }
   ],
   "source": [
    "li[-2\n",
    "  ]"
   ]
  },
  {
   "cell_type": "code",
   "execution_count": 36,
   "id": "6f4eff48-0ccc-4c2a-a3f1-f62d307e002d",
   "metadata": {},
   "outputs": [],
   "source": [
    "li=[\"apple\",\"banana\",\"orange\"]"
   ]
  },
  {
   "cell_type": "code",
   "execution_count": 37,
   "id": "47e56e9b-8f41-4df9-97fa-91202981bf89",
   "metadata": {},
   "outputs": [
    {
     "data": {
      "text/plain": [
       "['apple', 'banana', 'orange']"
      ]
     },
     "execution_count": 37,
     "metadata": {},
     "output_type": "execute_result"
    }
   ],
   "source": [
    "li\n"
   ]
  },
  {
   "cell_type": "code",
   "execution_count": 38,
   "id": "78f2dfc3-8b1f-4e4e-b1ef-765dc9087508",
   "metadata": {},
   "outputs": [],
   "source": [
    "li.append(\"carot\") #append add at last"
   ]
  },
  {
   "cell_type": "code",
   "execution_count": 39,
   "id": "c24d127f-a93a-4af1-bb1a-5774d73a445a",
   "metadata": {},
   "outputs": [
    {
     "data": {
      "text/plain": [
       "['apple', 'banana', 'orange', 'carot']"
      ]
     },
     "execution_count": 39,
     "metadata": {},
     "output_type": "execute_result"
    }
   ],
   "source": [
    "li"
   ]
  },
  {
   "cell_type": "code",
   "execution_count": 40,
   "id": "eaf6d5ae-beb7-46f0-ac87-5d0fc7de6a2b",
   "metadata": {},
   "outputs": [],
   "source": [
    "li=[]"
   ]
  },
  {
   "cell_type": "code",
   "execution_count": 41,
   "id": "6ece648f-5bb7-4dbc-a332-81941a1285f9",
   "metadata": {},
   "outputs": [
    {
     "data": {
      "text/plain": [
       "[]"
      ]
     },
     "execution_count": 41,
     "metadata": {},
     "output_type": "execute_result"
    }
   ],
   "source": [
    "li"
   ]
  },
  {
   "cell_type": "code",
   "execution_count": 42,
   "id": "ab013479-344e-4ef3-8304-d0236439088b",
   "metadata": {},
   "outputs": [],
   "source": [
    "li.append(1)"
   ]
  },
  {
   "cell_type": "code",
   "execution_count": 43,
   "id": "7501c967-568f-41ff-a66b-67ccc23c727c",
   "metadata": {},
   "outputs": [],
   "source": [
    "li.append(5)"
   ]
  },
  {
   "cell_type": "code",
   "execution_count": 44,
   "id": "3780e5d2-ccf1-45f9-8db4-8ac2f5dbe7da",
   "metadata": {},
   "outputs": [
    {
     "data": {
      "text/plain": [
       "[1, 5]"
      ]
     },
     "execution_count": 44,
     "metadata": {},
     "output_type": "execute_result"
    }
   ],
   "source": [
    "li"
   ]
  },
  {
   "cell_type": "code",
   "execution_count": 45,
   "id": "9b4f10e5-7d99-469e-966d-2fc1c6206771",
   "metadata": {},
   "outputs": [],
   "source": [
    "li.append(6)\n",
    "li.append(5)\n",
    "li.append(2)"
   ]
  },
  {
   "cell_type": "code",
   "execution_count": 46,
   "id": "137d5d7b-9ba7-4a78-9236-c033c27e9fc6",
   "metadata": {},
   "outputs": [
    {
     "data": {
      "text/plain": [
       "[1, 5, 6, 5, 2]"
      ]
     },
     "execution_count": 46,
     "metadata": {},
     "output_type": "execute_result"
    }
   ],
   "source": [
    "li"
   ]
  },
  {
   "cell_type": "code",
   "execution_count": 47,
   "id": "0347a162-310d-4623-b256-5940ddbd1da4",
   "metadata": {},
   "outputs": [],
   "source": [
    "li[0]=4"
   ]
  },
  {
   "cell_type": "code",
   "execution_count": 48,
   "id": "6f4ae540-1768-4011-955e-8add27dead13",
   "metadata": {},
   "outputs": [
    {
     "data": {
      "text/plain": [
       "[4, 5, 6, 5, 2]"
      ]
     },
     "execution_count": 48,
     "metadata": {},
     "output_type": "execute_result"
    }
   ],
   "source": [
    "li"
   ]
  },
  {
   "cell_type": "code",
   "execution_count": 49,
   "id": "44709d04-0227-48f1-b5d2-7efcf7b29adb",
   "metadata": {},
   "outputs": [],
   "source": [
    "li.sort()"
   ]
  },
  {
   "cell_type": "code",
   "execution_count": 50,
   "id": "e4a08335-63f1-4ecf-aae3-7611600356cc",
   "metadata": {},
   "outputs": [
    {
     "data": {
      "text/plain": [
       "[2, 4, 5, 5, 6]"
      ]
     },
     "execution_count": 50,
     "metadata": {},
     "output_type": "execute_result"
    }
   ],
   "source": [
    "li"
   ]
  },
  {
   "cell_type": "code",
   "execution_count": 52,
   "id": "b74c78f3-e488-4f65-ab26-f4ad84ec5954",
   "metadata": {},
   "outputs": [
    {
     "ename": "ModuleNotFoundError",
     "evalue": "No module named 'arrays'",
     "output_type": "error",
     "traceback": [
      "\u001b[0;31m---------------------------------------------------------------------------\u001b[0m",
      "\u001b[0;31mModuleNotFoundError\u001b[0m                       Traceback (most recent call last)",
      "Cell \u001b[0;32mIn[52], line 1\u001b[0m\n\u001b[0;32m----> 1\u001b[0m \u001b[38;5;28;01mfrom\u001b[39;00m \u001b[38;5;21;01marrays\u001b[39;00m \u001b[38;5;28;01mimport\u001b[39;00m arrays\n",
      "\u001b[0;31mModuleNotFoundError\u001b[0m: No module named 'arrays'"
     ]
    }
   ],
   "source": [
    "from arrays import arrays"
   ]
  },
  {
   "cell_type": "code",
   "execution_count": 53,
   "id": "20026c75-9eb9-4e05-b9ee-2414fe97cd4a",
   "metadata": {},
   "outputs": [
    {
     "data": {
      "text/plain": [
       "[2, 4, 5, 5, 6]"
      ]
     },
     "execution_count": 53,
     "metadata": {},
     "output_type": "execute_result"
    }
   ],
   "source": [
    "li"
   ]
  },
  {
   "cell_type": "code",
   "execution_count": 54,
   "id": "70a4461a-1c6d-45ac-b5e1-fe1638d3b2ef",
   "metadata": {},
   "outputs": [],
   "source": [
    "li.append(7)"
   ]
  },
  {
   "cell_type": "code",
   "execution_count": 55,
   "id": "6c15be83-8824-4d21-84ef-672d94b89eea",
   "metadata": {},
   "outputs": [
    {
     "data": {
      "text/plain": [
       "[2, 4, 5, 5, 6, 7]"
      ]
     },
     "execution_count": 55,
     "metadata": {},
     "output_type": "execute_result"
    }
   ],
   "source": [
    "li"
   ]
  },
  {
   "cell_type": "code",
   "execution_count": 56,
   "id": "54838fa3-023f-4aad-9583-aa98769c70da",
   "metadata": {},
   "outputs": [],
   "source": [
    "li.insert(0,1)"
   ]
  },
  {
   "cell_type": "code",
   "execution_count": 57,
   "id": "c0218d4c-8d70-4ead-aa36-a705aa3edc8f",
   "metadata": {},
   "outputs": [
    {
     "data": {
      "text/plain": [
       "[1, 2, 4, 5, 5, 6, 7]"
      ]
     },
     "execution_count": 57,
     "metadata": {},
     "output_type": "execute_result"
    }
   ],
   "source": [
    "li"
   ]
  },
  {
   "cell_type": "code",
   "execution_count": 59,
   "id": "b7803575-e94f-4ae8-a135-59f031c22309",
   "metadata": {},
   "outputs": [],
   "source": [
    "li.insert(2,3)"
   ]
  },
  {
   "cell_type": "code",
   "execution_count": 60,
   "id": "32d8c2e9-de1c-4fd2-88d4-55d01da7d960",
   "metadata": {},
   "outputs": [
    {
     "data": {
      "text/plain": [
       "[1, 2, 3, 4, 5, 5, 6, 7]"
      ]
     },
     "execution_count": 60,
     "metadata": {},
     "output_type": "execute_result"
    }
   ],
   "source": [
    "li"
   ]
  },
  {
   "cell_type": "code",
   "execution_count": 61,
   "id": "13a44d4a-796e-4f58-b092-ad85e4414af9",
   "metadata": {},
   "outputs": [],
   "source": [
    "#extends"
   ]
  },
  {
   "cell_type": "code",
   "execution_count": 62,
   "id": "40c9a5f2-af1c-42cc-8f96-d2eb03b3372d",
   "metadata": {},
   "outputs": [],
   "source": [
    "#used to append from another iterator"
   ]
  },
  {
   "cell_type": "code",
   "execution_count": 63,
   "id": "1948cd13-c552-4ff3-9a5c-d002e218a46e",
   "metadata": {},
   "outputs": [],
   "source": [
    "li=[\"apple\",\"banana\",\"orange\"]\n",
    "li2=[\"carot\",\"strow berry\"]\n",
    "li.extend(li2)"
   ]
  },
  {
   "cell_type": "code",
   "execution_count": 64,
   "id": "cec7360f-36ff-4c90-98a3-e915462f6b2a",
   "metadata": {},
   "outputs": [
    {
     "data": {
      "text/plain": [
       "['apple', 'banana', 'orange', 'carot', 'strow berry']"
      ]
     },
     "execution_count": 64,
     "metadata": {},
     "output_type": "execute_result"
    }
   ],
   "source": [
    "li"
   ]
  },
  {
   "cell_type": "code",
   "execution_count": 65,
   "id": "d35900a2-4ce8-4a4a-be4a-b503a7f18197",
   "metadata": {},
   "outputs": [],
   "source": [
    "li=li+li2 #list c"
   ]
  },
  {
   "cell_type": "code",
   "execution_count": 66,
   "id": "b5b516ff-8a1b-4c77-a91b-f20f4beda40d",
   "metadata": {},
   "outputs": [
    {
     "data": {
      "text/plain": [
       "['apple', 'banana', 'orange', 'carot', 'strow berry', 'carot', 'strow berry']"
      ]
     },
     "execution_count": 66,
     "metadata": {},
     "output_type": "execute_result"
    }
   ],
   "source": [
    "li"
   ]
  },
  {
   "cell_type": "code",
   "execution_count": 68,
   "id": "a64149da-287d-4fbc-b238-e8f6504538a0",
   "metadata": {},
   "outputs": [
    {
     "data": {
      "text/plain": [
       "['apple', 'banana', 'orange', 'carot', 'strow berry', 'carot', 'strow berry']"
      ]
     },
     "execution_count": 68,
     "metadata": {},
     "output_type": "execute_result"
    }
   ],
   "source": [
    "li"
   ]
  },
  {
   "cell_type": "code",
   "execution_count": 69,
   "id": "eff99574-f23c-47c5-ab89-477bf38d1b12",
   "metadata": {},
   "outputs": [],
   "source": [
    "#reperartion operation"
   ]
  },
  {
   "cell_type": "code",
   "execution_count": 70,
   "id": "06dac74c-e068-4b85-8c28-307dfd34d9da",
   "metadata": {},
   "outputs": [
    {
     "data": {
      "text/plain": [
       "'*****'"
      ]
     },
     "execution_count": 70,
     "metadata": {},
     "output_type": "execute_result"
    }
   ],
   "source": [
    "\"*\"*5"
   ]
  },
  {
   "cell_type": "code",
   "execution_count": 71,
   "id": "bcc37c17-0639-4263-8afd-6e3d2f3b9c28",
   "metadata": {},
   "outputs": [
    {
     "data": {
      "text/plain": [
       "'%%%%%%%%%'"
      ]
     },
     "execution_count": 71,
     "metadata": {},
     "output_type": "execute_result"
    }
   ],
   "source": [
    "\"%\"*9"
   ]
  },
  {
   "cell_type": "code",
   "execution_count": 72,
   "id": "b99e179c-c325-4ff9-834f-79448653072d",
   "metadata": {},
   "outputs": [
    {
     "data": {
      "text/plain": [
       "[0, 0, 0]"
      ]
     },
     "execution_count": 72,
     "metadata": {},
     "output_type": "execute_result"
    }
   ],
   "source": [
    "[0]*3"
   ]
  },
  {
   "cell_type": "code",
   "execution_count": 73,
   "id": "0df2cf8a-474f-4342-88c1-99d8a9de7ea0",
   "metadata": {},
   "outputs": [
    {
     "data": {
      "text/plain": [
       "[1, 2, 1, 2, 1, 2, 1, 2, 1, 2]"
      ]
     },
     "execution_count": 73,
     "metadata": {},
     "output_type": "execute_result"
    }
   ],
   "source": [
    "[1,2]*5"
   ]
  },
  {
   "cell_type": "code",
   "execution_count": 75,
   "id": "0876bce0-1368-450d-841b-397e4a64d69b",
   "metadata": {},
   "outputs": [
    {
     "data": {
      "text/plain": [
       "[0, 1, 2, 3, 4, 5, 0, 1, 2, 3, 4, 5]"
      ]
     },
     "execution_count": 75,
     "metadata": {},
     "output_type": "execute_result"
    }
   ],
   "source": [
    "list(range(0,6))*2\n"
   ]
  },
  {
   "cell_type": "code",
   "execution_count": 78,
   "id": "7c4e12b0-074e-49e7-9f68-5e860faf7a62",
   "metadata": {},
   "outputs": [
    {
     "name": "stdout",
     "output_type": "stream",
     "text": [
      "I have to attends a leetcode at 8 am \n",
      "I have to attends a leetcode at 8 am \n",
      "\n"
     ]
    }
   ],
   "source": [
    "print(\"I have to attends a leetcode at 8 am \\n\"*2)"
   ]
  },
  {
   "cell_type": "code",
   "execution_count": 79,
   "id": "08c53ead-3cd7-4ea8-9e2d-f71c760b99b7",
   "metadata": {},
   "outputs": [
    {
     "data": {
      "text/plain": [
       "False"
      ]
     },
     "execution_count": 79,
     "metadata": {},
     "output_type": "execute_result"
    }
   ],
   "source": [
    "2 in li"
   ]
  },
  {
   "cell_type": "code",
   "execution_count": 80,
   "id": "bac7eb57-1fa3-4a77-acbe-b3581869bd08",
   "metadata": {},
   "outputs": [
    {
     "data": {
      "text/plain": [
       "['apple', 'banana', 'orange', 'carot', 'strow berry', 'carot', 'strow berry']"
      ]
     },
     "execution_count": 80,
     "metadata": {},
     "output_type": "execute_result"
    }
   ],
   "source": [
    "li"
   ]
  },
  {
   "cell_type": "code",
   "execution_count": 83,
   "id": "e67bd130-9f6e-48dc-bd8d-8a68294d7173",
   "metadata": {},
   "outputs": [
    {
     "data": {
      "text/plain": [
       "False"
      ]
     },
     "execution_count": 83,
     "metadata": {},
     "output_type": "execute_result"
    }
   ],
   "source": [
    "\"apple\" not in li"
   ]
  },
  {
   "cell_type": "code",
   "execution_count": 84,
   "id": "caae372f-5026-45e4-b063-c1f3025aeda8",
   "metadata": {},
   "outputs": [],
   "source": [
    "grolist=[\"a\",\"b\",\"c\"]"
   ]
  },
  {
   "cell_type": "code",
   "execution_count": 85,
   "id": "5eb2cd11-cfc4-488e-b368-487533e6c46c",
   "metadata": {},
   "outputs": [],
   "source": [
    "v=grolist"
   ]
  },
  {
   "cell_type": "code",
   "execution_count": 86,
   "id": "98c9ae66-5955-4cad-b8ff-0743fe3c4889",
   "metadata": {},
   "outputs": [
    {
     "data": {
      "text/plain": [
       "['a', 'b', 'c']"
      ]
     },
     "execution_count": 86,
     "metadata": {},
     "output_type": "execute_result"
    }
   ],
   "source": [
    "v"
   ]
  },
  {
   "cell_type": "code",
   "execution_count": 87,
   "id": "5d6a92df-61e6-4570-9259-4f8bcf2d02eb",
   "metadata": {},
   "outputs": [],
   "source": [
    "v[0]=\"d\""
   ]
  },
  {
   "cell_type": "code",
   "execution_count": 88,
   "id": "8ac7c8be-eb58-401c-855c-590e9ee7989c",
   "metadata": {},
   "outputs": [
    {
     "data": {
      "text/plain": [
       "['d', 'b', 'c']"
      ]
     },
     "execution_count": 88,
     "metadata": {},
     "output_type": "execute_result"
    }
   ],
   "source": [
    "v"
   ]
  },
  {
   "cell_type": "code",
   "execution_count": 89,
   "id": "97014b9f-808c-4f46-b2e2-828eedb636fa",
   "metadata": {},
   "outputs": [
    {
     "data": {
      "text/plain": [
       "['d', 'b', 'c']"
      ]
     },
     "execution_count": 89,
     "metadata": {},
     "output_type": "execute_result"
    }
   ],
   "source": [
    "grolist #Shallow copy both values chages"
   ]
  },
  {
   "cell_type": "code",
   "execution_count": 90,
   "id": "2cca0902-bcad-47f6-a8e8-5bc8dbb51369",
   "metadata": {},
   "outputs": [],
   "source": [
    "#copy of element also change their parenyt\n",
    "#python not create their copy they just point same element ele,eny"
   ]
  },
  {
   "cell_type": "code",
   "execution_count": 91,
   "id": "2f17e3c4-e72e-42b4-9527-728eb475ffa3",
   "metadata": {},
   "outputs": [],
   "source": [
    "#deepcopying mai python new space create karta hai"
   ]
  },
  {
   "cell_type": "code",
   "execution_count": 92,
   "id": "e7d09532-93de-4762-ac54-81c3b1879a64",
   "metadata": {},
   "outputs": [],
   "source": [
    "li=[2,3,6,4]\n",
    "b=li.copy()"
   ]
  },
  {
   "cell_type": "code",
   "execution_count": 93,
   "id": "10a9057a-a839-4985-8e12-2db7f5a351dd",
   "metadata": {},
   "outputs": [],
   "source": [
    "b[0]=1"
   ]
  },
  {
   "cell_type": "code",
   "execution_count": 94,
   "id": "599ba07d-51c1-4f5a-a112-30096637a2b2",
   "metadata": {},
   "outputs": [
    {
     "data": {
      "text/plain": [
       "[1, 3, 6, 4]"
      ]
     },
     "execution_count": 94,
     "metadata": {},
     "output_type": "execute_result"
    }
   ],
   "source": [
    "a\n",
    "b"
   ]
  },
  {
   "cell_type": "code",
   "execution_count": 95,
   "id": "ccc2514b-7956-49dc-acb3-18f6208039ca",
   "metadata": {},
   "outputs": [
    {
     "data": {
      "text/plain": [
       "4"
      ]
     },
     "execution_count": 95,
     "metadata": {},
     "output_type": "execute_result"
    }
   ],
   "source": [
    "a"
   ]
  },
  {
   "cell_type": "code",
   "execution_count": 96,
   "id": "c9c64bc7-5713-4354-9c24-5d6eeec3d7c5",
   "metadata": {},
   "outputs": [
    {
     "data": {
      "text/plain": [
       "[2, 3, 6, 4]"
      ]
     },
     "execution_count": 96,
     "metadata": {},
     "output_type": "execute_result"
    }
   ],
   "source": [
    "li"
   ]
  },
  {
   "cell_type": "code",
   "execution_count": 97,
   "id": "135e14df-97b0-444a-9a03-87aa1f157016",
   "metadata": {},
   "outputs": [
    {
     "data": {
      "text/plain": [
       "[1, 3, 6, 4]"
      ]
     },
     "execution_count": 97,
     "metadata": {},
     "output_type": "execute_result"
    }
   ],
   "source": [
    "b"
   ]
  },
  {
   "cell_type": "code",
   "execution_count": 98,
   "id": "e1351d97-ca17-40b8-8daf-647fe787ea01",
   "metadata": {},
   "outputs": [],
   "source": [
    "b.append(5)"
   ]
  },
  {
   "cell_type": "code",
   "execution_count": 99,
   "id": "c3d38a2e-d179-4f6e-a1c8-4638b9857ad5",
   "metadata": {},
   "outputs": [
    {
     "data": {
      "text/plain": [
       "[1, 3, 6, 4, 5]"
      ]
     },
     "execution_count": 99,
     "metadata": {},
     "output_type": "execute_result"
    }
   ],
   "source": [
    "b"
   ]
  },
  {
   "cell_type": "code",
   "execution_count": 100,
   "id": "b5c53ca2-b635-4a05-848b-15ecf0642165",
   "metadata": {},
   "outputs": [],
   "source": [
    "b.insert(1,2)"
   ]
  },
  {
   "cell_type": "code",
   "execution_count": 101,
   "id": "2ce317c4-7ae4-4bb6-a19c-bfb0a2e7baff",
   "metadata": {},
   "outputs": [
    {
     "data": {
      "text/plain": [
       "[1, 2, 3, 6, 4, 5]"
      ]
     },
     "execution_count": 101,
     "metadata": {},
     "output_type": "execute_result"
    }
   ],
   "source": [
    "b"
   ]
  },
  {
   "cell_type": "code",
   "execution_count": 102,
   "id": "8734ca74-7a64-4550-b50e-4d69f6ab654f",
   "metadata": {},
   "outputs": [],
   "source": [
    "b.sort()"
   ]
  },
  {
   "cell_type": "code",
   "execution_count": 103,
   "id": "0f1ea493-15ec-439d-8d67-40792bc6d7a2",
   "metadata": {},
   "outputs": [
    {
     "data": {
      "text/plain": [
       "[1, 2, 3, 4, 5, 6]"
      ]
     },
     "execution_count": 103,
     "metadata": {},
     "output_type": "execute_result"
    }
   ],
   "source": [
    "b"
   ]
  },
  {
   "cell_type": "code",
   "execution_count": 104,
   "id": "7132f402-fe7c-4759-b4b2-68a0921fa4b6",
   "metadata": {},
   "outputs": [
    {
     "data": {
      "text/plain": [
       "['abc', 'dsa', 'webd']"
      ]
     },
     "execution_count": 104,
     "metadata": {},
     "output_type": "execute_result"
    }
   ],
   "source": [
    "sort=[\"dsa\",\"webd\",\"abc\"]\n",
    "sorted(sort)"
   ]
  },
  {
   "cell_type": "code",
   "execution_count": 105,
   "id": "f6aaafa8-ed44-47fa-bcb3-ebdc04cade7e",
   "metadata": {},
   "outputs": [],
   "source": [
    "b.sort()"
   ]
  },
  {
   "cell_type": "code",
   "execution_count": 107,
   "id": "c352bd3e-ea86-4b21-bf6c-df8e1ae7c65c",
   "metadata": {},
   "outputs": [
    {
     "data": {
      "text/plain": [
       "0"
      ]
     },
     "execution_count": 107,
     "metadata": {},
     "output_type": "execute_result"
    }
   ],
   "source": [
    "sort.index(\"dsa\")"
   ]
  },
  {
   "cell_type": "code",
   "execution_count": 108,
   "id": "e1cb842f-a6af-4ac3-8b35-ef1216630421",
   "metadata": {},
   "outputs": [
    {
     "data": {
      "text/plain": [
       "2"
      ]
     },
     "execution_count": 108,
     "metadata": {},
     "output_type": "execute_result"
    }
   ],
   "source": [
    "sort.index(\"abc\")"
   ]
  },
  {
   "cell_type": "code",
   "execution_count": 109,
   "id": "2dc0390c-b337-43a2-89dd-e0e9ad248f29",
   "metadata": {},
   "outputs": [],
   "source": [
    "sort.append(\"dsa\")"
   ]
  },
  {
   "cell_type": "code",
   "execution_count": 110,
   "id": "e0bb6f00-9ca6-4695-b30f-65227b9009d4",
   "metadata": {},
   "outputs": [
    {
     "data": {
      "text/plain": [
       "['dsa', 'webd', 'abc', 'dsa']"
      ]
     },
     "execution_count": 110,
     "metadata": {},
     "output_type": "execute_result"
    }
   ],
   "source": [
    "sort"
   ]
  },
  {
   "cell_type": "code",
   "execution_count": 111,
   "id": "a84cd66a-09e0-451f-9599-96699901dcb7",
   "metadata": {},
   "outputs": [
    {
     "data": {
      "text/plain": [
       "2"
      ]
     },
     "execution_count": 111,
     "metadata": {},
     "output_type": "execute_result"
    }
   ],
   "source": [
    "sort.count(\"dsa\")"
   ]
  },
  {
   "cell_type": "code",
   "execution_count": 114,
   "id": "38c6d44d-8acd-470c-ad42-22f5b648ead1",
   "metadata": {},
   "outputs": [],
   "source": [
    "sort.remove(\"dsa\")"
   ]
  },
  {
   "cell_type": "raw",
   "id": "c48b6f10-6a01-40cd-9ae6-10ad28469e3f",
   "metadata": {},
   "source": [
    "sort"
   ]
  },
  {
   "cell_type": "code",
   "execution_count": 115,
   "id": "e7498f44-0bb7-4ac4-b09a-6e6730791596",
   "metadata": {},
   "outputs": [],
   "source": [
    "del sort"
   ]
  },
  {
   "cell_type": "code",
   "execution_count": 116,
   "id": "1f0ea547-d415-401e-9fbf-e4fb0071c774",
   "metadata": {},
   "outputs": [
    {
     "ename": "NameError",
     "evalue": "name 'sort' is not defined",
     "output_type": "error",
     "traceback": [
      "\u001b[0;31m---------------------------------------------------------------------------\u001b[0m",
      "\u001b[0;31mNameError\u001b[0m                                 Traceback (most recent call last)",
      "Cell \u001b[0;32mIn[116], line 1\u001b[0m\n\u001b[0;32m----> 1\u001b[0m \u001b[43msort\u001b[49m\n",
      "\u001b[0;31mNameError\u001b[0m: name 'sort' is not defined"
     ]
    }
   ],
   "source": [
    "sort"
   ]
  },
  {
   "cell_type": "code",
   "execution_count": 117,
   "id": "8b9586c8-2914-440d-8a6a-ecb1aa2697b0",
   "metadata": {},
   "outputs": [],
   "source": [
    "boolist=[1,2,3,4,5]\n",
    "boolist.clear()"
   ]
  },
  {
   "cell_type": "code",
   "execution_count": 118,
   "id": "dd850a07-f530-4a56-9023-5b9f12bcfd8f",
   "metadata": {},
   "outputs": [
    {
     "data": {
      "text/plain": [
       "[]"
      ]
     },
     "execution_count": 118,
     "metadata": {},
     "output_type": "execute_result"
    }
   ],
   "source": [
    "boolist"
   ]
  },
  {
   "cell_type": "code",
   "execution_count": 119,
   "id": "410caae6-3ed8-4f75-a2c8-a2648499c7e3",
   "metadata": {},
   "outputs": [
    {
     "ename": "IndexError",
     "evalue": "pop from empty list",
     "output_type": "error",
     "traceback": [
      "\u001b[0;31m---------------------------------------------------------------------------\u001b[0m",
      "\u001b[0;31mIndexError\u001b[0m                                Traceback (most recent call last)",
      "Cell \u001b[0;32mIn[119], line 1\u001b[0m\n\u001b[0;32m----> 1\u001b[0m \u001b[43mboolist\u001b[49m\u001b[38;5;241;43m.\u001b[39;49m\u001b[43mpop\u001b[49m\u001b[43m(\u001b[49m\u001b[43m)\u001b[49m\n",
      "\u001b[0;31mIndexError\u001b[0m: pop from empty list"
     ]
    }
   ],
   "source": [
    "boolist.pop()"
   ]
  },
  {
   "cell_type": "code",
   "execution_count": 120,
   "id": "29e1fd5e-a33f-41ad-8d78-3f9c15ce6179",
   "metadata": {},
   "outputs": [
    {
     "data": {
      "text/plain": [
       "5"
      ]
     },
     "execution_count": 120,
     "metadata": {},
     "output_type": "execute_result"
    }
   ],
   "source": [
    "boolist=[1,2,3,4,5]\n",
    "boolist.pop()"
   ]
  },
  {
   "cell_type": "code",
   "execution_count": 123,
   "id": "3eca2711-b959-4eba-8d44-f2609d41ea38",
   "metadata": {},
   "outputs": [
    {
     "data": {
      "text/plain": [
       "1"
      ]
     },
     "execution_count": 123,
     "metadata": {},
     "output_type": "execute_result"
    }
   ],
   "source": [
    "boolist.pop(0)"
   ]
  },
  {
   "cell_type": "code",
   "execution_count": 124,
   "id": "42b4ab20-ee1b-4e24-b1f6-c0bdbd588de6",
   "metadata": {},
   "outputs": [
    {
     "data": {
      "text/plain": [
       "[2, 3, 4]"
      ]
     },
     "execution_count": 124,
     "metadata": {},
     "output_type": "execute_result"
    }
   ],
   "source": [
    "boolist"
   ]
  },
  {
   "cell_type": "code",
   "execution_count": 125,
   "id": "9d919ead-2d1b-4467-856c-af8f35e4e8fa",
   "metadata": {},
   "outputs": [],
   "source": [
    "#list compreshension"
   ]
  },
  {
   "cell_type": "code",
   "execution_count": 128,
   "id": "be65ed06-8cce-44ff-b047-d4abebcc5da2",
   "metadata": {},
   "outputs": [],
   "source": [
    "price=[10,20,30,40]\n",
    "doub=[]\n",
    "for x in price:\n",
    "    doub.append(x*2)"
   ]
  },
  {
   "cell_type": "code",
   "execution_count": 127,
   "id": "890761f6-8d66-4bb7-ae94-7d3f9d6c81f7",
   "metadata": {},
   "outputs": [
    {
     "data": {
      "text/plain": [
       "[10, 20, 30, 40]"
      ]
     },
     "execution_count": 127,
     "metadata": {},
     "output_type": "execute_result"
    }
   ],
   "source": [
    "price"
   ]
  },
  {
   "cell_type": "code",
   "execution_count": 129,
   "id": "49483d8e-7abb-475e-b09a-179a653e66ba",
   "metadata": {},
   "outputs": [
    {
     "data": {
      "text/plain": [
       "[20, 40, 60, 80]"
      ]
     },
     "execution_count": 129,
     "metadata": {},
     "output_type": "execute_result"
    }
   ],
   "source": [
    "doub"
   ]
  },
  {
   "cell_type": "code",
   "execution_count": 130,
   "id": "1419468b-166e-467e-b078-41b08c010fb1",
   "metadata": {},
   "outputs": [
    {
     "ename": "SyntaxError",
     "evalue": "incomplete input (2104912372.py, line 1)",
     "output_type": "error",
     "traceback": [
      "\u001b[0;36m  Cell \u001b[0;32mIn[130], line 1\u001b[0;36m\u001b[0m\n\u001b[0;31m    for i in price:\u001b[0m\n\u001b[0m                   ^\u001b[0m\n\u001b[0;31mSyntaxError\u001b[0m\u001b[0;31m:\u001b[0m incomplete input\n"
     ]
    }
   ],
   "source": [
    "for i in price:\n",
    "    "
   ]
  },
  {
   "cell_type": "code",
   "execution_count": 131,
   "id": "d5f3b1dd-f9b8-47d6-a7a3-5ba9ade8d29d",
   "metadata": {},
   "outputs": [
    {
     "data": {
      "text/plain": [
       "[100, 40, 20, 60, 120]"
      ]
     },
     "execution_count": 131,
     "metadata": {},
     "output_type": "execute_result"
    }
   ],
   "source": [
    "prices=[50,20,10,30,60]\n",
    "doub=[price*2 for price in prices]\n",
    "doub"
   ]
  },
  {
   "cell_type": "code",
   "execution_count": 132,
   "id": "5263a22e-2b3d-4305-bcb3-9b09c42d955d",
   "metadata": {},
   "outputs": [
    {
     "data": {
      "text/plain": [
       "[3, 6, 9]"
      ]
     },
     "execution_count": 132,
     "metadata": {},
     "output_type": "execute_result"
    }
   ],
   "source": [
    "pri=[1,2,3]\n",
    "d=[el*3 for el in pri]\n",
    "d"
   ]
  },
  {
   "cell_type": "code",
   "execution_count": 134,
   "id": "6befdefb-91bd-44a3-bbd2-b2ad0a1ab382",
   "metadata": {},
   "outputs": [
    {
     "data": {
      "text/plain": [
       "['Raju', 'Ajay', 'Deepak', 'Poonam']"
      ]
     },
     "execution_count": 134,
     "metadata": {},
     "output_type": "execute_result"
    }
   ],
   "source": [
    "names=[\"Raju\",\"Ajay\",\"Deepak\",\"poonam\"]\n",
    "d=[name.title() for name in names]\n",
    "d"
   ]
  },
  {
   "cell_type": "code",
   "execution_count": 137,
   "id": "b756bf3a-1d5f-43ad-95f7-94f1b18b9a5b",
   "metadata": {},
   "outputs": [
    {
     "data": {
      "text/plain": [
       "['shri Raju', 'shri Ajay', 'shri Deepak', 'shri poonam']"
      ]
     },
     "execution_count": 137,
     "metadata": {},
     "output_type": "execute_result"
    }
   ],
   "source": [
    "names=[\"Raju\",\"Ajay\",\"Deepak\",\"poonam\"]\n",
    "d=[\"shri \"+ name for name in names]\n",
    "d"
   ]
  },
  {
   "cell_type": "code",
   "execution_count": 138,
   "id": "2d04b6f0-d805-4e71-9fd8-2822e264c1ce",
   "metadata": {},
   "outputs": [],
   "source": [
    "num=[1,2,3,4,5]\n",
    "el=[n**2 for n in num]"
   ]
  },
  {
   "cell_type": "code",
   "execution_count": 139,
   "id": "f594cc2f-2f3b-4484-b57a-150c46b43fda",
   "metadata": {},
   "outputs": [
    {
     "data": {
      "text/plain": [
       "[1, 4, 9, 16, 25]"
      ]
     },
     "execution_count": 139,
     "metadata": {},
     "output_type": "execute_result"
    }
   ],
   "source": [
    "el"
   ]
  },
  {
   "cell_type": "code",
   "execution_count": 140,
   "id": "4fc26634-59cd-4dae-a445-18c9bb2b34ae",
   "metadata": {},
   "outputs": [],
   "source": [
    "filen=[\"doc1.ppt\",\"doc2.pdf\",\"doc3pdf\",\"doc.py\"]"
   ]
  },
  {
   "cell_type": "code",
   "execution_count": 144,
   "id": "102634ca-8223-4738-9e5d-87c1821b68fc",
   "metadata": {},
   "outputs": [
    {
     "data": {
      "text/plain": [
       "['ppt', 'pdf', 'doc3pdf', 'py']"
      ]
     },
     "execution_count": 144,
     "metadata": {},
     "output_type": "execute_result"
    }
   ],
   "source": [
    "el=[fi.split(\".\")[-1] for fi in filen]\n",
    "el"
   ]
  },
  {
   "cell_type": "raw",
   "id": "052327c7-df72-4531-9ac7-2e028d89221c",
   "metadata": {},
   "source": [
    "n=\"rahul\"\n",
    "v=n.split()\n",
    "v"
   ]
  },
  {
   "cell_type": "code",
   "execution_count": 147,
   "id": "c42b8487-8a1a-4306-b3f1-23a6309f9008",
   "metadata": {},
   "outputs": [
    {
     "data": {
      "text/plain": [
       "['d', 'b', 'c']"
      ]
     },
     "execution_count": 147,
     "metadata": {},
     "output_type": "execute_result"
    }
   ],
   "source": [
    "v"
   ]
  },
  {
   "cell_type": "code",
   "execution_count": 148,
   "id": "24fff7fe-c62e-4ce5-9223-9bfa337fb9b0",
   "metadata": {},
   "outputs": [],
   "source": [
    "name=\"Rahul\""
   ]
  },
  {
   "cell_type": "code",
   "execution_count": 149,
   "id": "30d9a90d-de55-49c8-b340-860ecb6fc7bc",
   "metadata": {},
   "outputs": [
    {
     "data": {
      "text/plain": [
       "'Rahul'"
      ]
     },
     "execution_count": 149,
     "metadata": {},
     "output_type": "execute_result"
    }
   ],
   "source": [
    "name"
   ]
  },
  {
   "cell_type": "code",
   "execution_count": 150,
   "id": "a34f849e-a6d3-415c-8526-71e75f48eea3",
   "metadata": {},
   "outputs": [],
   "source": [
    "#conditional list comprehension"
   ]
  },
  {
   "cell_type": "code",
   "execution_count": 151,
   "id": "9f953cec-70b8-4054-81c7-2edb719edb08",
   "metadata": {},
   "outputs": [],
   "source": [
    "email=[\"ajaa@gmail.com\",\"rahul@123.com\",\"ll.@gmail.com\"]\n",
    "final=[e for e in email if e.endswith(\"@gmail.com\")]"
   ]
  },
  {
   "cell_type": "code",
   "execution_count": 152,
   "id": "b42551e3-7b0e-46a6-a6fd-bc34628eb103",
   "metadata": {},
   "outputs": [
    {
     "data": {
      "text/plain": [
       "['ajaa@gmail.com', 'll.@gmail.com']"
      ]
     },
     "execution_count": 152,
     "metadata": {},
     "output_type": "execute_result"
    }
   ],
   "source": [
    "final"
   ]
  },
  {
   "cell_type": "code",
   "execution_count": 153,
   "id": "7046ef04-cf2a-4e32-85ee-8837197064ce",
   "metadata": {},
   "outputs": [],
   "source": [
    "#nested list comprehension"
   ]
  },
  {
   "cell_type": "code",
   "execution_count": 157,
   "id": "0065794d-b232-4a8f-bbc0-86384ff0ee29",
   "metadata": {},
   "outputs": [],
   "source": [
    "pair=[]\n",
    "for x in [1,2,3]:\n",
    "    for y in [4,5,6]:\n",
    "        pair.append([x,y])"
   ]
  },
  {
   "cell_type": "code",
   "execution_count": 158,
   "id": "4af36a64-340c-4e63-ae7d-29c3099735d4",
   "metadata": {},
   "outputs": [
    {
     "data": {
      "text/plain": [
       "[[1, 4], [1, 5], [1, 6], [2, 4], [2, 5], [2, 6], [3, 4], [3, 5], [3, 6]]"
      ]
     },
     "execution_count": 158,
     "metadata": {},
     "output_type": "execute_result"
    }
   ],
   "source": [
    "pair"
   ]
  },
  {
   "cell_type": "code",
   "execution_count": 162,
   "id": "5a2a944c-b957-46e8-b232-9e50840b0a63",
   "metadata": {},
   "outputs": [],
   "source": [
    "y=[el for el in pair if el[0]+el[1]==5]"
   ]
  },
  {
   "cell_type": "code",
   "execution_count": 163,
   "id": "8c1f2b4f-4e1c-4f0d-a71c-92aa48f994de",
   "metadata": {},
   "outputs": [
    {
     "data": {
      "text/plain": [
       "[[1, 4]]"
      ]
     },
     "execution_count": 163,
     "metadata": {},
     "output_type": "execute_result"
    }
   ],
   "source": [
    "y"
   ]
  },
  {
   "cell_type": "code",
   "execution_count": 164,
   "id": "513eb02c-ac7e-4c69-bbd9-fae3585286cb",
   "metadata": {},
   "outputs": [],
   "source": [
    "final=[[x,y] for x in [1,2,3] for y in [4,5,6]]"
   ]
  },
  {
   "cell_type": "code",
   "execution_count": 165,
   "id": "f1500355-f433-4913-bce8-5a79b80a5641",
   "metadata": {},
   "outputs": [
    {
     "data": {
      "text/plain": [
       "[[1, 4], [1, 5], [1, 6], [2, 4], [2, 5], [2, 6], [3, 4], [3, 5], [3, 6]]"
      ]
     },
     "execution_count": 165,
     "metadata": {},
     "output_type": "execute_result"
    }
   ],
   "source": [
    "final"
   ]
  },
  {
   "cell_type": "code",
   "execution_count": 166,
   "id": "25d12234-b851-45b7-b33d-f7f1aea4dc16",
   "metadata": {},
   "outputs": [],
   "source": [
    "final=[[x+y] for x in [1,2,3] for y in [4,5,6]]"
   ]
  },
  {
   "cell_type": "code",
   "execution_count": 167,
   "id": "7ca5f870-4076-443e-817e-a0234481d538",
   "metadata": {},
   "outputs": [
    {
     "data": {
      "text/plain": [
       "[[5], [6], [7], [6], [7], [8], [7], [8], [9]]"
      ]
     },
     "execution_count": 167,
     "metadata": {},
     "output_type": "execute_result"
    }
   ],
   "source": [
    "final"
   ]
  },
  {
   "cell_type": "code",
   "execution_count": 168,
   "id": "00de2da9-578b-4136-9dce-dbfebbd08a26",
   "metadata": {},
   "outputs": [],
   "source": [
    "##stack and queue"
   ]
  },
  {
   "cell_type": "code",
   "execution_count": 169,
   "id": "05e8ef2c-c6fc-4728-bdf9-913f493a2e29",
   "metadata": {},
   "outputs": [],
   "source": [
    "#stack last element add remove first"
   ]
  },
  {
   "cell_type": "code",
   "execution_count": 173,
   "id": "0c0cfc35-3c14-4941-a308-ac02865dad55",
   "metadata": {},
   "outputs": [],
   "source": [
    "stack1=[]\n",
    "stack1.append(\"1\")\n",
    "stack1.append(\"2\")\n",
    "stack1.append(\"3\")"
   ]
  },
  {
   "cell_type": "code",
   "execution_count": 174,
   "id": "60af7389-3e34-4f9e-a8fb-e11b25b81991",
   "metadata": {},
   "outputs": [
    {
     "data": {
      "text/plain": [
       "'3'"
      ]
     },
     "execution_count": 174,
     "metadata": {},
     "output_type": "execute_result"
    }
   ],
   "source": [
    "stack1.pop()"
   ]
  },
  {
   "cell_type": "code",
   "execution_count": 175,
   "id": "69f9804f-524c-4fe2-9a24-84aeebb037e2",
   "metadata": {},
   "outputs": [],
   "source": [
    "browser=[]\n",
    "browser.append(\"home\")\n",
    "browser.append(\"about us\")\n",
    "browser.append(\"contact\")"
   ]
  },
  {
   "cell_type": "code",
   "execution_count": 176,
   "id": "b6a5b2eb-52eb-4636-ba04-9a91af595903",
   "metadata": {},
   "outputs": [
    {
     "data": {
      "text/plain": [
       "['home', 'about us', 'contact']"
      ]
     },
     "execution_count": 176,
     "metadata": {},
     "output_type": "execute_result"
    }
   ],
   "source": [
    "browser"
   ]
  },
  {
   "cell_type": "code",
   "execution_count": 177,
   "id": "26b9d44f-b511-4907-bb64-58fc0174fdbb",
   "metadata": {},
   "outputs": [
    {
     "data": {
      "text/plain": [
       "'contact'"
      ]
     },
     "execution_count": 177,
     "metadata": {},
     "output_type": "execute_result"
    }
   ],
   "source": [
    "browser.pop()"
   ]
  },
  {
   "cell_type": "code",
   "execution_count": 178,
   "id": "fe1bf127-5f45-4aa9-868f-9345b262515f",
   "metadata": {},
   "outputs": [],
   "source": [
    "##Queue they follow first in first out\n",
    "##Two end SEQUENCIAL ORDER MAI MANAGE"
   ]
  },
  {
   "cell_type": "code",
   "execution_count": 179,
   "id": "598c33ed-49bc-424d-9a9f-bc5272f3069c",
   "metadata": {},
   "outputs": [
    {
     "data": {
      "text/plain": [
       "['home', 'about us', 'contact']"
      ]
     },
     "execution_count": 179,
     "metadata": {},
     "output_type": "execute_result"
    }
   ],
   "source": [
    "browser=[]\n",
    "browser.append(\"home\")\n",
    "browser.append(\"about us\")\n",
    "browser.append(\"contact\")\n",
    "browser"
   ]
  },
  {
   "cell_type": "code",
   "execution_count": 180,
   "id": "f9d00fb0-6540-4b71-956a-9e007dcdcdd6",
   "metadata": {},
   "outputs": [
    {
     "data": {
      "text/plain": [
       "'home'"
      ]
     },
     "execution_count": 180,
     "metadata": {},
     "output_type": "execute_result"
    }
   ],
   "source": [
    "browser.pop(0)"
   ]
  },
  {
   "cell_type": "code",
   "execution_count": 184,
   "id": "7e92aab0-3e65-4ef6-b7e2-1f3aec470337",
   "metadata": {},
   "outputs": [],
   "source": [
    "from collections import deque\n",
    "checkout = deque();\n",
    "checkout.append(\"1\");\n",
    "checkout.append(\"2\");\n",
    "checkout.append(\"3\");\n",
    "checkout.append(\"4\");\n"
   ]
  },
  {
   "cell_type": "code",
   "execution_count": 185,
   "id": "be517351-ea13-4960-b264-ea1579c4c22c",
   "metadata": {},
   "outputs": [
    {
     "data": {
      "text/plain": [
       "deque(['1', '2', '3', '4'])"
      ]
     },
     "execution_count": 185,
     "metadata": {},
     "output_type": "execute_result"
    }
   ],
   "source": [
    "checkout\n"
   ]
  },
  {
   "cell_type": "code",
   "execution_count": 186,
   "id": "7a03686b-90ab-4658-9938-00eecf42fbb3",
   "metadata": {},
   "outputs": [
    {
     "name": "stdout",
     "output_type": "stream",
     "text": [
      "serving 1\n",
      "serving 2\n",
      "serving 3\n",
      "serving 4\n"
     ]
    }
   ],
   "source": [
    "while checkout:\n",
    "    c=checkout.popleft()\n",
    "    print(\"serving\",c)"
   ]
  },
  {
   "cell_type": "code",
   "execution_count": 190,
   "id": "371d41b7-e550-4b73-a0d0-71d261e43edf",
   "metadata": {},
   "outputs": [
    {
     "name": "stdout",
     "output_type": "stream",
     "text": [
      "1\n",
      "2\n",
      "3\n",
      "4\n"
     ]
    },
    {
     "ename": "IndexError",
     "evalue": "pop from an empty deque",
     "output_type": "error",
     "traceback": [
      "\u001b[0;31m---------------------------------------------------------------------------\u001b[0m",
      "\u001b[0;31mIndexError\u001b[0m                                Traceback (most recent call last)",
      "Cell \u001b[0;32mIn[190], line 8\u001b[0m\n\u001b[1;32m      6\u001b[0m checkout\u001b[38;5;241m.\u001b[39mappend(\u001b[38;5;124m\"\u001b[39m\u001b[38;5;124m4\u001b[39m\u001b[38;5;124m\"\u001b[39m);\n\u001b[1;32m      7\u001b[0m \u001b[38;5;28;01mwhile\u001b[39;00m checkout\u001b[38;5;241m!=\u001b[39m\u001b[38;5;124m\"\u001b[39m\u001b[38;5;124mfalse\u001b[39m\u001b[38;5;124m\"\u001b[39m:\n\u001b[0;32m----> 8\u001b[0m     \u001b[38;5;28mprint\u001b[39m(\u001b[43mcheckout\u001b[49m\u001b[38;5;241;43m.\u001b[39;49m\u001b[43mpopleft\u001b[49m\u001b[43m(\u001b[49m\u001b[43m)\u001b[49m)\n",
      "\u001b[0;31mIndexError\u001b[0m: pop from an empty deque"
     ]
    }
   ],
   "source": [
    "from collections import deque\n",
    "checkout = deque();\n",
    "checkout.append(\"1\");\n",
    "checkout.append(\"2\");\n",
    "checkout.append(\"3\");\n",
    "checkout.append(\"4\");\n",
    "while checkout!=\"false\":\n",
    "    print(checkout.popleft())"
   ]
  },
  {
   "cell_type": "code",
   "execution_count": 192,
   "id": "78288b37-36d2-468f-9d96-4a38daeaca1c",
   "metadata": {},
   "outputs": [
    {
     "ename": "ImportError",
     "evalue": "cannot import name 'enqueue' from 'collections' (/opt/conda/lib/python3.10/collections/__init__.py)",
     "output_type": "error",
     "traceback": [
      "\u001b[0;31m---------------------------------------------------------------------------\u001b[0m",
      "\u001b[0;31mImportError\u001b[0m                               Traceback (most recent call last)",
      "Cell \u001b[0;32mIn[192], line 1\u001b[0m\n\u001b[0;32m----> 1\u001b[0m \u001b[38;5;28;01mfrom\u001b[39;00m \u001b[38;5;21;01mcollections\u001b[39;00m \u001b[38;5;28;01mimport\u001b[39;00m enqueue\n\u001b[1;32m      2\u001b[0m checkout\u001b[38;5;241m=\u001b[39mqueue()\n\u001b[1;32m      3\u001b[0m checkout\u001b[38;5;241m.\u001b[39mappend(\u001b[38;5;124m\"\u001b[39m\u001b[38;5;124m1\u001b[39m\u001b[38;5;124m\"\u001b[39m);\n",
      "\u001b[0;31mImportError\u001b[0m: cannot import name 'enqueue' from 'collections' (/opt/conda/lib/python3.10/collections/__init__.py)"
     ]
    }
   ],
   "source": [
    "from collections import enqueue\n",
    "checkout=queue()\n",
    "checkout.append(\"1\");\n",
    "checkout.append(\"2\");\n",
    "checkout.append(\"3\");\n",
    "checkout.append(\"4\");\n",
    "while checkout!=\"false\":\n",
    "    print(checkout.popleft())"
   ]
  },
  {
   "cell_type": "code",
   "execution_count": 1,
   "id": "dc3e43e2-389f-4a90-b8c4-035eb5c0bb88",
   "metadata": {},
   "outputs": [
    {
     "data": {
      "text/plain": [
       "5"
      ]
     },
     "execution_count": 1,
     "metadata": {},
     "output_type": "execute_result"
    }
   ],
   "source": [
    "5"
   ]
  },
  {
   "cell_type": "code",
   "execution_count": 3,
   "id": "4dc9c529-e947-444d-8884-ca89802d4210",
   "metadata": {},
   "outputs": [
    {
     "ename": "AttributeError",
     "evalue": "'str' object has no attribute 'remove'",
     "output_type": "error",
     "traceback": [
      "\u001b[0;31m---------------------------------------------------------------------------\u001b[0m",
      "\u001b[0;31mAttributeError\u001b[0m                            Traceback (most recent call last)",
      "Cell \u001b[0;32mIn[3], line 2\u001b[0m\n\u001b[1;32m      1\u001b[0m a\u001b[38;5;241m=\u001b[39m\u001b[38;5;124m\"\u001b[39m\u001b[38;5;124mraahual\u001b[39m\u001b[38;5;124m\"\u001b[39m\n\u001b[0;32m----> 2\u001b[0m \u001b[43ma\u001b[49m\u001b[38;5;241;43m.\u001b[39;49m\u001b[43mremove\u001b[49m(\u001b[38;5;124m\"\u001b[39m\u001b[38;5;124ma\u001b[39m\u001b[38;5;124m\"\u001b[39m)\n\u001b[1;32m      3\u001b[0m a\n",
      "\u001b[0;31mAttributeError\u001b[0m: 'str' object has no attribute 'remove'"
     ]
    }
   ],
   "source": [
    "a=\"raahual\"\n",
    "a.remove(\"a\")\n",
    "a"
   ]
  },
  {
   "cell_type": "code",
   "execution_count": null,
   "id": "cda4fc84-5511-4a4b-ba57-2d385ec0dfee",
   "metadata": {},
   "outputs": [],
   "source": []
  }
 ],
 "metadata": {
  "kernelspec": {
   "display_name": "Python 3 (ipykernel)",
   "language": "python",
   "name": "python3"
  },
  "language_info": {
   "codemirror_mode": {
    "name": "ipython",
    "version": 3
   },
   "file_extension": ".py",
   "mimetype": "text/x-python",
   "name": "python",
   "nbconvert_exporter": "python",
   "pygments_lexer": "ipython3",
   "version": "3.10.8"
  }
 },
 "nbformat": 4,
 "nbformat_minor": 5
}
