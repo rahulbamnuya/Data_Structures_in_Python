{
 "cells": [
  {
   "cell_type": "code",
   "execution_count": 2,
   "id": "52687d6d-20df-45a5-a731-5a0f36bdf93b",
   "metadata": {},
   "outputs": [
    {
     "data": {
      "text/plain": [
       "5"
      ]
     },
     "execution_count": 2,
     "metadata": {},
     "output_type": "execute_result"
    }
   ],
   "source": [
    "5\n"
   ]
  },
  {
   "cell_type": "code",
   "execution_count": 3,
   "id": "41313cec-c9a7-4436-9e45-3ea101ea2d65",
   "metadata": {},
   "outputs": [
    {
     "data": {
      "text/plain": [
       "{1, 2, 3}"
      ]
     },
     "execution_count": 3,
     "metadata": {},
     "output_type": "execute_result"
    }
   ],
   "source": [
    "t={1,2,2,3}\n",
    "t"
   ]
  },
  {
   "cell_type": "code",
   "execution_count": 4,
   "id": "0a78357d-5833-4356-b8ac-204c1c0c773a",
   "metadata": {},
   "outputs": [
    {
     "data": {
      "text/plain": [
       "{1, 2}"
      ]
     },
     "execution_count": 4,
     "metadata": {},
     "output_type": "execute_result"
    }
   ],
   "source": [
    "t2={2,1,2}\n",
    "\n",
    "t and t2"
   ]
  },
  {
   "cell_type": "code",
   "execution_count": 5,
   "id": "fddae550-1516-4a13-aee9-55c9ab50c270",
   "metadata": {},
   "outputs": [
    {
     "data": {
      "text/plain": [
       "{1, 2, 3}"
      ]
     },
     "execution_count": 5,
     "metadata": {},
     "output_type": "execute_result"
    }
   ],
   "source": [
    "t or t1"
   ]
  },
  {
   "cell_type": "code",
   "execution_count": 6,
   "id": "f276cd35-1b55-4e37-8541-b6ae6336c38a",
   "metadata": {},
   "outputs": [
    {
     "ename": "AttributeError",
     "evalue": "'set' object has no attribute 'append'",
     "output_type": "error",
     "traceback": [
      "\u001b[0;31m---------------------------------------------------------------------------\u001b[0m",
      "\u001b[0;31mAttributeError\u001b[0m                            Traceback (most recent call last)",
      "Cell \u001b[0;32mIn[6], line 1\u001b[0m\n\u001b[0;32m----> 1\u001b[0m \u001b[43mt\u001b[49m\u001b[38;5;241;43m.\u001b[39;49m\u001b[43mappend\u001b[49m(\u001b[38;5;241m4\u001b[39m)\n",
      "\u001b[0;31mAttributeError\u001b[0m: 'set' object has no attribute 'append'"
     ]
    }
   ],
   "source": [
    "t.append(4)"
   ]
  },
  {
   "cell_type": "code",
   "execution_count": 7,
   "id": "b71989b3-d8ad-4505-9672-e33aedff5d22",
   "metadata": {},
   "outputs": [],
   "source": [
    "t.add(4)"
   ]
  },
  {
   "cell_type": "code",
   "execution_count": 8,
   "id": "39755c78-77e3-4dc7-9746-c76e21c08c0f",
   "metadata": {},
   "outputs": [
    {
     "data": {
      "text/plain": [
       "{1, 2, 3, 4}"
      ]
     },
     "execution_count": 8,
     "metadata": {},
     "output_type": "execute_result"
    }
   ],
   "source": [
    "t"
   ]
  },
  {
   "cell_type": "code",
   "execution_count": 9,
   "id": "b4ee4a2d-581f-4e3d-9eee-32340c9e1c77",
   "metadata": {},
   "outputs": [
    {
     "data": {
      "text/plain": [
       "('pw', 1, 2, 3, True, 2.4)"
      ]
     },
     "execution_count": 9,
     "metadata": {},
     "output_type": "execute_result"
    }
   ],
   "source": [
    "#tupple are immutable\n",
    "tup=(\"pw\",1,2,3,True,2.4)\n",
    "tup"
   ]
  },
  {
   "cell_type": "code",
   "execution_count": 10,
   "id": "1748bdc2-e1e5-4285-96ba-78e040ada7d6",
   "metadata": {},
   "outputs": [
    {
     "data": {
      "text/plain": [
       "tuple"
      ]
     },
     "execution_count": 10,
     "metadata": {},
     "output_type": "execute_result"
    }
   ],
   "source": [
    "type(tup)"
   ]
  },
  {
   "cell_type": "code",
   "execution_count": 11,
   "id": "837e4c59-cf1b-475b-9a99-96ee2c842157",
   "metadata": {},
   "outputs": [
    {
     "data": {
      "text/plain": [
       "'pw'"
      ]
     },
     "execution_count": 11,
     "metadata": {},
     "output_type": "execute_result"
    }
   ],
   "source": [
    "tup[0]"
   ]
  },
  {
   "cell_type": "code",
   "execution_count": 12,
   "id": "3e548029-0a75-4bb8-a10e-c60ee2695309",
   "metadata": {},
   "outputs": [
    {
     "ename": "TypeError",
     "evalue": "'tuple' object does not support item assignment",
     "output_type": "error",
     "traceback": [
      "\u001b[0;31m---------------------------------------------------------------------------\u001b[0m",
      "\u001b[0;31mTypeError\u001b[0m                                 Traceback (most recent call last)",
      "Cell \u001b[0;32mIn[12], line 1\u001b[0m\n\u001b[0;32m----> 1\u001b[0m \u001b[43mtup\u001b[49m\u001b[43m[\u001b[49m\u001b[38;5;241;43m0\u001b[39;49m\u001b[43m]\u001b[49m\u001b[38;5;241m=\u001b[39m\u001b[38;5;241m2\u001b[39m\n",
      "\u001b[0;31mTypeError\u001b[0m: 'tuple' object does not support item assignment"
     ]
    }
   ],
   "source": [
    "tup[0]=2"
   ]
  },
  {
   "cell_type": "code",
   "execution_count": 13,
   "id": "af94bdb8-c250-40c2-8bed-02790cc0de3a",
   "metadata": {},
   "outputs": [
    {
     "ename": "TypeError",
     "evalue": "'tuple' object does not support item assignment",
     "output_type": "error",
     "traceback": [
      "\u001b[0;31m---------------------------------------------------------------------------\u001b[0m",
      "\u001b[0;31mTypeError\u001b[0m                                 Traceback (most recent call last)",
      "Cell \u001b[0;32mIn[13], line 1\u001b[0m\n\u001b[0;32m----> 1\u001b[0m \u001b[43mtup\u001b[49m\u001b[43m[\u001b[49m\u001b[38;5;241;43m1\u001b[39;49m\u001b[43m]\u001b[49m\u001b[38;5;241m=\u001b[39m\u001b[38;5;241m2\u001b[39m\n",
      "\u001b[0;31mTypeError\u001b[0m: 'tuple' object does not support item assignment"
     ]
    }
   ],
   "source": [
    "tup[1]=2"
   ]
  },
  {
   "cell_type": "code",
   "execution_count": 14,
   "id": "e7df502c-4158-42fe-a45d-1662175fc5c0",
   "metadata": {},
   "outputs": [
    {
     "ename": "TypeError",
     "evalue": "'tuple' object does not support item assignment",
     "output_type": "error",
     "traceback": [
      "\u001b[0;31m---------------------------------------------------------------------------\u001b[0m",
      "\u001b[0;31mTypeError\u001b[0m                                 Traceback (most recent call last)",
      "Cell \u001b[0;32mIn[14], line 2\u001b[0m\n\u001b[1;32m      1\u001b[0m emp_id\u001b[38;5;241m=\u001b[39m(\u001b[38;5;241m1\u001b[39m,\u001b[38;5;241m2\u001b[39m,\u001b[38;5;241m3\u001b[39m,\u001b[38;5;241m4\u001b[39m,\u001b[38;5;241m5\u001b[39m)\n\u001b[0;32m----> 2\u001b[0m \u001b[43memp_id\u001b[49m\u001b[43m[\u001b[49m\u001b[38;5;241;43m0\u001b[39;49m\u001b[43m]\u001b[49m\u001b[38;5;241m=\u001b[39m\u001b[38;5;241m100\u001b[39m\n",
      "\u001b[0;31mTypeError\u001b[0m: 'tuple' object does not support item assignment"
     ]
    }
   ],
   "source": [
    "emp_id=(1,2,3,4,5)\n",
    "emp_id[0]=100"
   ]
  },
  {
   "cell_type": "code",
   "execution_count": 1,
   "id": "6ecc2bce-a5d2-4048-bce8-652771de7b20",
   "metadata": {},
   "outputs": [
    {
     "ename": "NameError",
     "evalue": "name 'tu' is not defined",
     "output_type": "error",
     "traceback": [
      "\u001b[0;31m---------------------------------------------------------------------------\u001b[0m",
      "\u001b[0;31mNameError\u001b[0m                                 Traceback (most recent call last)",
      "Cell \u001b[0;32mIn[1], line 1\u001b[0m\n\u001b[0;32m----> 1\u001b[0m \u001b[43mtu\u001b[49m\n",
      "\u001b[0;31mNameError\u001b[0m: name 'tu' is not defined"
     ]
    }
   ],
   "source": [
    "tu"
   ]
  },
  {
   "cell_type": "code",
   "execution_count": 3,
   "id": "f63b1aa4-c8b5-4210-9fda-38034ba733a7",
   "metadata": {},
   "outputs": [
    {
     "data": {
      "text/plain": [
       "[1, 2, 3]"
      ]
     },
     "execution_count": 3,
     "metadata": {},
     "output_type": "execute_result"
    }
   ],
   "source": [
    "l1=[1,2,3]\n",
    "l2=[4,5,6]\n",
    "l=l1 or l2\n",
    "l"
   ]
  },
  {
   "cell_type": "code",
   "execution_count": 7,
   "id": "2661139c-1f02-4401-9814-a6b83c0d2414",
   "metadata": {},
   "outputs": [
    {
     "data": {
      "text/plain": [
       "{1, 2, 3}"
      ]
     },
     "execution_count": 7,
     "metadata": {},
     "output_type": "execute_result"
    }
   ],
   "source": [
    "l1={1,2,3}\n",
    "l2={4,5,6}\n",
    "l=l1 or l2\n",
    "l"
   ]
  },
  {
   "cell_type": "code",
   "execution_count": 6,
   "id": "e1639ff0-3b6a-4fd6-8b21-1aa0a89b2d20",
   "metadata": {},
   "outputs": [
    {
     "data": {
      "text/plain": [
       "{1, 2, 3}"
      ]
     },
     "execution_count": 6,
     "metadata": {},
     "output_type": "execute_result"
    }
   ],
   "source": [
    "l"
   ]
  },
  {
   "cell_type": "code",
   "execution_count": 9,
   "id": "b8a01840-a368-45c5-8877-930edca10cf5",
   "metadata": {},
   "outputs": [
    {
     "data": {
      "text/plain": [
       "{4, 5, 6}"
      ]
     },
     "execution_count": 9,
     "metadata": {},
     "output_type": "execute_result"
    }
   ],
   "source": [
    "l1={1,2,3}\n",
    "l2={4,5,6}\n",
    "l=l1 and l2\n",
    "l"
   ]
  },
  {
   "cell_type": "code",
   "execution_count": 13,
   "id": "5866e272-7257-4417-8587-56f2b7e1073a",
   "metadata": {},
   "outputs": [
    {
     "data": {
      "text/plain": [
       "{4, 5, 6}"
      ]
     },
     "execution_count": 13,
     "metadata": {},
     "output_type": "execute_result"
    }
   ],
   "source": [
    "l1 and l2"
   ]
  },
  {
   "cell_type": "code",
   "execution_count": null,
   "id": "6d2caf25-fae2-43f2-a23f-631654879946",
   "metadata": {},
   "outputs": [],
   "source": []
  },
  {
   "cell_type": "code",
   "execution_count": null,
   "id": "d2fb8be9-9378-4438-96fb-ca7fca857bec",
   "metadata": {},
   "outputs": [],
   "source": [
    "5"
   ]
  },
  {
   "cell_type": "code",
   "execution_count": 12,
   "id": "292dffc2-0b01-47ab-a273-1f1517564ae1",
   "metadata": {},
   "outputs": [
    {
     "data": {
      "text/plain": [
       "5"
      ]
     },
     "execution_count": 12,
     "metadata": {},
     "output_type": "execute_result"
    }
   ],
   "source": [
    "5"
   ]
  },
  {
   "cell_type": "code",
   "execution_count": 14,
   "id": "111e55a6-5a49-4260-bf69-70e9b5c5f54f",
   "metadata": {},
   "outputs": [
    {
     "data": {
      "text/plain": [
       "1"
      ]
     },
     "execution_count": 14,
     "metadata": {},
     "output_type": "execute_result"
    }
   ],
   "source": [
    "t=(1,2,3,4)\n",
    "t.count(1)"
   ]
  },
  {
   "cell_type": "code",
   "execution_count": 19,
   "id": "9920e258-fff3-4278-a1f4-3ef655468d1d",
   "metadata": {},
   "outputs": [
    {
     "ename": "AttributeError",
     "evalue": "'tuple' object has no attribute 'find'",
     "output_type": "error",
     "traceback": [
      "\u001b[0;31m---------------------------------------------------------------------------\u001b[0m",
      "\u001b[0;31mAttributeError\u001b[0m                            Traceback (most recent call last)",
      "Cell \u001b[0;32mIn[19], line 1\u001b[0m\n\u001b[0;32m----> 1\u001b[0m \u001b[43mt\u001b[49m\u001b[38;5;241;43m.\u001b[39;49m\u001b[43mfind\u001b[49m(\u001b[38;5;241m1\u001b[39m)\n",
      "\u001b[0;31mAttributeError\u001b[0m: 'tuple' object has no attribute 'find'"
     ]
    }
   ],
   "source": [
    "t.find(1)"
   ]
  },
  {
   "cell_type": "code",
   "execution_count": 18,
   "id": "11f8218c-975d-49a4-bc5a-8a64ce08fb57",
   "metadata": {},
   "outputs": [
    {
     "data": {
      "text/plain": [
       "1"
      ]
     },
     "execution_count": 18,
     "metadata": {},
     "output_type": "execute_result"
    }
   ],
   "source": [
    "t.index(2)"
   ]
  },
  {
   "cell_type": "code",
   "execution_count": 21,
   "id": "34d6c462-a04f-48b8-8aca-f4bf6f12b153",
   "metadata": {},
   "outputs": [
    {
     "ename": "NameError",
     "evalue": "name 'tup1' is not defined",
     "output_type": "error",
     "traceback": [
      "\u001b[0;31m---------------------------------------------------------------------------\u001b[0m",
      "\u001b[0;31mNameError\u001b[0m                                 Traceback (most recent call last)",
      "Cell \u001b[0;32mIn[21], line 1\u001b[0m\n\u001b[0;32m----> 1\u001b[0m \u001b[43mtup1\u001b[49m\n",
      "\u001b[0;31mNameError\u001b[0m: name 'tup1' is not defined"
     ]
    }
   ],
   "source": [
    "tup1"
   ]
  },
  {
   "cell_type": "code",
   "execution_count": 20,
   "id": "56e9188a-357a-4355-86a3-f14138287625",
   "metadata": {},
   "outputs": [
    {
     "data": {
      "text/plain": [
       "5"
      ]
     },
     "execution_count": 20,
     "metadata": {},
     "output_type": "execute_result"
    }
   ],
   "source": [
    "5"
   ]
  },
  {
   "cell_type": "code",
   "execution_count": 22,
   "id": "f6944f0a-3ae4-4232-8a76-2120e224ef16",
   "metadata": {},
   "outputs": [
    {
     "data": {
      "text/plain": [
       "(1, 2, 3, 4)"
      ]
     },
     "execution_count": 22,
     "metadata": {},
     "output_type": "execute_result"
    }
   ],
   "source": [
    "t"
   ]
  },
  {
   "cell_type": "code",
   "execution_count": 23,
   "id": "766a6f8d-a2c5-4245-9dc0-2b9736a9af1e",
   "metadata": {},
   "outputs": [
    {
     "data": {
      "text/plain": [
       "(1, 2, 3, 4)"
      ]
     },
     "execution_count": 23,
     "metadata": {},
     "output_type": "execute_result"
    }
   ],
   "source": [
    "t[0:4]"
   ]
  },
  {
   "cell_type": "code",
   "execution_count": 26,
   "id": "51be6c8e-8d70-4d72-b789-fa0f3273ca47",
   "metadata": {},
   "outputs": [
    {
     "data": {
      "text/plain": [
       "(4, 3, 2, 1)"
      ]
     },
     "execution_count": 26,
     "metadata": {},
     "output_type": "execute_result"
    }
   ],
   "source": [
    "t[::-1]"
   ]
  },
  {
   "cell_type": "code",
   "execution_count": 28,
   "id": "87dcc52b-9c84-4093-8a23-65418b5103a5",
   "metadata": {},
   "outputs": [
    {
     "data": {
      "text/plain": [
       "(4, 2)"
      ]
     },
     "execution_count": 28,
     "metadata": {},
     "output_type": "execute_result"
    }
   ],
   "source": [
    "t[::-2]"
   ]
  },
  {
   "cell_type": "code",
   "execution_count": 29,
   "id": "ea0dc7ba-5e82-4dc1-9d4b-6b6d449afd9c",
   "metadata": {},
   "outputs": [
    {
     "ename": "AttributeError",
     "evalue": "'tuple' object has no attribute 'reverse'",
     "output_type": "error",
     "traceback": [
      "\u001b[0;31m---------------------------------------------------------------------------\u001b[0m",
      "\u001b[0;31mAttributeError\u001b[0m                            Traceback (most recent call last)",
      "Cell \u001b[0;32mIn[29], line 1\u001b[0m\n\u001b[0;32m----> 1\u001b[0m \u001b[43mt\u001b[49m\u001b[38;5;241;43m.\u001b[39;49m\u001b[43mreverse\u001b[49m()\n",
      "\u001b[0;31mAttributeError\u001b[0m: 'tuple' object has no attribute 'reverse'"
     ]
    }
   ],
   "source": [
    "t.reverse()"
   ]
  },
  {
   "cell_type": "code",
   "execution_count": 30,
   "id": "f68635e0-0cc8-4b6b-8bd8-59ba8d1a85d7",
   "metadata": {},
   "outputs": [],
   "source": [
    "p=[1,2,5]\n",
    "p.reverse()"
   ]
  },
  {
   "cell_type": "code",
   "execution_count": 31,
   "id": "18d06f43-c4ae-4959-a19e-70e163917c01",
   "metadata": {},
   "outputs": [
    {
     "data": {
      "text/plain": [
       "[5, 2, 1]"
      ]
     },
     "execution_count": 31,
     "metadata": {},
     "output_type": "execute_result"
    }
   ],
   "source": [
    "p"
   ]
  },
  {
   "cell_type": "code",
   "execution_count": 32,
   "id": "378b736c-81b9-4dc1-af83-abce53c328d5",
   "metadata": {},
   "outputs": [
    {
     "data": {
      "text/plain": [
       "[1, 2, 5]"
      ]
     },
     "execution_count": 32,
     "metadata": {},
     "output_type": "execute_result"
    }
   ],
   "source": [
    "p[::-1]"
   ]
  },
  {
   "cell_type": "code",
   "execution_count": 33,
   "id": "d2b1c1d4-29a9-4b89-8df2-fa9a103f1c1f",
   "metadata": {},
   "outputs": [
    {
     "data": {
      "text/plain": [
       "[5, 2, 1]"
      ]
     },
     "execution_count": 33,
     "metadata": {},
     "output_type": "execute_result"
    }
   ],
   "source": [
    "p"
   ]
  },
  {
   "cell_type": "code",
   "execution_count": 35,
   "id": "83273715-065b-4878-bb03-06dc7094711f",
   "metadata": {},
   "outputs": [
    {
     "ename": "AttributeError",
     "evalue": "'tuple' object has no attribute 'reverse'",
     "output_type": "error",
     "traceback": [
      "\u001b[0;31m---------------------------------------------------------------------------\u001b[0m",
      "\u001b[0;31mAttributeError\u001b[0m                            Traceback (most recent call last)",
      "Cell \u001b[0;32mIn[35], line 1\u001b[0m\n\u001b[0;32m----> 1\u001b[0m \u001b[43mt\u001b[49m\u001b[38;5;241;43m.\u001b[39;49m\u001b[43mreverse\u001b[49m()\n",
      "\u001b[0;31mAttributeError\u001b[0m: 'tuple' object has no attribute 'reverse'"
     ]
    }
   ],
   "source": [
    "t.reverse()"
   ]
  },
  {
   "cell_type": "code",
   "execution_count": 36,
   "id": "08e5cae5-ee32-434d-8d7b-bcb7b0042cb7",
   "metadata": {},
   "outputs": [],
   "source": [
    "tup=(1,2,3,\"pw\",\"5\")"
   ]
  },
  {
   "cell_type": "code",
   "execution_count": 37,
   "id": "125ca752-81b0-4278-b45b-6439bbf3a00e",
   "metadata": {},
   "outputs": [
    {
     "ename": "AttributeError",
     "evalue": "'tuple' object has no attribute 'reverse'",
     "output_type": "error",
     "traceback": [
      "\u001b[0;31m---------------------------------------------------------------------------\u001b[0m",
      "\u001b[0;31mAttributeError\u001b[0m                            Traceback (most recent call last)",
      "Cell \u001b[0;32mIn[37], line 1\u001b[0m\n\u001b[0;32m----> 1\u001b[0m \u001b[43mtup\u001b[49m\u001b[38;5;241;43m.\u001b[39;49m\u001b[43mreverse\u001b[49m()\n",
      "\u001b[0;31mAttributeError\u001b[0m: 'tuple' object has no attribute 'reverse'"
     ]
    }
   ],
   "source": [
    "tup.reverse()"
   ]
  },
  {
   "cell_type": "code",
   "execution_count": 39,
   "id": "f52de8cc-d0ac-4e0f-857a-5a19fbdeea3d",
   "metadata": {},
   "outputs": [
    {
     "name": "stdout",
     "output_type": "stream",
     "text": [
      "1 <class 'int'>\n",
      "2 <class 'int'>\n",
      "3 <class 'int'>\n",
      "pw <class 'str'>\n",
      "5 <class 'str'>\n"
     ]
    }
   ],
   "source": [
    "for i in tup:\n",
    "    print(i,type(i))"
   ]
  },
  {
   "cell_type": "code",
   "execution_count": 40,
   "id": "da5774c1-1007-4000-8ffb-8c0b3122df93",
   "metadata": {},
   "outputs": [
    {
     "data": {
      "text/plain": [
       "2"
      ]
     },
     "execution_count": 40,
     "metadata": {},
     "output_type": "execute_result"
    }
   ],
   "source": [
    "t1=[1,2]\n",
    "max(t1)\n"
   ]
  },
  {
   "cell_type": "code",
   "execution_count": 41,
   "id": "6a915a83-4729-4b2d-91ff-3a7f33158601",
   "metadata": {},
   "outputs": [
    {
     "data": {
      "text/plain": [
       "1"
      ]
     },
     "execution_count": 41,
     "metadata": {},
     "output_type": "execute_result"
    }
   ],
   "source": [
    "min(t1)"
   ]
  },
  {
   "cell_type": "code",
   "execution_count": 42,
   "id": "72caae20-2fe4-4140-a149-49024866cc48",
   "metadata": {},
   "outputs": [
    {
     "data": {
      "text/plain": [
       "5"
      ]
     },
     "execution_count": 42,
     "metadata": {},
     "output_type": "execute_result"
    }
   ],
   "source": [
    "t=(1,2,3,4,5)\n",
    "max(t)"
   ]
  },
  {
   "cell_type": "code",
   "execution_count": 43,
   "id": "7dd5e8c9-c8f4-435b-889c-c715f1a719ee",
   "metadata": {},
   "outputs": [
    {
     "data": {
      "text/plain": [
       "1"
      ]
     },
     "execution_count": 43,
     "metadata": {},
     "output_type": "execute_result"
    }
   ],
   "source": [
    "min(t)"
   ]
  },
  {
   "cell_type": "code",
   "execution_count": 44,
   "id": "e517c442-7df2-47fa-b41c-0df4a1929897",
   "metadata": {},
   "outputs": [],
   "source": [
    "t2=t+(1,2,3)"
   ]
  },
  {
   "cell_type": "code",
   "execution_count": 45,
   "id": "5a241991-4070-4f11-8044-fd8e9f7b01d7",
   "metadata": {},
   "outputs": [
    {
     "data": {
      "text/plain": [
       "(1, 2, 3, 4, 5, 1, 2, 3)"
      ]
     },
     "execution_count": 45,
     "metadata": {},
     "output_type": "execute_result"
    }
   ],
   "source": [
    "t2"
   ]
  },
  {
   "cell_type": "code",
   "execution_count": 46,
   "id": "7f2fec2b-839e-4400-b0ce-7aabc2db9f5b",
   "metadata": {},
   "outputs": [
    {
     "data": {
      "text/plain": [
       "[1, 2]"
      ]
     },
     "execution_count": 46,
     "metadata": {},
     "output_type": "execute_result"
    }
   ],
   "source": [
    "t1"
   ]
  },
  {
   "cell_type": "code",
   "execution_count": 47,
   "id": "68244a35-b3a2-4808-a80c-abf09bac025b",
   "metadata": {},
   "outputs": [
    {
     "data": {
      "text/plain": [
       "((1, 2, 3, 4, 5), (6, 4, 7, 8, 5))"
      ]
     },
     "execution_count": 47,
     "metadata": {},
     "output_type": "execute_result"
    }
   ],
   "source": [
    "t1=(1,2,3,4,5)\n",
    "t2=(6,4,7,8,5)\n",
    "t=(t1,t2)\n",
    "t"
   ]
  },
  {
   "cell_type": "code",
   "execution_count": 48,
   "id": "0cf2367d-201b-4fc1-bd80-5e136e3a7d6f",
   "metadata": {},
   "outputs": [],
   "source": [
    "del t"
   ]
  },
  {
   "cell_type": "code",
   "execution_count": 49,
   "id": "916ac044-0039-4ef0-a75f-959e7deefc03",
   "metadata": {},
   "outputs": [
    {
     "ename": "NameError",
     "evalue": "name 't' is not defined",
     "output_type": "error",
     "traceback": [
      "\u001b[0;31m---------------------------------------------------------------------------\u001b[0m",
      "\u001b[0;31mNameError\u001b[0m                                 Traceback (most recent call last)",
      "Cell \u001b[0;32mIn[49], line 1\u001b[0m\n\u001b[0;32m----> 1\u001b[0m \u001b[43mt\u001b[49m\n",
      "\u001b[0;31mNameError\u001b[0m: name 't' is not defined"
     ]
    }
   ],
   "source": [
    "t"
   ]
  },
  {
   "cell_type": "code",
   "execution_count": 50,
   "id": "1949e251-236e-4c9d-bd9f-9807aa82e15c",
   "metadata": {},
   "outputs": [
    {
     "data": {
      "text/plain": [
       "(1, 2, 3, 4, 5)"
      ]
     },
     "execution_count": 50,
     "metadata": {},
     "output_type": "execute_result"
    }
   ],
   "source": [
    "t1"
   ]
  },
  {
   "cell_type": "code",
   "execution_count": 51,
   "id": "9b1b46b9-bbd9-497a-932b-289b3447a6bc",
   "metadata": {},
   "outputs": [
    {
     "data": {
      "text/plain": [
       "5"
      ]
     },
     "execution_count": 51,
     "metadata": {},
     "output_type": "execute_result"
    }
   ],
   "source": [
    "len(t1)"
   ]
  },
  {
   "cell_type": "code",
   "execution_count": 52,
   "id": "694761ef-f2e7-4bc5-b0a0-a8ce4c92dedf",
   "metadata": {},
   "outputs": [
    {
     "data": {
      "text/plain": [
       "True"
      ]
     },
     "execution_count": 52,
     "metadata": {},
     "output_type": "execute_result"
    }
   ],
   "source": [
    "1 in t1"
   ]
  },
  {
   "cell_type": "code",
   "execution_count": 53,
   "id": "c458bd26-1e39-44d0-8a71-06f7082f95a3",
   "metadata": {},
   "outputs": [],
   "source": [
    "#Set data struectre\n",
    "#they are unorder and unique\n",
    "#they dont follow order not a list"
   ]
  },
  {
   "cell_type": "code",
   "execution_count": 54,
   "id": "70a58837-41bf-43dd-8e75-7165cb589eef",
   "metadata": {},
   "outputs": [],
   "source": [
    "#their is no ndex in it"
   ]
  },
  {
   "cell_type": "code",
   "execution_count": 55,
   "id": "e8b68717-58b5-4095-ba4d-2c7b5e1d4e7b",
   "metadata": {},
   "outputs": [],
   "source": [
    "a={}"
   ]
  },
  {
   "cell_type": "code",
   "execution_count": 56,
   "id": "af9744fb-9471-4ce3-a198-2be909251fe2",
   "metadata": {},
   "outputs": [
    {
     "ename": "SyntaxError",
     "evalue": "invalid syntax (1613472573.py, line 1)",
     "output_type": "error",
     "traceback": [
      "\u001b[0;36m  Cell \u001b[0;32mIn[56], line 1\u001b[0;36m\u001b[0m\n\u001b[0;31m    type()a\u001b[0m\n\u001b[0m          ^\u001b[0m\n\u001b[0;31mSyntaxError\u001b[0m\u001b[0;31m:\u001b[0m invalid syntax\n"
     ]
    }
   ],
   "source": [
    "type()a"
   ]
  },
  {
   "cell_type": "code",
   "execution_count": 57,
   "id": "575de5c9-a159-495e-84f6-b526b0c3059d",
   "metadata": {},
   "outputs": [
    {
     "data": {
      "text/plain": [
       "dict"
      ]
     },
     "execution_count": 57,
     "metadata": {},
     "output_type": "execute_result"
    }
   ],
   "source": [
    "type(a)"
   ]
  },
  {
   "cell_type": "code",
   "execution_count": 58,
   "id": "afba6285-0748-4bd4-ba19-39be644fd571",
   "metadata": {},
   "outputs": [
    {
     "data": {
      "text/plain": [
       "set"
      ]
     },
     "execution_count": 58,
     "metadata": {},
     "output_type": "execute_result"
    }
   ],
   "source": [
    "s={2}\n",
    "type(s)"
   ]
  },
  {
   "cell_type": "code",
   "execution_count": 59,
   "id": "609fbbe1-8167-445b-b92f-5482da93eefc",
   "metadata": {},
   "outputs": [
    {
     "ename": "AttributeError",
     "evalue": "'tuple' object has no attribute 'add'",
     "output_type": "error",
     "traceback": [
      "\u001b[0;31m---------------------------------------------------------------------------\u001b[0m",
      "\u001b[0;31mAttributeError\u001b[0m                            Traceback (most recent call last)",
      "Cell \u001b[0;32mIn[59], line 1\u001b[0m\n\u001b[0;32m----> 1\u001b[0m \u001b[43mt1\u001b[49m\u001b[38;5;241;43m.\u001b[39;49m\u001b[43madd\u001b[49m(\u001b[38;5;241m2\u001b[39m)\n",
      "\u001b[0;31mAttributeError\u001b[0m: 'tuple' object has no attribute 'add'"
     ]
    }
   ],
   "source": [
    "t1.add(2)"
   ]
  },
  {
   "cell_type": "code",
   "execution_count": 60,
   "id": "ad6f10b8-37aa-4ffd-9002-7a18088fd160",
   "metadata": {},
   "outputs": [
    {
     "ename": "AttributeError",
     "evalue": "'tuple' object has no attribute 'append'",
     "output_type": "error",
     "traceback": [
      "\u001b[0;31m---------------------------------------------------------------------------\u001b[0m",
      "\u001b[0;31mAttributeError\u001b[0m                            Traceback (most recent call last)",
      "Cell \u001b[0;32mIn[60], line 1\u001b[0m\n\u001b[0;32m----> 1\u001b[0m \u001b[43mt1\u001b[49m\u001b[38;5;241;43m.\u001b[39;49m\u001b[43mappend\u001b[49m(\u001b[38;5;241m1\u001b[39m)\n",
      "\u001b[0;31mAttributeError\u001b[0m: 'tuple' object has no attribute 'append'"
     ]
    }
   ],
   "source": [
    "t1.append(1)"
   ]
  },
  {
   "cell_type": "code",
   "execution_count": 61,
   "id": "5124904a-2f8a-4a64-ad41-3d855dbab939",
   "metadata": {},
   "outputs": [
    {
     "data": {
      "text/plain": [
       "{1, 2, 3, 'pw skill'}"
      ]
     },
     "execution_count": 61,
     "metadata": {},
     "output_type": "execute_result"
    }
   ],
   "source": [
    "se={1,2,3,2,\"pw skill\",\"pw skill\"}\n",
    "se"
   ]
  },
  {
   "cell_type": "code",
   "execution_count": 62,
   "id": "94b012b0-67bd-4b4c-ba8f-669e20b8335b",
   "metadata": {},
   "outputs": [],
   "source": [
    "se.add(1)"
   ]
  },
  {
   "cell_type": "code",
   "execution_count": 63,
   "id": "6f998e51-b200-43a6-bde4-f99ed90bc440",
   "metadata": {},
   "outputs": [
    {
     "data": {
      "text/plain": [
       "{1, 2, 3, 'pw skill'}"
      ]
     },
     "execution_count": 63,
     "metadata": {},
     "output_type": "execute_result"
    }
   ],
   "source": [
    "se"
   ]
  },
  {
   "cell_type": "code",
   "execution_count": 64,
   "id": "3a3853f6-0ca7-4b74-a63a-a68fffea2b78",
   "metadata": {},
   "outputs": [
    {
     "ename": "AttributeError",
     "evalue": "'set' object has no attribute 'append'",
     "output_type": "error",
     "traceback": [
      "\u001b[0;31m---------------------------------------------------------------------------\u001b[0m",
      "\u001b[0;31mAttributeError\u001b[0m                            Traceback (most recent call last)",
      "Cell \u001b[0;32mIn[64], line 1\u001b[0m\n\u001b[0;32m----> 1\u001b[0m \u001b[43mse\u001b[49m\u001b[38;5;241;43m.\u001b[39;49m\u001b[43mappend\u001b[49m(\u001b[38;5;241m9\u001b[39m)\n",
      "\u001b[0;31mAttributeError\u001b[0m: 'set' object has no attribute 'append'"
     ]
    }
   ],
   "source": [
    "se.append(9)"
   ]
  },
  {
   "cell_type": "code",
   "execution_count": 65,
   "id": "74777b10-f238-4ecb-b3d5-95aea5598786",
   "metadata": {},
   "outputs": [],
   "source": [
    "se.add(10)"
   ]
  },
  {
   "cell_type": "code",
   "execution_count": 66,
   "id": "73c09fe3-2ded-40b4-9451-2566ecda2cd8",
   "metadata": {},
   "outputs": [
    {
     "data": {
      "text/plain": [
       "{1, 10, 2, 3, 'pw skill'}"
      ]
     },
     "execution_count": 66,
     "metadata": {},
     "output_type": "execute_result"
    }
   ],
   "source": [
    "se"
   ]
  },
  {
   "cell_type": "code",
   "execution_count": 68,
   "id": "9ed61f4a-3b42-457e-9af7-fb4bfbf5ee5f",
   "metadata": {},
   "outputs": [
    {
     "data": {
      "text/plain": [
       "{1, 2, 3, 4, 9}"
      ]
     },
     "execution_count": 68,
     "metadata": {},
     "output_type": "execute_result"
    }
   ],
   "source": [
    "l1=[1,2,3,9,2,4,1]\n",
    "s=set(l1)\n",
    "s"
   ]
  },
  {
   "cell_type": "code",
   "execution_count": 70,
   "id": "86af21a4-e029-4cf6-8cb3-5f3400fffc59",
   "metadata": {},
   "outputs": [
    {
     "data": {
      "text/plain": [
       "tuple"
      ]
     },
     "execution_count": 70,
     "metadata": {},
     "output_type": "execute_result"
    }
   ],
   "source": [
    "t=(1,2)\n",
    "type(t)"
   ]
  },
  {
   "cell_type": "code",
   "execution_count": 71,
   "id": "02318c0c-da39-4219-bfb7-c83770a8c0a7",
   "metadata": {},
   "outputs": [
    {
     "data": {
      "text/plain": [
       "(1, 2, 3, 4, 9)"
      ]
     },
     "execution_count": 71,
     "metadata": {},
     "output_type": "execute_result"
    }
   ],
   "source": [
    "x=tuple(s)\n",
    "x"
   ]
  },
  {
   "cell_type": "code",
   "execution_count": 72,
   "id": "8734db29-b7c5-4077-9430-7e706f0a0023",
   "metadata": {},
   "outputs": [
    {
     "data": {
      "text/plain": [
       "[1, 2, 3, 4, 9]"
      ]
     },
     "execution_count": 72,
     "metadata": {},
     "output_type": "execute_result"
    }
   ],
   "source": [
    "list(x)"
   ]
  },
  {
   "cell_type": "code",
   "execution_count": 73,
   "id": "cb5cf082-fca9-48b8-8e2a-c3ffc917e6a3",
   "metadata": {},
   "outputs": [],
   "source": [
    "s=\"rahul\"\n",
    "l=list(s)"
   ]
  },
  {
   "cell_type": "code",
   "execution_count": 74,
   "id": "731a20ca-1e2a-42f9-9ff4-40332f5e96f9",
   "metadata": {},
   "outputs": [
    {
     "data": {
      "text/plain": [
       "['r', 'a', 'h', 'u', 'l']"
      ]
     },
     "execution_count": 74,
     "metadata": {},
     "output_type": "execute_result"
    }
   ],
   "source": [
    "l"
   ]
  },
  {
   "cell_type": "code",
   "execution_count": 75,
   "id": "f1babcb1-92f5-44b7-b2a2-bd7631274dc4",
   "metadata": {},
   "outputs": [],
   "source": [
    "s=str(l)"
   ]
  },
  {
   "cell_type": "code",
   "execution_count": 76,
   "id": "035edb69-57a1-4076-b641-57734ef955a2",
   "metadata": {},
   "outputs": [
    {
     "data": {
      "text/plain": [
       "\"['r', 'a', 'h', 'u', 'l']\""
      ]
     },
     "execution_count": 76,
     "metadata": {},
     "output_type": "execute_result"
    }
   ],
   "source": [
    "s"
   ]
  },
  {
   "cell_type": "code",
   "execution_count": 77,
   "id": "35d78086-3c3c-49d6-b6ab-e3761df2cc56",
   "metadata": {},
   "outputs": [],
   "source": [
    "s={1,2,3,4,4}"
   ]
  },
  {
   "cell_type": "code",
   "execution_count": 78,
   "id": "2e316a96-7604-4b47-ba2a-1b6fc8fcd7b0",
   "metadata": {},
   "outputs": [
    {
     "data": {
      "text/plain": [
       "1"
      ]
     },
     "execution_count": 78,
     "metadata": {},
     "output_type": "execute_result"
    }
   ],
   "source": [
    "l=list(s)\n",
    "l[0]"
   ]
  },
  {
   "cell_type": "code",
   "execution_count": 79,
   "id": "ae6dbabb-32c3-41bb-9e45-7630b1f6fafc",
   "metadata": {},
   "outputs": [
    {
     "data": {
      "text/plain": [
       "[1, 2, 3, 4]"
      ]
     },
     "execution_count": 79,
     "metadata": {},
     "output_type": "execute_result"
    }
   ],
   "source": [
    "l"
   ]
  },
  {
   "cell_type": "code",
   "execution_count": 80,
   "id": "823b537b-b08c-4f44-bf29-5d35579ee114",
   "metadata": {},
   "outputs": [
    {
     "ename": "TypeError",
     "evalue": "'set' object is not subscriptable",
     "output_type": "error",
     "traceback": [
      "\u001b[0;31m---------------------------------------------------------------------------\u001b[0m",
      "\u001b[0;31mTypeError\u001b[0m                                 Traceback (most recent call last)",
      "Cell \u001b[0;32mIn[80], line 1\u001b[0m\n\u001b[0;32m----> 1\u001b[0m \u001b[43ms\u001b[49m\u001b[43m[\u001b[49m\u001b[38;5;241;43m1\u001b[39;49m\u001b[43m]\u001b[49m\n",
      "\u001b[0;31mTypeError\u001b[0m: 'set' object is not subscriptable"
     ]
    }
   ],
   "source": [
    "s[1]"
   ]
  },
  {
   "cell_type": "code",
   "execution_count": 81,
   "id": "0fb363c1-3f9f-4807-a23d-65901c1921f2",
   "metadata": {},
   "outputs": [
    {
     "ename": "TypeError",
     "evalue": "unhashable type: 'list'",
     "output_type": "error",
     "traceback": [
      "\u001b[0;31m---------------------------------------------------------------------------\u001b[0m",
      "\u001b[0;31mTypeError\u001b[0m                                 Traceback (most recent call last)",
      "Cell \u001b[0;32mIn[81], line 1\u001b[0m\n\u001b[0;32m----> 1\u001b[0m l\u001b[38;5;241m=\u001b[39m{\u001b[38;5;241m1\u001b[39m,\u001b[38;5;241m2\u001b[39m,\u001b[38;5;241m3\u001b[39m,[\u001b[38;5;241m1\u001b[39m,\u001b[38;5;241m2\u001b[39m,\u001b[38;5;241m3\u001b[39m]}\n",
      "\u001b[0;31mTypeError\u001b[0m: unhashable type: 'list'"
     ]
    }
   ],
   "source": [
    "l={1,2,3,[1,2,3]}"
   ]
  },
  {
   "cell_type": "code",
   "execution_count": 82,
   "id": "c8d02d15-b38d-4b9e-8cbf-48885eb3d0fd",
   "metadata": {},
   "outputs": [],
   "source": [
    "#list is mutable"
   ]
  },
  {
   "cell_type": "code",
   "execution_count": 83,
   "id": "447c7013-435f-48f9-a909-6c38c6be732c",
   "metadata": {},
   "outputs": [],
   "source": [
    "#but set is immtable\n",
    "#so we cant chnage"
   ]
  },
  {
   "cell_type": "code",
   "execution_count": 84,
   "id": "d5f246f2-a974-4009-aeba-b2331ff5a39c",
   "metadata": {},
   "outputs": [],
   "source": [
    "l={1,2,3,(1,2,3)}"
   ]
  },
  {
   "cell_type": "code",
   "execution_count": 85,
   "id": "f327b2cd-242e-46a6-95cb-d8742964620b",
   "metadata": {},
   "outputs": [],
   "source": [
    "#tuple is immutable"
   ]
  },
  {
   "cell_type": "code",
   "execution_count": 86,
   "id": "33d1a2cd-0ebf-4659-8cf6-03851e34c804",
   "metadata": {},
   "outputs": [
    {
     "ename": "TypeError",
     "evalue": "'set' object is not subscriptable",
     "output_type": "error",
     "traceback": [
      "\u001b[0;31m---------------------------------------------------------------------------\u001b[0m",
      "\u001b[0;31mTypeError\u001b[0m                                 Traceback (most recent call last)",
      "Cell \u001b[0;32mIn[86], line 1\u001b[0m\n\u001b[0;32m----> 1\u001b[0m \u001b[43ml\u001b[49m\u001b[43m[\u001b[49m\u001b[43m:\u001b[49m\u001b[43m:\u001b[49m\u001b[38;5;241;43m-\u001b[39;49m\u001b[38;5;241;43m1\u001b[39;49m\u001b[43m]\u001b[49m\n",
      "\u001b[0;31mTypeError\u001b[0m: 'set' object is not subscriptable"
     ]
    }
   ],
   "source": [
    "l[::-1]"
   ]
  },
  {
   "cell_type": "code",
   "execution_count": 87,
   "id": "45464317-1b00-4775-9465-79a2648a9a10",
   "metadata": {},
   "outputs": [
    {
     "data": {
      "text/plain": [
       "{(1, 2, 3), 1, 2, 3}"
      ]
     },
     "execution_count": 87,
     "metadata": {},
     "output_type": "execute_result"
    }
   ],
   "source": [
    "l"
   ]
  },
  {
   "cell_type": "code",
   "execution_count": 88,
   "id": "48ece2bb-bd76-4d63-b378-de93258e5bd6",
   "metadata": {},
   "outputs": [
    {
     "name": "stdout",
     "output_type": "stream",
     "text": [
      "1\n",
      "2\n",
      "3\n",
      "(1, 2, 3)\n"
     ]
    }
   ],
   "source": [
    "for i in l:\n",
    "    print(i)"
   ]
  },
  {
   "cell_type": "code",
   "execution_count": 89,
   "id": "9a67ba17-89b6-445e-b17b-276ff27e1143",
   "metadata": {},
   "outputs": [],
   "source": [
    "#unorder"
   ]
  },
  {
   "cell_type": "code",
   "execution_count": 90,
   "id": "2796980a-059f-4626-a957-f59a934dfcbd",
   "metadata": {},
   "outputs": [
    {
     "data": {
      "text/plain": [
       "4"
      ]
     },
     "execution_count": 90,
     "metadata": {},
     "output_type": "execute_result"
    }
   ],
   "source": [
    "len(l)"
   ]
  },
  {
   "cell_type": "code",
   "execution_count": 91,
   "id": "42f88a62-f3ff-49c1-92ed-c72c02f7f1c7",
   "metadata": {},
   "outputs": [],
   "source": [
    "l.add(100)"
   ]
  },
  {
   "cell_type": "code",
   "execution_count": 92,
   "id": "cfdee190-050a-4430-883c-fd0fc97ffc7a",
   "metadata": {},
   "outputs": [
    {
     "data": {
      "text/plain": [
       "{(1, 2, 3), 1, 100, 2, 3}"
      ]
     },
     "execution_count": 92,
     "metadata": {},
     "output_type": "execute_result"
    }
   ],
   "source": [
    "l"
   ]
  },
  {
   "cell_type": "code",
   "execution_count": 93,
   "id": "8b00bf3f-9b3b-4ca2-a13a-7fb7408a3a15",
   "metadata": {},
   "outputs": [
    {
     "data": {
      "text/plain": [
       "1"
      ]
     },
     "execution_count": 93,
     "metadata": {},
     "output_type": "execute_result"
    }
   ],
   "source": [
    "l.pop()"
   ]
  },
  {
   "cell_type": "code",
   "execution_count": 94,
   "id": "7a55bf61-6b4e-455c-9927-115a153f6c53",
   "metadata": {},
   "outputs": [
    {
     "ename": "TypeError",
     "evalue": "set.pop() takes no arguments (1 given)",
     "output_type": "error",
     "traceback": [
      "\u001b[0;31m---------------------------------------------------------------------------\u001b[0m",
      "\u001b[0;31mTypeError\u001b[0m                                 Traceback (most recent call last)",
      "Cell \u001b[0;32mIn[94], line 1\u001b[0m\n\u001b[0;32m----> 1\u001b[0m \u001b[43ml\u001b[49m\u001b[38;5;241;43m.\u001b[39;49m\u001b[43mpop\u001b[49m\u001b[43m(\u001b[49m\u001b[38;5;241;43m3\u001b[39;49m\u001b[43m)\u001b[49m\n",
      "\u001b[0;31mTypeError\u001b[0m: set.pop() takes no arguments (1 given)"
     ]
    }
   ],
   "source": [
    "l.pop(3)"
   ]
  },
  {
   "cell_type": "code",
   "execution_count": 95,
   "id": "04a18e12-e19d-479b-b370-33d1e39c1dec",
   "metadata": {},
   "outputs": [
    {
     "ename": "KeyError",
     "evalue": "1",
     "output_type": "error",
     "traceback": [
      "\u001b[0;31m---------------------------------------------------------------------------\u001b[0m",
      "\u001b[0;31mKeyError\u001b[0m                                  Traceback (most recent call last)",
      "Cell \u001b[0;32mIn[95], line 1\u001b[0m\n\u001b[0;32m----> 1\u001b[0m \u001b[43ml\u001b[49m\u001b[38;5;241;43m.\u001b[39;49m\u001b[43mremove\u001b[49m\u001b[43m(\u001b[49m\u001b[38;5;241;43m1\u001b[39;49m\u001b[43m)\u001b[49m\n",
      "\u001b[0;31mKeyError\u001b[0m: 1"
     ]
    }
   ],
   "source": [
    "l.remove(1)"
   ]
  },
  {
   "cell_type": "code",
   "execution_count": 96,
   "id": "47585af2-27b6-4ccc-9631-c025c43c940d",
   "metadata": {},
   "outputs": [],
   "source": [
    "l.remove(2)"
   ]
  },
  {
   "cell_type": "code",
   "execution_count": 97,
   "id": "08aa42bb-57be-4642-b9d7-ef0ba3b6fd2d",
   "metadata": {},
   "outputs": [
    {
     "data": {
      "text/plain": [
       "{(1, 2, 3), 100, 3}"
      ]
     },
     "execution_count": 97,
     "metadata": {},
     "output_type": "execute_result"
    }
   ],
   "source": [
    "l"
   ]
  },
  {
   "cell_type": "code",
   "execution_count": 98,
   "id": "8456ca5a-7ca7-42ed-be42-6cb289422c5a",
   "metadata": {},
   "outputs": [],
   "source": [
    "l.add(2)"
   ]
  },
  {
   "cell_type": "code",
   "execution_count": 99,
   "id": "642cce75-727d-4bb0-ab61-855bda9e8dc9",
   "metadata": {},
   "outputs": [
    {
     "data": {
      "text/plain": [
       "{(1, 2, 3), 100, 2, 3}"
      ]
     },
     "execution_count": 99,
     "metadata": {},
     "output_type": "execute_result"
    }
   ],
   "source": [
    "l"
   ]
  },
  {
   "cell_type": "code",
   "execution_count": 100,
   "id": "ebd82341-7ee5-4a1f-93cd-7b07beaaddfa",
   "metadata": {},
   "outputs": [],
   "source": [
    "del l"
   ]
  },
  {
   "cell_type": "code",
   "execution_count": 101,
   "id": "ddbfcaf4-59d7-4d8c-b6ec-e1053738d555",
   "metadata": {},
   "outputs": [],
   "source": [
    "l={1,2,3,(1,2,3)}\n",
    "li=list(l)"
   ]
  },
  {
   "cell_type": "code",
   "execution_count": 102,
   "id": "54da55b9-7729-4602-8286-a6b15a9ad542",
   "metadata": {},
   "outputs": [
    {
     "data": {
      "text/plain": [
       "[1, 2, 3, (1, 2, 3)]"
      ]
     },
     "execution_count": 102,
     "metadata": {},
     "output_type": "execute_result"
    }
   ],
   "source": [
    "li"
   ]
  },
  {
   "cell_type": "code",
   "execution_count": 103,
   "id": "77218fd5-3251-4615-8bd9-415d989cbc4f",
   "metadata": {},
   "outputs": [
    {
     "data": {
      "text/plain": [
       "2"
      ]
     },
     "execution_count": 103,
     "metadata": {},
     "output_type": "execute_result"
    }
   ],
   "source": [
    "li[3][1]"
   ]
  },
  {
   "cell_type": "code",
   "execution_count": 104,
   "id": "18c19dff-e2c4-4a4c-aba7-cefe2a802c99",
   "metadata": {},
   "outputs": [
    {
     "data": {
      "text/plain": [
       "[1, 2, 3, (1, 2, 3)]"
      ]
     },
     "execution_count": 104,
     "metadata": {},
     "output_type": "execute_result"
    }
   ],
   "source": [
    "li"
   ]
  },
  {
   "cell_type": "code",
   "execution_count": 107,
   "id": "f303fa51-a09e-488b-a433-4fb2d3b35f5f",
   "metadata": {},
   "outputs": [
    {
     "ename": "AttributeError",
     "evalue": "'list' object has no attribute 'discard'",
     "output_type": "error",
     "traceback": [
      "\u001b[0;31m---------------------------------------------------------------------------\u001b[0m",
      "\u001b[0;31mAttributeError\u001b[0m                            Traceback (most recent call last)",
      "Cell \u001b[0;32mIn[107], line 1\u001b[0m\n\u001b[0;32m----> 1\u001b[0m \u001b[43mli\u001b[49m\u001b[38;5;241;43m.\u001b[39;49m\u001b[43mdiscard\u001b[49m(\u001b[38;5;241m1\u001b[39m)\n",
      "\u001b[0;31mAttributeError\u001b[0m: 'list' object has no attribute 'discard'"
     ]
    }
   ],
   "source": [
    "li.discard(1)"
   ]
  },
  {
   "cell_type": "code",
   "execution_count": 108,
   "id": "e986ceed-ee63-4496-9bc4-42a1a3bb871a",
   "metadata": {},
   "outputs": [
    {
     "data": {
      "text/plain": [
       "{(1, 2, 3), 1, 2, 3}"
      ]
     },
     "execution_count": 108,
     "metadata": {},
     "output_type": "execute_result"
    }
   ],
   "source": [
    "l"
   ]
  },
  {
   "cell_type": "code",
   "execution_count": 109,
   "id": "883de4ca-6632-4238-a617-a06e252a1352",
   "metadata": {},
   "outputs": [],
   "source": [
    "l.remove(2)"
   ]
  },
  {
   "cell_type": "code",
   "execution_count": 110,
   "id": "45e211e4-6e5e-4ecb-82d0-3b4b9ad936a8",
   "metadata": {},
   "outputs": [
    {
     "ename": "KeyError",
     "evalue": "2",
     "output_type": "error",
     "traceback": [
      "\u001b[0;31m---------------------------------------------------------------------------\u001b[0m",
      "\u001b[0;31mKeyError\u001b[0m                                  Traceback (most recent call last)",
      "Cell \u001b[0;32mIn[110], line 1\u001b[0m\n\u001b[0;32m----> 1\u001b[0m \u001b[43ml\u001b[49m\u001b[38;5;241;43m.\u001b[39;49m\u001b[43mremove\u001b[49m\u001b[43m(\u001b[49m\u001b[38;5;241;43m2\u001b[39;49m\u001b[43m)\u001b[49m\n",
      "\u001b[0;31mKeyError\u001b[0m: 2"
     ]
    }
   ],
   "source": [
    "l.remove(2) #if not present so error thro "
   ]
  },
  {
   "cell_type": "code",
   "execution_count": 112,
   "id": "178d9017-d428-4193-96d2-1a732c05a35d",
   "metadata": {},
   "outputs": [],
   "source": [
    "l.discard(2) #if not present so no erroe"
   ]
  },
  {
   "cell_type": "code",
   "execution_count": 113,
   "id": "e733eaaf-2831-40c8-a76f-1596a2daa71c",
   "metadata": {},
   "outputs": [
    {
     "data": {
      "text/plain": [
       "{(1, 2, 3), 1, 3}"
      ]
     },
     "execution_count": 113,
     "metadata": {},
     "output_type": "execute_result"
    }
   ],
   "source": [
    "l"
   ]
  },
  {
   "cell_type": "code",
   "execution_count": 114,
   "id": "86a140f4-879e-40b8-bc0c-b40de1b2bd19",
   "metadata": {},
   "outputs": [],
   "source": [
    "#set operation"
   ]
  },
  {
   "cell_type": "code",
   "execution_count": 115,
   "id": "22e4d481-74a7-4ed4-9a74-8effcf09f199",
   "metadata": {},
   "outputs": [],
   "source": [
    "#1 union combine two set and no duplicate"
   ]
  },
  {
   "cell_type": "code",
   "execution_count": 116,
   "id": "69bde46c-ab5e-4504-bb09-2448768f5ad7",
   "metadata": {},
   "outputs": [],
   "source": [
    "#intersection give common element"
   ]
  },
  {
   "cell_type": "code",
   "execution_count": 117,
   "id": "e23ae07e-8492-4a6b-bd69-2cea6d07b9d2",
   "metadata": {},
   "outputs": [],
   "source": [
    "#difference return element present first and not in second\n",
    "#symmentric differece"
   ]
  },
  {
   "cell_type": "code",
   "execution_count": 122,
   "id": "fc34bb57-dc4b-4987-93ff-72d2d1a5cca9",
   "metadata": {},
   "outputs": [],
   "source": [
    "s1={1,2,3,2}\n",
    "s2={2,3,4}\n"
   ]
  },
  {
   "cell_type": "code",
   "execution_count": 123,
   "id": "0666e946-1164-4585-839c-e47a0bede4c5",
   "metadata": {},
   "outputs": [
    {
     "data": {
      "text/plain": [
       "{'coading', 'reading'}"
      ]
     },
     "execution_count": 123,
     "metadata": {},
     "output_type": "execute_result"
    }
   ],
   "source": [
    "s1={\"hicking\",\"coading\",\"reading\"}\n",
    "s2={\"coading\",\"reading\",\"travelling\"}\n",
    "#intersection common\n",
    "s1 & s2"
   ]
  },
  {
   "cell_type": "code",
   "execution_count": 124,
   "id": "b2f4ee4a-1108-443e-8458-bdce4da50c52",
   "metadata": {},
   "outputs": [
    {
     "data": {
      "text/plain": [
       "{'coading', 'hicking', 'reading', 'travelling'}"
      ]
     },
     "execution_count": 124,
     "metadata": {},
     "output_type": "execute_result"
    }
   ],
   "source": [
    "s1 | s2"
   ]
  },
  {
   "cell_type": "code",
   "execution_count": 125,
   "id": "6540d5cb-96df-432a-8357-1936823e2587",
   "metadata": {},
   "outputs": [],
   "source": [
    "#union |"
   ]
  },
  {
   "cell_type": "code",
   "execution_count": 127,
   "id": "258af75f-fdf7-4366-8b22-03532d57d876",
   "metadata": {},
   "outputs": [],
   "source": [
    "s1={1,2,3,4}\n",
    "s2={4,2,3,6}\n",
    "s=s1-s2"
   ]
  },
  {
   "cell_type": "code",
   "execution_count": 128,
   "id": "f6f11b8d-11eb-4d17-93c2-5b0e0360296c",
   "metadata": {},
   "outputs": [
    {
     "data": {
      "text/plain": [
       "{}"
      ]
     },
     "execution_count": 128,
     "metadata": {},
     "output_type": "execute_result"
    }
   ],
   "source": [
    "a"
   ]
  },
  {
   "cell_type": "code",
   "execution_count": 129,
   "id": "f9287077-a9f3-4f70-93ae-544e24cc1bd6",
   "metadata": {},
   "outputs": [
    {
     "data": {
      "text/plain": [
       "{1}"
      ]
     },
     "execution_count": 129,
     "metadata": {},
     "output_type": "execute_result"
    }
   ],
   "source": [
    "s"
   ]
  },
  {
   "cell_type": "code",
   "execution_count": 134,
   "id": "a7cc1296-87a0-4e80-a5ca-7f5295c5f60f",
   "metadata": {},
   "outputs": [
    {
     "data": {
      "text/plain": [
       "{1, 6}"
      ]
     },
     "execution_count": 134,
     "metadata": {},
     "output_type": "execute_result"
    }
   ],
   "source": [
    "s=s1^s2 #symmetric difference is give list uncommon elemnt\n",
    "s"
   ]
  },
  {
   "cell_type": "code",
   "execution_count": 135,
   "id": "aa791ef7-97d5-4a2a-834e-9a6524f8628b",
   "metadata": {},
   "outputs": [],
   "source": [
    "s1.remove(2)"
   ]
  },
  {
   "cell_type": "code",
   "execution_count": 139,
   "id": "8071b8cf-8a05-44cf-b4c0-c238804342ee",
   "metadata": {},
   "outputs": [
    {
     "ename": "TypeError",
     "evalue": "set.pop() takes no arguments (1 given)",
     "output_type": "error",
     "traceback": [
      "\u001b[0;31m---------------------------------------------------------------------------\u001b[0m",
      "\u001b[0;31mTypeError\u001b[0m                                 Traceback (most recent call last)",
      "Cell \u001b[0;32mIn[139], line 1\u001b[0m\n\u001b[0;32m----> 1\u001b[0m \u001b[43ms1\u001b[49m\u001b[38;5;241;43m.\u001b[39;49m\u001b[43mpop\u001b[49m\u001b[43m(\u001b[49m\u001b[38;5;241;43m4\u001b[39;49m\u001b[43m)\u001b[49m\n",
      "\u001b[0;31mTypeError\u001b[0m: set.pop() takes no arguments (1 given)"
     ]
    }
   ],
   "source": [
    "s1.pop(4)"
   ]
  },
  {
   "cell_type": "code",
   "execution_count": 137,
   "id": "058fde75-ac75-4df3-a7e4-855c72651d4e",
   "metadata": {},
   "outputs": [
    {
     "data": {
      "text/plain": [
       "3"
      ]
     },
     "execution_count": 137,
     "metadata": {},
     "output_type": "execute_result"
    }
   ],
   "source": [
    "s1.pop()"
   ]
  },
  {
   "cell_type": "code",
   "execution_count": 140,
   "id": "86816cb3-7fc1-4962-a557-769ea604b5ed",
   "metadata": {},
   "outputs": [],
   "source": [
    "s1.add(1)"
   ]
  },
  {
   "cell_type": "code",
   "execution_count": 141,
   "id": "9d5a390d-f4b3-4fb2-b2dc-95be027f7eaf",
   "metadata": {},
   "outputs": [],
   "source": [
    "#frozen set >> immutable of set cant be changed added or remove"
   ]
  },
  {
   "cell_type": "code",
   "execution_count": 142,
   "id": "0719f7ba-62bc-4b3e-aa26-9fd7da64c5f2",
   "metadata": {},
   "outputs": [],
   "source": [
    "my_frozen=frozenset([1,2,3,4,3,3,2])"
   ]
  },
  {
   "cell_type": "code",
   "execution_count": 145,
   "id": "a2d4c6a6-e21a-4424-886d-5afa8df4a66e",
   "metadata": {},
   "outputs": [
    {
     "ename": "TypeError",
     "evalue": "'frozenset' object is not subscriptable",
     "output_type": "error",
     "traceback": [
      "\u001b[0;31m---------------------------------------------------------------------------\u001b[0m",
      "\u001b[0;31mTypeError\u001b[0m                                 Traceback (most recent call last)",
      "Cell \u001b[0;32mIn[145], line 1\u001b[0m\n\u001b[0;32m----> 1\u001b[0m \u001b[43mmy_frozen\u001b[49m\u001b[43m[\u001b[49m\u001b[38;5;241;43m0\u001b[39;49m\u001b[43m]\u001b[49m\n",
      "\u001b[0;31mTypeError\u001b[0m: 'frozenset' object is not subscriptable"
     ]
    }
   ],
   "source": [
    "my_frozen[0]"
   ]
  },
  {
   "cell_type": "code",
   "execution_count": 144,
   "id": "fc74ca30-aba3-46d6-b7d6-d20942a9750a",
   "metadata": {},
   "outputs": [
    {
     "data": {
      "text/plain": [
       "frozenset"
      ]
     },
     "execution_count": 144,
     "metadata": {},
     "output_type": "execute_result"
    }
   ],
   "source": [
    "type(my_frozen)"
   ]
  },
  {
   "cell_type": "code",
   "execution_count": 146,
   "id": "02a319f2-d149-4d89-8224-1afe6a4efda5",
   "metadata": {},
   "outputs": [
    {
     "ename": "AttributeError",
     "evalue": "'frozenset' object has no attribute 'add'",
     "output_type": "error",
     "traceback": [
      "\u001b[0;31m---------------------------------------------------------------------------\u001b[0m",
      "\u001b[0;31mAttributeError\u001b[0m                            Traceback (most recent call last)",
      "Cell \u001b[0;32mIn[146], line 1\u001b[0m\n\u001b[0;32m----> 1\u001b[0m \u001b[43mmy_frozen\u001b[49m\u001b[38;5;241;43m.\u001b[39;49m\u001b[43madd\u001b[49m(\u001b[38;5;241m5\u001b[39m)\n",
      "\u001b[0;31mAttributeError\u001b[0m: 'frozenset' object has no attribute 'add'"
     ]
    }
   ],
   "source": [
    "my_frozen.add(5)"
   ]
  },
  {
   "cell_type": "code",
   "execution_count": 147,
   "id": "f14ea908-c2be-4cc9-aabb-d3adeb156675",
   "metadata": {},
   "outputs": [
    {
     "ename": "AttributeError",
     "evalue": "'frozenset' object has no attribute 'pop'",
     "output_type": "error",
     "traceback": [
      "\u001b[0;31m---------------------------------------------------------------------------\u001b[0m",
      "\u001b[0;31mAttributeError\u001b[0m                            Traceback (most recent call last)",
      "Cell \u001b[0;32mIn[147], line 1\u001b[0m\n\u001b[0;32m----> 1\u001b[0m \u001b[43mmy_frozen\u001b[49m\u001b[38;5;241;43m.\u001b[39;49m\u001b[43mpop\u001b[49m()\n",
      "\u001b[0;31mAttributeError\u001b[0m: 'frozenset' object has no attribute 'pop'"
     ]
    }
   ],
   "source": [
    "my_frozen.pop()"
   ]
  },
  {
   "cell_type": "code",
   "execution_count": 148,
   "id": "a979b7e1-4e59-4133-98e0-106a1f8e7944",
   "metadata": {},
   "outputs": [
    {
     "name": "stdout",
     "output_type": "stream",
     "text": [
      "1\n",
      "2\n",
      "3\n",
      "4\n"
     ]
    }
   ],
   "source": [
    "for i in my_frozen:\n",
    "    print(i)"
   ]
  },
  {
   "cell_type": "code",
   "execution_count": 151,
   "id": "053cbc6d-68d3-4a44-b88b-6ad6aca58ff7",
   "metadata": {},
   "outputs": [],
   "source": [
    "li=[1,2,3,4,5,5]\n",
    "s=set(li)"
   ]
  },
  {
   "cell_type": "code",
   "execution_count": 152,
   "id": "eeb9907f-f2c8-400b-bd8d-da824f4c4bd6",
   "metadata": {},
   "outputs": [
    {
     "data": {
      "text/plain": [
       "{1, 2, 3, 4, 5}"
      ]
     },
     "execution_count": 152,
     "metadata": {},
     "output_type": "execute_result"
    }
   ],
   "source": [
    "s"
   ]
  },
  {
   "cell_type": "code",
   "execution_count": 154,
   "id": "6ca8d816-e2de-4c39-85f8-1c2a114e70bb",
   "metadata": {},
   "outputs": [],
   "source": [
    "s.add(5)"
   ]
  },
  {
   "cell_type": "code",
   "execution_count": 155,
   "id": "f5e5b749-96a4-44b3-9516-3ded375ee062",
   "metadata": {},
   "outputs": [
    {
     "data": {
      "text/plain": [
       "{1, 2, 3, 4, 5}"
      ]
     },
     "execution_count": 155,
     "metadata": {},
     "output_type": "execute_result"
    }
   ],
   "source": [
    "s"
   ]
  },
  {
   "cell_type": "code",
   "execution_count": 156,
   "id": "ebb52a9d-3162-4017-bf0f-da3ad689d91c",
   "metadata": {},
   "outputs": [
    {
     "ename": "TypeError",
     "evalue": "set.remove() takes exactly one argument (0 given)",
     "output_type": "error",
     "traceback": [
      "\u001b[0;31m---------------------------------------------------------------------------\u001b[0m",
      "\u001b[0;31mTypeError\u001b[0m                                 Traceback (most recent call last)",
      "Cell \u001b[0;32mIn[156], line 1\u001b[0m\n\u001b[0;32m----> 1\u001b[0m \u001b[43ms\u001b[49m\u001b[38;5;241;43m.\u001b[39;49m\u001b[43mremove\u001b[49m\u001b[43m(\u001b[49m\u001b[43m)\u001b[49m\n",
      "\u001b[0;31mTypeError\u001b[0m: set.remove() takes exactly one argument (0 given)"
     ]
    }
   ],
   "source": [
    "s.remove()"
   ]
  },
  {
   "cell_type": "code",
   "execution_count": 157,
   "id": "11a763e3-cf80-4fb6-9f6a-74870b604cb5",
   "metadata": {},
   "outputs": [
    {
     "data": {
      "text/plain": [
       "frozenset({1, 2, 3, 4, 5})"
      ]
     },
     "execution_count": 157,
     "metadata": {},
     "output_type": "execute_result"
    }
   ],
   "source": [
    "frozen=frozenset(li)\n",
    "frozen"
   ]
  },
  {
   "cell_type": "code",
   "execution_count": 158,
   "id": "c799e3c9-48d7-4d86-b9cd-8588eb563f97",
   "metadata": {},
   "outputs": [
    {
     "ename": "AttributeError",
     "evalue": "'frozenset' object has no attribute 'add'",
     "output_type": "error",
     "traceback": [
      "\u001b[0;31m---------------------------------------------------------------------------\u001b[0m",
      "\u001b[0;31mAttributeError\u001b[0m                            Traceback (most recent call last)",
      "Cell \u001b[0;32mIn[158], line 1\u001b[0m\n\u001b[0;32m----> 1\u001b[0m \u001b[43mfrozen\u001b[49m\u001b[38;5;241;43m.\u001b[39;49m\u001b[43madd\u001b[49m(\u001b[38;5;241m5\u001b[39m)\n",
      "\u001b[0;31mAttributeError\u001b[0m: 'frozenset' object has no attribute 'add'"
     ]
    }
   ],
   "source": [
    "frozen.add(5)"
   ]
  },
  {
   "cell_type": "code",
   "execution_count": null,
   "id": "ec1ff7ce-7fef-4b11-9294-cbdc0a398319",
   "metadata": {},
   "outputs": [],
   "source": []
  }
 ],
 "metadata": {
  "kernelspec": {
   "display_name": "Python 3 (ipykernel)",
   "language": "python",
   "name": "python3"
  },
  "language_info": {
   "codemirror_mode": {
    "name": "ipython",
    "version": 3
   },
   "file_extension": ".py",
   "mimetype": "text/x-python",
   "name": "python",
   "nbconvert_exporter": "python",
   "pygments_lexer": "ipython3",
   "version": "3.10.8"
  }
 },
 "nbformat": 4,
 "nbformat_minor": 5
}
