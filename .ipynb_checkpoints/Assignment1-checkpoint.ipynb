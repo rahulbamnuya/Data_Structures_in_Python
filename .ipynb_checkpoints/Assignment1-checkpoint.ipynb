{
 "cells": [
  {
   "cell_type": "markdown",
   "id": "36de3e2f-7483-4ce6-b4bd-dbb8d57b446e",
   "metadata": {},
   "source": [
    "Que 1 Write an code to reverse an string"
   ]
  },
  {
   "cell_type": "code",
   "execution_count": 157,
   "id": "8967ed92-a27b-41c8-9163-4c2611801ac7",
   "metadata": {},
   "outputs": [
    {
     "name": "stdin",
     "output_type": "stream",
     "text": [
      "enter an string 123\n"
     ]
    },
    {
     "name": "stdout",
     "output_type": "stream",
     "text": [
      "Reverse string is  321\n"
     ]
    }
   ],
   "source": [
    "sample=input(\"enter an string\")\n",
    "final=\"\"\n",
    "for e in sample:\n",
    "    final=e+final\n",
    "print(\"Reverse string is \",final)"
   ]
  },
  {
   "cell_type": "markdown",
   "id": "780a0def-4adb-4e32-a82d-d9e79446da0a",
   "metadata": {},
   "source": [
    "Que 2 Count number of vowels instring"
   ]
  },
  {
   "cell_type": "code",
   "execution_count": 160,
   "id": "75193afd-13ea-49f8-9b00-9e90093d88ad",
   "metadata": {},
   "outputs": [
    {
     "name": "stdin",
     "output_type": "stream",
     "text": [
      "enter an string Rahul Bamaniya\n"
     ]
    },
    {
     "name": "stdout",
     "output_type": "stream",
     "text": [
      "Number of vowels in Rahul Bamaniya is : 6\n"
     ]
    }
   ],
   "source": [
    "sample=input(\"enter an string\")\n",
    "final=0\n",
    "for el in sample:\n",
    "    if el==\"a\" or el==\"e\" or el==\"i\" or el==\"o\" or el==\"u\":\n",
    "        final+=1\n",
    "print(f\"Number of vowels in {sample} is :\",final)"
   ]
  },
  {
   "cell_type": "code",
   "execution_count": null,
   "id": "8d23de4d-afad-4cb4-b4db-0cfc4a7b6af9",
   "metadata": {},
   "outputs": [
    {
     "name": "stdin",
     "output_type": "stream",
     "text": [
      "enter an string 121\n"
     ]
    },
    {
     "name": "stdout",
     "output_type": "stream",
     "text": [
      "String 121 is Plindrome :  True\n"
     ]
    }
   ],
   "source": [
    "sample=input(\"enter an string\")\n",
    "final=\"\"\n",
    "for e in sample:\n",
    "    final=e+final\n",
    "print(f\"String {sample} is Plindrome : \",sample==final)"
   ]
  },
  {
   "cell_type": "code",
   "execution_count": 178,
   "id": "78ddae61-6b9f-40a9-9006-25219ef392e0",
   "metadata": {},
   "outputs": [
    {
     "name": "stdin",
     "output_type": "stream",
     "text": [
      "enter an string 123\n",
      "enter an string 213\n"
     ]
    },
    {
     "name": "stdout",
     "output_type": "stream",
     "text": [
      "String 123 and 213  is  Anagram  True\n"
     ]
    }
   ],
   "source": [
    "first=input(\"enter an string\")\n",
    "second=input(\"enter an string\")\n",
    "boolean=False\n",
    "lenfirst=len(first)\n",
    "lensecond=len(second)\n",
    "if lenfirst!=lensecond:\n",
    "    print(f\"String {first} and {second}  is not Anagram \"  )\n",
    "else:\n",
    "    for el in first :\n",
    "        if el  in second:\n",
    "            boolean=True\n",
    "            continue\n",
    "                 \n",
    "        else : \n",
    "            boolean=False\n",
    "            break\n",
    "    print(f\"String {first} and {second}  is  Anagram :\", boolean )"
   ]
  },
  {
   "cell_type": "code",
   "execution_count": 168,
   "id": "08ae1dfc-4d7a-4df4-afcf-87d97770af9d",
   "metadata": {},
   "outputs": [
    {
     "name": "stdin",
     "output_type": "stream",
     "text": [
      "enter an string \"rahul\"\n",
      "enter an string \"rohit\"\n"
     ]
    },
    {
     "name": "stdout",
     "output_type": "stream",
     "text": [
      "String \"rahul\" and \"rohit\"  is not Anagram \n",
      "String \"rahul\" and \"rohit\"  is  Anagram \n"
     ]
    }
   ],
   "source": [
    "first=input(\"enter an string\")\n",
    "second=input(\"enter an string\")\n",
    "lenfirst=len(first)\n",
    "lensecond=len(second)\n",
    "if lenfirst!=lensecond:\n",
    "    print(f\"String {first} and {second}  is not Anagram \"  )\n",
    "else:\n",
    "    for el in first :\n",
    "        if el  in second:\n",
    "                 continue;\n",
    "                 \n",
    "        else : \n",
    "            print(f\"String {first} and {second}  is not Anagram \")\n",
    "            break\n",
    "    print(f\"String {first} and {second}  is  Anagram \"  )"
   ]
  },
  {
   "cell_type": "code",
   "execution_count": null,
   "id": "f6d4796c-cd93-44bd-a34a-d8109182bd78",
   "metadata": {},
   "outputs": [],
   "source": []
  }
 ],
 "metadata": {
  "kernelspec": {
   "display_name": "Python 3 (ipykernel)",
   "language": "python",
   "name": "python3"
  },
  "language_info": {
   "codemirror_mode": {
    "name": "ipython",
    "version": 3
   },
   "file_extension": ".py",
   "mimetype": "text/x-python",
   "name": "python",
   "nbconvert_exporter": "python",
   "pygments_lexer": "ipython3",
   "version": "3.10.8"
  }
 },
 "nbformat": 4,
 "nbformat_minor": 5
}
