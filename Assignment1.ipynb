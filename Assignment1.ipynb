{
 "cells": [
  {
   "cell_type": "markdown",
   "id": "36de3e2f-7483-4ce6-b4bd-dbb8d57b446e",
   "metadata": {},
   "source": [
    "Que 1 Write an code to reverse an string"
   ]
  },
  {
   "cell_type": "code",
   "execution_count": 157,
   "id": "8967ed92-a27b-41c8-9163-4c2611801ac7",
   "metadata": {},
   "outputs": [
    {
     "name": "stdin",
     "output_type": "stream",
     "text": [
      "enter an string 123\n"
     ]
    },
    {
     "name": "stdout",
     "output_type": "stream",
     "text": [
      "Reverse string is  321\n"
     ]
    }
   ],
   "source": [
    "sample=input(\"enter an string\")\n",
    "final=\"\"\n",
    "for e in sample:\n",
    "    final=e+final\n",
    "print(\"Reverse string is \",final)"
   ]
  },
  {
   "cell_type": "markdown",
   "id": "780a0def-4adb-4e32-a82d-d9e79446da0a",
   "metadata": {},
   "source": [
    "Que 2 Count number of vowels instring"
   ]
  },
  {
   "cell_type": "code",
   "execution_count": 160,
   "id": "75193afd-13ea-49f8-9b00-9e90093d88ad",
   "metadata": {},
   "outputs": [
    {
     "name": "stdin",
     "output_type": "stream",
     "text": [
      "enter an string Rahul Bamaniya\n"
     ]
    },
    {
     "name": "stdout",
     "output_type": "stream",
     "text": [
      "Number of vowels in Rahul Bamaniya is : 6\n"
     ]
    }
   ],
   "source": [
    "sample=input(\"enter an string\")\n",
    "final=0\n",
    "for el in sample:\n",
    "    if el==\"a\" or el==\"e\" or el==\"i\" or el==\"o\" or el==\"u\":\n",
    "        final+=1\n",
    "print(f\"Number of vowels in {sample} is :\",final)"
   ]
  },
  {
   "cell_type": "code",
   "execution_count": null,
   "id": "8d23de4d-afad-4cb4-b4db-0cfc4a7b6af9",
   "metadata": {},
   "outputs": [
    {
     "name": "stdin",
     "output_type": "stream",
     "text": [
      "enter an string 121\n"
     ]
    },
    {
     "name": "stdout",
     "output_type": "stream",
     "text": [
      "String 121 is Plindrome :  True\n"
     ]
    }
   ],
   "source": [
    "sample=input(\"enter an string\")\n",
    "final=\"\"\n",
    "for e in sample:\n",
    "    final=e+final\n",
    "print(f\"String {sample} is Plindrome : \",sample==final)"
   ]
  },
  {
   "cell_type": "code",
   "execution_count": 178,
   "id": "78ddae61-6b9f-40a9-9006-25219ef392e0",
   "metadata": {},
   "outputs": [
    {
     "name": "stdin",
     "output_type": "stream",
     "text": [
      "enter an string 123\n",
      "enter an string 213\n"
     ]
    },
    {
     "name": "stdout",
     "output_type": "stream",
     "text": [
      "String 123 and 213  is  Anagram  True\n"
     ]
    }
   ],
   "source": [
    "first=input(\"enter an string\")\n",
    "second=input(\"enter an string\")\n",
    "boolean=False\n",
    "lenfirst=len(first)\n",
    "lensecond=len(second)\n",
    "if lenfirst!=lensecond:\n",
    "    print(f\"String {first} and {second}  is not Anagram \"  )\n",
    "else:\n",
    "    for el in first :\n",
    "        if el  in second:\n",
    "            boolean=True\n",
    "            continue\n",
    "                 \n",
    "        else : \n",
    "            boolean=False\n",
    "            break\n",
    "    print(f\"String {first} and {second}  is  Anagram :\", boolean )"
   ]
  },
  {
   "cell_type": "code",
   "execution_count": 168,
   "id": "08ae1dfc-4d7a-4df4-afcf-87d97770af9d",
   "metadata": {},
   "outputs": [
    {
     "name": "stdin",
     "output_type": "stream",
     "text": [
      "enter an string \"rahul\"\n",
      "enter an string \"rohit\"\n"
     ]
    },
    {
     "name": "stdout",
     "output_type": "stream",
     "text": [
      "String \"rahul\" and \"rohit\"  is not Anagram \n",
      "String \"rahul\" and \"rohit\"  is  Anagram \n"
     ]
    }
   ],
   "source": [
    "first=input(\"enter an string\")\n",
    "second=input(\"enter an string\")\n",
    "lenfirst=len(first)\n",
    "lensecond=len(second)\n",
    "if lenfirst!=lensecond:\n",
    "    print(f\"String {first} and {second}  is not Anagram \"  )\n",
    "else:\n",
    "    for el in first :\n",
    "        if el  in second:\n",
    "                 continue;\n",
    "                 \n",
    "        else : \n",
    "            print(f\"String {first} and {second}  is not Anagram \")\n",
    "            break\n",
    "    print(f\"String {first} and {second}  is  Anagram \"  )"
   ]
  },
  {
   "cell_type": "code",
   "execution_count": 1,
   "id": "f6d4796c-cd93-44bd-a34a-d8109182bd78",
   "metadata": {},
   "outputs": [
    {
     "data": {
      "text/plain": [
       "1"
      ]
     },
     "execution_count": 1,
     "metadata": {},
     "output_type": "execute_result"
    }
   ],
   "source": [
    "n=\"raahul\"\n",
    "c=0\n",
    "n.find(\"a\")"
   ]
  },
  {
   "cell_type": "code",
   "execution_count": 2,
   "id": "bcda6ea3-d2f8-4f6a-b50e-afe58f958a1f",
   "metadata": {},
   "outputs": [
    {
     "ename": "NameError",
     "evalue": "name 'm' is not defined",
     "output_type": "error",
     "traceback": [
      "\u001b[0;31m---------------------------------------------------------------------------\u001b[0m",
      "\u001b[0;31mNameError\u001b[0m                                 Traceback (most recent call last)",
      "Cell \u001b[0;32mIn[2], line 1\u001b[0m\n\u001b[0;32m----> 1\u001b[0m \u001b[43mm\u001b[49m\u001b[38;5;241m.\u001b[39moccurence(\u001b[38;5;124m\"\u001b[39m\u001b[38;5;124ma\u001b[39m\u001b[38;5;124m\"\u001b[39m)\n",
      "\u001b[0;31mNameError\u001b[0m: name 'm' is not defined"
     ]
    }
   ],
   "source": [
    "m.occurence(\"a\")"
   ]
  },
  {
   "cell_type": "code",
   "execution_count": 3,
   "id": "2fbf1d0c-d3f9-49dd-801d-912134c2b832",
   "metadata": {},
   "outputs": [
    {
     "data": {
      "text/plain": [
       "2"
      ]
     },
     "execution_count": 3,
     "metadata": {},
     "output_type": "execute_result"
    }
   ],
   "source": [
    "n.count(\"a\")"
   ]
  },
  {
   "cell_type": "code",
   "execution_count": 1,
   "id": "5b03095e-caa1-4074-b8ac-f0413303545a",
   "metadata": {},
   "outputs": [
    {
     "name": "stdin",
     "output_type": "stream",
     "text": [
      "enter an string I am Rahul Bamaniya ,I am from Indore\n",
      "enter an string am\n"
     ]
    },
    {
     "name": "stdout",
     "output_type": "stream",
     "text": [
      "Total occurence of am is :  3\n"
     ]
    }
   ],
   "source": [
    "first_String=input(\"enter an string\")\n",
    "search_word=input(\"enter an string\")\n",
    "count=first_String.count(search_word)\n",
    "first_String=input(\"enter an string\")"
   ]
  },
  {
   "cell_type": "code",
   "execution_count": 8,
   "id": "1aab3838-63bc-4944-877d-72ec09b2afb2",
   "metadata": {},
   "outputs": [
    {
     "name": "stdin",
     "output_type": "stream",
     "text": [
      "enter an string RaHUL baMANiya\n"
     ]
    },
    {
     "name": "stdout",
     "output_type": "stream",
     "text": [
      "String 'RaHUL baMANiya' in UpperCase :  RAHUL BAMANIYA\n",
      "String 'RaHUL baMANiya' in UpperCase :  rahul bamaniya\n"
     ]
    }
   ],
   "source": [
    "Sample_string=input(\"enter an string\")\n",
    "upper_str=Sample_string.upper()\n",
    "lower_str=Sample_string.lower()\n",
    "print(f\"String '{Sample_string}' in UpperCase : \",upper_str)\n",
    "print(f\"String '{Sample_string}' in UpperCase : \",lower_str)"
   ]
  },
  {
   "cell_type": "code",
   "execution_count": 15,
   "id": "5e853694-e494-44d2-b00b-621fe940f1fd",
   "metadata": {},
   "outputs": [
    {
     "name": "stdin",
     "output_type": "stream",
     "text": [
      "enter an string : rahul\n"
     ]
    },
    {
     "name": "stdout",
     "output_type": "stream",
     "text": [
      "all character in rahul is unique: True\n"
     ]
    }
   ],
   "source": [
    "Sample_string=input(\"enter an string :\")\n",
    "condition=True\n",
    "c=\"\"\n",
    "count=0\n",
    "for x in Sample_string :\n",
    "    if Sample_string.count(x)!=1: \n",
    "        c+=x\n",
    "        count= Sample_string.count(x)\n",
    "        condition=False\n",
    "        break\n",
    "print(f\"all character in {Sample_string} is unique:\",condition)\n",
    "if  not condition :\n",
    "    print(f\" Because occurence of {c} is \",count)"
   ]
  },
  {
   "cell_type": "code",
   "execution_count": 19,
   "id": "38e695a1-f75a-4290-8500-e559c4cbd6a0",
   "metadata": {},
   "outputs": [
    {
     "name": "stdin",
     "output_type": "stream",
     "text": [
      "enter an first string Rahul\n",
      "enter an second string Bamnaiya\n"
     ]
    },
    {
     "name": "stdout",
     "output_type": "stream",
     "text": [
      " Combine String is  Rahul Bamnaiya\n"
     ]
    }
   ],
   "source": [
    "first=input(\"enter an first string\")\n",
    "second=input(\"enter an second string\")\n",
    "combine_str=\"{} {}\".format(first,second)\n",
    "print(f\" Combine String is \",combine_str)"
   ]
  },
  {
   "cell_type": "code",
   "execution_count": 31,
   "id": "7e46e3f8-33c5-4786-9b83-b48f1a3bc7e4",
   "metadata": {},
   "outputs": [
    {
     "name": "stdin",
     "output_type": "stream",
     "text": [
      "enter element you want delete Rahul\n"
     ]
    },
    {
     "name": "stdout",
     "output_type": "stream",
     "text": [
      " List after deletion of Rahul  ['Deepak', 'Rohan']\n"
     ]
    }
   ],
   "source": [
    "li=[\"Rahul\",\"Deepak\",\"Rohan\",\"Rahul\"]\n",
    "specific_el=input(\"enter element you want delete\")\n",
    "while specific_el in li :\n",
    "    li.remove(specific_el)\n",
    "\n",
    "print(f\" List after deletion of {specific_el} \",li)"
   ]
  },
  {
   "cell_type": "code",
   "execution_count": 26,
   "id": "68d611dc-c050-4be0-b17c-ea150e15118e",
   "metadata": {},
   "outputs": [
    {
     "ename": "TypeError",
     "evalue": "int() argument must be a string, a bytes-like object or a real number, not 'list'",
     "output_type": "error",
     "traceback": [
      "\u001b[0;31m---------------------------------------------------------------------------\u001b[0m",
      "\u001b[0;31mTypeError\u001b[0m                                 Traceback (most recent call last)",
      "Cell \u001b[0;32mIn[26], line 1\u001b[0m\n\u001b[0;32m----> 1\u001b[0m x\u001b[38;5;241m=\u001b[39m\u001b[38;5;28;43mint\u001b[39;49m\u001b[43m(\u001b[49m\u001b[43ml\u001b[49m\u001b[43m)\u001b[49m\n",
      "\u001b[0;31mTypeError\u001b[0m: int() argument must be a string, a bytes-like object or a real number, not 'list'"
     ]
    }
   ],
   "source": [
    "x=int(l)"
   ]
  },
  {
   "cell_type": "code",
   "execution_count": 37,
   "id": "941cff49-825f-4d4c-8f98-0f2988835e85",
   "metadata": {},
   "outputs": [
    {
     "name": "stdout",
     "output_type": "stream",
     "text": [
      "final list is [0, 1, 1, 2, 2, 3, 4, 6, 7, 8, 11]\n"
     ]
    }
   ],
   "source": [
    "l1=[1,2,3,2,11]\n",
    "l2=[8,1,0,6,4,7]\n",
    "l3=l1+l2\n",
    "l3.sort()\n",
    "print(\"final list is\",l3)\n",
    "\n",
    "\n"
   ]
  },
  {
   "cell_type": "code",
   "execution_count": 44,
   "id": "6c2e922f-05cc-470c-b273-1b77e64e6f44",
   "metadata": {},
   "outputs": [
    {
     "name": "stdin",
     "output_type": "stream",
     "text": [
      "enter size 5\n",
      " 2\n",
      " 1\n",
      " 3\n",
      " 7\n",
      " 8\n"
     ]
    }
   ],
   "source": [
    "size=int(input(\"enter size\"))\n",
    "li=[]\n",
    "while size>0 :\n",
    "    el=int(input())\n",
    "    li.append(el)\n",
    "    size-=1\n",
    "for i in range(0,size-1) :\n",
    "    if li[i]<li[i+1]:\n",
    "        print(f\"{li} is sorted\")\n",
    "    else:\n",
    "        print(f\"{li} is not sorted\")\n",
    "    "
   ]
  },
  {
   "cell_type": "code",
   "execution_count": null,
   "id": "2adbb638-a318-475d-89ea-807c38466329",
   "metadata": {},
   "outputs": [],
   "source": []
  },
  {
   "cell_type": "code",
   "execution_count": 15,
   "id": "efbd7a0c-c983-49c5-8030-a1bff4477f3d",
   "metadata": {},
   "outputs": [
    {
     "name": "stdin",
     "output_type": "stream",
     "text": [
      "enter size 6\n",
      " 2\n",
      " 1\n",
      " 3\n",
      " 4\n",
      " 5\n",
      " 8\n"
     ]
    },
    {
     "name": "stdout",
     "output_type": "stream",
     "text": [
      " Given list [2, 1, 3, 4, 5, 8] is not  sorted\n"
     ]
    }
   ],
   "source": [
    "size=int(input(\"enter size\"))\n",
    "li=[]\n",
    "while size>0 :\n",
    "    el=int(input())\n",
    "    li.append(el)\n",
    "    size-=1\n",
    "cond=True\n",
    "for x in range(0,len(li)-1):\n",
    "    if li[x]<=li[x+1] :\n",
    "        continue\n",
    "    else : \n",
    "        cond=False\n",
    "        break\n",
    "if cond :\n",
    "    print(f\" Given list {li} is sorted\")\n",
    "else :\n",
    "    print(f\" Given list {li} is not  sorted\")\n",
    "        \n"
   ]
  },
  {
   "cell_type": "code",
   "execution_count": 16,
   "id": "67373459-7b21-4cb0-8fa0-f9a4c2209c8c",
   "metadata": {},
   "outputs": [],
   "source": [
    "li.reverse()"
   ]
  },
  {
   "cell_type": "code",
   "execution_count": 17,
   "id": "5116e169-b893-48b8-9000-d1c6024ec61c",
   "metadata": {},
   "outputs": [
    {
     "data": {
      "text/plain": [
       "[8, 5, 4, 3, 1, 2]"
      ]
     },
     "execution_count": 17,
     "metadata": {},
     "output_type": "execute_result"
    }
   ],
   "source": [
    "li\n"
   ]
  },
  {
   "cell_type": "code",
   "execution_count": 38,
   "id": "6395f5f7-e040-420f-bd49-24526eabcf89",
   "metadata": {},
   "outputs": [],
   "source": [
    "l1=[1,2,3,4,5]\n",
    "l2=[4,2,3,4,7]\n",
    "l3=l1+l2"
   ]
  },
  {
   "cell_type": "code",
   "execution_count": 39,
   "id": "41847366-6920-48a9-8f88-146ad044de0c",
   "metadata": {},
   "outputs": [
    {
     "data": {
      "text/plain": [
       "[1, 2, 3, 4, 5, 4, 2, 3, 4, 7]"
      ]
     },
     "execution_count": 39,
     "metadata": {},
     "output_type": "execute_result"
    }
   ],
   "source": [
    "l3"
   ]
  },
  {
   "cell_type": "code",
   "execution_count": 42,
   "id": "62a9de6a-3cc8-4ab4-b26f-52aedf193c9c",
   "metadata": {},
   "outputs": [
    {
     "data": {
      "text/plain": [
       "[1, 5, 2, 3, 4, 7]"
      ]
     },
     "execution_count": 42,
     "metadata": {},
     "output_type": "execute_result"
    }
   ],
   "source": [
    "for x in l3:\n",
    "    if l3.count(x)>1:\n",
    "        while l3.count(x) > 1:\n",
    "                  l3.remove(x)\n",
    "\n",
    "l3"
   ]
  },
  {
   "cell_type": "code",
   "execution_count": 34,
   "id": "3bb1fcf6-3d4e-47f3-87e3-2ffd73cff97e",
   "metadata": {},
   "outputs": [
    {
     "data": {
      "text/plain": [
       "[1, 5, 7]"
      ]
     },
     "execution_count": 34,
     "metadata": {},
     "output_type": "execute_result"
    }
   ],
   "source": [
    "l3\n"
   ]
  },
  {
   "cell_type": "code",
   "execution_count": 28,
   "id": "34ca273b-cc30-45c0-8732-54380bdea49a",
   "metadata": {},
   "outputs": [
    {
     "data": {
      "text/plain": [
       "[1, 2]"
      ]
     },
     "execution_count": 28,
     "metadata": {},
     "output_type": "execute_result"
    }
   ],
   "source": [
    "l1"
   ]
  },
  {
   "cell_type": "code",
   "execution_count": 29,
   "id": "8c7274a8-e002-422f-bce6-b019e9ca964f",
   "metadata": {},
   "outputs": [],
   "source": [
    "l1.remove(2)"
   ]
  },
  {
   "cell_type": "code",
   "execution_count": 30,
   "id": "da0c2b5b-3c2f-492d-8b10-ad6a580b7abd",
   "metadata": {},
   "outputs": [
    {
     "data": {
      "text/plain": [
       "[1]"
      ]
     },
     "execution_count": 30,
     "metadata": {},
     "output_type": "execute_result"
    }
   ],
   "source": [
    "l1"
   ]
  },
  {
   "cell_type": "code",
   "execution_count": 47,
   "id": "e95a27dc-f20b-4827-891b-9982ce8a96df",
   "metadata": {},
   "outputs": [
    {
     "name": "stdout",
     "output_type": "stream",
     "text": [
      " intersection of [1, 23, 2, 4] and [2, 1, 3, 4, 5, 6] is  [1, 2, 4]\n"
     ]
    }
   ],
   "source": [
    "l1=[1,23,2,2,4]\n",
    "l2=[2,1,3,4,5,6]\n",
    "for x in l1:\n",
    "    if l1.count(x)>1:\n",
    "        while l1.count(x) > 1:\n",
    "                  l1.remove(x)\n",
    "\n",
    "#remove duplicate from l1\n",
    "for x in l2:\n",
    "    if l2.count(x)>1:\n",
    "        while l2.count(x) > 1:\n",
    "                  l2.remove(x)\n",
    "#remove duplicate from l2\n",
    "intersection_list=[]\n",
    "for el in l1:\n",
    "    if el in l2:\n",
    "        intersection_list.append(el)\n",
    "print(f\" intersection of {l1} and {l2} is \",intersection_list)\n"
   ]
  },
  {
   "cell_type": "code",
   "execution_count": 44,
   "id": "87dafc40-4470-4041-8c8a-eace92755df1",
   "metadata": {},
   "outputs": [
    {
     "data": {
      "text/plain": [
       "[1, 23, 2, 4]"
      ]
     },
     "execution_count": 44,
     "metadata": {},
     "output_type": "execute_result"
    }
   ],
   "source": [
    "l1"
   ]
  },
  {
   "cell_type": "code",
   "execution_count": 48,
   "id": "41756128-ca50-4765-bef4-33c95d0739b7",
   "metadata": {},
   "outputs": [
    {
     "data": {
      "text/plain": [
       "4"
      ]
     },
     "execution_count": 48,
     "metadata": {},
     "output_type": "execute_result"
    }
   ],
   "source": [
    "st=\"rahul bamnaiya\"\n",
    "st.count(\"a\")"
   ]
  },
  {
   "cell_type": "code",
   "execution_count": 50,
   "id": "6414118e-a1e7-4e1c-9964-c3827ccf4c71",
   "metadata": {},
   "outputs": [
    {
     "name": "stdin",
     "output_type": "stream",
     "text": [
      "enter na string Rohan@123\n"
     ]
    },
    {
     "name": "stdout",
     "output_type": "stream",
     "text": [
      "All character in Rohan@123 is unique\n"
     ]
    }
   ],
   "source": [
    "string=input(\"enter na string\")\n",
    "cond=True\n",
    "for x in string:\n",
    "    if string.count(x)!=1:\n",
    "        print(f\"All character in {string} is not unique\")\n",
    "        cond=False\n",
    "        break\n",
    "if cond:\n",
    "    print(f\"All character in {string} is unique\")"
   ]
  },
  {
   "cell_type": "code",
   "execution_count": 51,
   "id": "b721d9f1-6f41-4649-9465-0c0aac193cb3",
   "metadata": {},
   "outputs": [
    {
     "name": "stderr",
     "output_type": "stream",
     "text": [
      "/opt/conda/lib/python3.10/site-packages/IPython/core/inputtransformer2.py:604: UserWarning: `make_tokens_by_line` received a list of lines which do not have lineending markers ('\\n', '\\r', '\\r\\n', '\\x0b', '\\x0c'), behavior will be unspecified\n",
      "  tokens_by_line = make_tokens_by_line(lines)\n"
     ]
    },
    {
     "ename": "SyntaxError",
     "evalue": "unterminated string literal (detected at line 1) (3691139216.py, line 1)",
     "output_type": "error",
     "traceback": [
      "\u001b[0;36m  Cell \u001b[0;32mIn[51], line 1\u001b[0;36m\u001b[0m\n\u001b[0;31m    \u0012 Write ' %ode to %on%'ten'te two tuple\u001b[0m\n\u001b[0m                                           \n^\u001b[0m\n\u001b[0;31mSyntaxError\u001b[0m\u001b[0;31m:\u001b[0m unterminated string literal (detected at line 1)\n"
     ]
    }
   ],
   "source": [
    "# how take list input in python"
   ]
  },
  {
   "cell_type": "code",
   "execution_count": 52,
   "id": "4fc2525e-87c3-407d-a204-69a7ef3c03c4",
   "metadata": {},
   "outputs": [],
   "source": [
    "# Write a function to concatenate two tuples. The function should take two tuples as input and return a new tuple containing elements from both input tuples"
   ]
  },
  {
   "cell_type": "code",
   "execution_count": 53,
   "id": "f93604c6-f2ad-43a4-94dd-227e38936be1",
   "metadata": {},
   "outputs": [],
   "source": [
    "li=[1,2,3,4,5]"
   ]
  },
  {
   "cell_type": "code",
   "execution_count": 56,
   "id": "44592990-baf3-42d9-8628-6d6088a31cd9",
   "metadata": {},
   "outputs": [
    {
     "name": "stdin",
     "output_type": "stream",
     "text": [
      "enter postion in which reverse a list 4\n"
     ]
    },
    {
     "data": {
      "text/plain": [
       "[4, 3, 1, 2, 5]"
      ]
     },
     "execution_count": 56,
     "metadata": {},
     "output_type": "execute_result"
    }
   ],
   "source": [
    "pos=int(input(\"enter postion in which reverse a list\"))\n",
    "s=0\n",
    "e=pos-1\n",
    "while s<e:\n",
    "    temp=li[s]\n",
    "    li[s]=li[e]\n",
    "    li[e]=temp\n",
    "    s+=1\n",
    "    e-=1\n",
    "li"
   ]
  },
  {
   "cell_type": "code",
   "execution_count": null,
   "id": "69917cf6-04f7-490f-9435-15adb3e7390a",
   "metadata": {},
   "outputs": [],
   "source": []
  }
 ],
 "metadata": {
  "kernelspec": {
   "display_name": "Python 3 (ipykernel)",
   "language": "python",
   "name": "python3"
  },
  "language_info": {
   "codemirror_mode": {
    "name": "ipython",
    "version": 3
   },
   "file_extension": ".py",
   "mimetype": "text/x-python",
   "name": "python",
   "nbconvert_exporter": "python",
   "pygments_lexer": "ipython3",
   "version": "3.10.8"
  }
 },
 "nbformat": 4,
 "nbformat_minor": 5
}
