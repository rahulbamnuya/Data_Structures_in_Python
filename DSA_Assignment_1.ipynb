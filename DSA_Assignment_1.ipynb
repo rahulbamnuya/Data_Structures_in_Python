{
  "cells": [
    {
      "cell_type": "markdown",
      "metadata": {
        "id": "view-in-github",
        "colab_type": "text"
      },
      "source": [
        "<a href=\"https://colab.research.google.com/github/rahulbamnuya/Data_Structures_in_Python/blob/main/DSA_Assignment_1.ipynb\" target=\"_parent\"><img src=\"https://colab.research.google.com/assets/colab-badge.svg\" alt=\"Open In Colab\"/></a>"
      ]
    },
    {
      "cell_type": "code",
      "execution_count": null,
      "metadata": {
        "colab": {
          "base_uri": "https://localhost:8080/"
        },
        "id": "nzKt1rTBU1e5",
        "outputId": "111a2836-047d-494c-c275-944f73df978a"
      },
      "outputs": [
        {
          "name": "stdout",
          "output_type": "stream",
          "text": [
            "enter an string123\n",
            "Reverse string is  321\n"
          ]
        }
      ],
      "source": [
        "# Q 1. Write code to reverse a string.\n",
        "#CODE :\n",
        "sample=input(\"enter an string : \")\n",
        "final=\"\"\n",
        "for e in sample:\n",
        "    final=e+final\n",
        "print(\"Reverse string is :\",final)"
      ]
    },
    {
      "cell_type": "code",
      "execution_count": null,
      "metadata": {
        "colab": {
          "base_uri": "https://localhost:8080/"
        },
        "id": "FkjbH7ZKVGNf",
        "outputId": "d5dd3fa1-ad2d-464a-e395-d3eadde744b7"
      },
      "outputs": [
        {
          "name": "stdout",
          "output_type": "stream",
          "text": [
            "enter an string :rahul\n",
            "Number of vowels in 'rahul' is : 2\n"
          ]
        }
      ],
      "source": [
        "# Que 2 Count number of vowels instring\n",
        "#Code :\n",
        "sample=input(\"enter an string :\")\n",
        "final=0\n",
        "for el in sample:\n",
        "    if el==\"a\" or el==\"e\" or el==\"i\" or el==\"o\" or el==\"u\":\n",
        "        final+=1\n",
        "print(f\"Number of vowels in '{sample}' is :\",final)"
      ]
    },
    {
      "cell_type": "code",
      "execution_count": null,
      "metadata": {
        "colab": {
          "base_uri": "https://localhost:8080/"
        },
        "id": "fkapElDIXBOw",
        "outputId": "395fe681-feb3-4be8-a1a1-52b8bb51b414"
      },
      "outputs": [
        {
          "name": "stdout",
          "output_type": "stream",
          "text": [
            "enter an string121\n",
            "String 121 is Plindrome :  True\n"
          ]
        }
      ],
      "source": [
        "# Que 3 Write code to check if a given string is a palindrome or not.\n",
        "#Code\n",
        "\n",
        "sample=input(\"enter an string : \")\n",
        "final=\"\"\n",
        "for e in sample:\n",
        "    final=e+final\n",
        "print(f\"String '{sample}' is Plindrome : \",sample==final)"
      ]
    },
    {
      "cell_type": "code",
      "execution_count": null,
      "metadata": {
        "colab": {
          "base_uri": "https://localhost:8080/"
        },
        "id": "YSqck8crXYeU",
        "outputId": "ee8bb8c7-3c41-4a5c-a6d8-249671aef998"
      },
      "outputs": [
        {
          "name": "stdout",
          "output_type": "stream",
          "text": [
            "enter an string :rahul\n",
            "enter an string :rohit\n",
            "String 'rahul' and 'rohit'  is  Anagram : False\n"
          ]
        }
      ],
      "source": [
        "# Que 4 Write code to check if two given strings are anagrams of each other.\n",
        "#Code :\n",
        "first=input(\"enter an string :\")\n",
        "second=input(\"enter an string :\")\n",
        "boolean=False\n",
        "lenfirst=len(first)\n",
        "lensecond=len(second)\n",
        "if lenfirst!=lensecond:\n",
        "    print(f\"String '{first}' and '{second}'  is not Anagram \"  )\n",
        "else:\n",
        "    for el in first :\n",
        "        if el  in second:\n",
        "            boolean=True\n",
        "            continue\n",
        "\n",
        "        else :\n",
        "            boolean=False\n",
        "            break\n",
        "    print(f\"String '{first}' and '{second}'  is  Anagram :\", boolean )"
      ]
    },
    {
      "cell_type": "code",
      "execution_count": null,
      "metadata": {
        "colab": {
          "base_uri": "https://localhost:8080/"
        },
        "id": "peTvP5BhX5G5",
        "outputId": "a62259c2-920e-492b-d4a6-1b2b8036057d"
      },
      "outputs": [
        {
          "name": "stdout",
          "output_type": "stream",
          "text": [
            "enter an string :I am rahul, from indore\n",
            "enter an word for searching :am\n",
            "Total occurence of 'am' is : 1\n"
          ]
        }
      ],
      "source": [
        "#Que 5 Write code to find all occurrences of a given substring within another string.\n",
        "#Code\n",
        "first_String=input(\"enter an string :\")\n",
        "search_word=input(\"enter an word for searching :\")\n",
        "count=first_String.count(search_word)\n",
        "print(f\"Total occurence of '{search_word}' is :\",count)"
      ]
    },
    {
      "cell_type": "code",
      "execution_count": null,
      "metadata": {
        "colab": {
          "base_uri": "https://localhost:8080/"
        },
        "id": "Dx_5SwdVYxVu",
        "outputId": "8961001d-cfc8-4c2c-97d0-7a751fa8e014"
      },
      "outputs": [
        {
          "name": "stdout",
          "output_type": "stream",
          "text": [
            "enter a string i am \n",
            "string after compress is : a1m1i1\n"
          ]
        }
      ],
      "source": [
        "#Que 6 Write code to perform basic string compression using the counts of repeated characters.\n",
        "#Code\n",
        "str_input=input(\"enter a string : \")\n",
        "set_=set(str_input)\n",
        "set_.remove(\" \")\n",
        "compress=\"\"\n",
        "for i in set_:\n",
        "    count=str_input.count(i)\n",
        "    compress+=i+str(count)\n",
        "print(\"string after compress is :\",compress)"
      ]
    },
    {
      "cell_type": "code",
      "execution_count": null,
      "metadata": {
        "id": "gQeayHdSd7Pl",
        "colab": {
          "base_uri": "https://localhost:8080/"
        },
        "outputId": "992ecf1b-e8f2-480b-b8d0-33a9c635e163"
      },
      "outputs": [
        {
          "output_type": "stream",
          "name": "stdout",
          "text": [
            "second largest is  7\n"
          ]
        }
      ],
      "source": [
        "# Que 7 Implement a code to find the second largest number in a given list of integers.\n",
        "l=[1,2,4,2,6,7,9]\n",
        "m1=max(l)\n",
        "l.remove(m1)\n",
        "m2=max(l)\n",
        "print(\"second largest element is  :\",m2)\n"
      ]
    },
    {
      "cell_type": "code",
      "execution_count": null,
      "metadata": {
        "id": "3RASqL8PS8iY"
      },
      "outputs": [],
      "source": [
        "#Que 8 Create a code to count the occurrences of each element in a list and return a dictionary with elements as keys and their counts as values.\n",
        "def after_merge(d1,d2):\n",
        "    final={}\n",
        "    for i in d1:\n",
        "        if i in d2:\n",
        "            final[i]=d1[i]+d2[i]\n",
        "        else:\n",
        "            final[i]=d1[i]\n",
        "    return final\n",
        "inp1=int(input(\"enter an  no of element for dictionary 1 :\"))\n",
        "dictionary_ele1={input(\"enter key of dictionary 1 :\"):input(\"enter values of dictiionary 1 :\") for i in range(inp1)}\n",
        "print(\"the dictionary 1 is :\",dictionary_ele1)\n",
        "inp2=int(input(\"enter an  no of element for dictionary 2 :\"))\n",
        "dictionary_ele2={input(\"enter key of dictionary 2 :\"):input(\"enter values of dictiionary 2 :\") for i in range(inp2)}\n",
        "print(\"the dictionary 1 is :\",dictionary_ele1)\n",
        "print(\"the dictionary 2 is :\",dictionary_ele2)\n",
        "merge=after_merge(dictionary_ele1,dictionary_ele2)\n",
        "print(\"after the merge dictionary :\",merge)"
      ]
    },
    {
      "cell_type": "code",
      "source": [
        "# Que 9 Write a code to reverse a list in-place without using any built-in reverse function.\n",
        "pos=int(input(\"enter postion in which reverse a list\"))\n",
        "s=0\n",
        "e=pos-1\n",
        "while s<e:\n",
        "    temp=li[s]\n",
        "    li[s]=li[e]\n",
        "    li[e]=temp\n",
        "    s+=1\n",
        "    e-=1\n",
        "li"
      ],
      "metadata": {
        "id": "o5EmNDVJqOwR"
      },
      "execution_count": null,
      "outputs": []
    },
    {
      "cell_type": "code",
      "source": [
        "# Que 10Implement a code to find and remove duplicates from a list while preserving the original order of elements.\n",
        "n=int(input(\"number of elemnt :\"))\n",
        "l=[ (int(input())) for i in range(n)]\n",
        "final_list=[]\n",
        "for i in l:\n",
        "  if l.count(i)==1:\n",
        "    final_list.append(i)\n",
        "  else:\n",
        "    if i not in final_list:\n",
        "      final_list.append(i)\n",
        "print(f\"{final_list} after remove duplicate .\")\n",
        "\n"
      ],
      "metadata": {
        "id": "dbL-toQSqbkM",
        "colab": {
          "base_uri": "https://localhost:8080/"
        },
        "outputId": "2f83251d-0b3e-42e2-e117-1af0589b74b9"
      },
      "execution_count": null,
      "outputs": [
        {
          "name": "stdout",
          "output_type": "stream",
          "text": [
            "number of elemnt :3\n",
            "1\n",
            "2\n",
            "1\n"
          ]
        },
        {
          "output_type": "execute_result",
          "data": {
            "text/plain": [
              "[1, 2]"
            ]
          },
          "metadata": {},
          "execution_count": 25
        }
      ]
    },
    {
      "cell_type": "code",
      "source": [
        "# Que 11Create a code to check if a given list is sorted (either in ascending or descending order) or not.\n",
        "n=int(input(\"number of elemnt :\"))\n",
        "l=[ (int(input())) for i in range(n)]\n",
        "cond=True\n",
        "for i in range(len(l)-1):\n",
        "  if l[i]<=l[i+1]:\n",
        "    continue\n",
        "  else:\n",
        "    cond=False\n",
        "    break\n",
        "if cond:\n",
        "  print(f\"{l} list is sorted \")\n",
        "else:\n",
        "  print(f\"{l} list is not sorted:\")\n"
      ],
      "metadata": {
        "id": "BeKEGK1pqjaI",
        "colab": {
          "base_uri": "https://localhost:8080/"
        },
        "outputId": "3c28f381-3913-494b-9585-7cd1b96ecbc7"
      },
      "execution_count": null,
      "outputs": [
        {
          "output_type": "stream",
          "name": "stdout",
          "text": [
            "number of elemnt :2\n",
            "1\n",
            "2\n",
            "[1, 2] list is sorted \n"
          ]
        }
      ]
    },
    {
      "cell_type": "code",
      "source": [
        "2# Que 12 Write a code to merge two sorted lists into a single sorted list.\n",
        "#merge two list\n",
        "list1=[1,2,3,5]\n",
        "list2=[4,5,6,7,8]\n",
        "merge =set(list1) | set(list2)"
      ],
      "metadata": {
        "id": "zCsx9LdcrKVr"
      },
      "execution_count": null,
      "outputs": []
    },
    {
      "cell_type": "code",
      "source": [
        "# Que 13 Implement a code to find the intersection of two given lists.\n",
        "l1=[1,2,3,2,11]\n",
        "l2=[8,1,0,6,4,7]\n",
        "s1=set(l1)\n",
        "s2=set(l2)\n",
        "s3=s1 & s2\n",
        "l=list(s3)\n",
        "print(\"list after intersection of two list : \",l)\n",
        "\n"
      ],
      "metadata": {
        "id": "0B0qZKtsrbtW",
        "colab": {
          "base_uri": "https://localhost:8080/"
        },
        "outputId": "d4aa5faf-489c-4798-b0aa-668e5b794f13"
      },
      "execution_count": null,
      "outputs": [
        {
          "output_type": "stream",
          "name": "stdout",
          "text": [
            "list after intersection of two list :  [1]\n"
          ]
        }
      ]
    },
    {
      "cell_type": "code",
      "source": [
        "# Que 14 Create a code to find the union of two lists without duplicates.\n",
        "l1=[1,2,3,2,11]\n",
        "l2=[8,1,0,6,4,7]\n",
        "s1=set(l1)\n",
        "s2=set(l2)\n",
        "s3=s1 | s2\n",
        "l=list(s3)\n",
        "print(\"list after union of two list : \",l)"
      ],
      "metadata": {
        "id": "V3P0xKYqrrqi",
        "colab": {
          "base_uri": "https://localhost:8080/"
        },
        "outputId": "fbb5f481-e01a-410a-a610-53de12bcfcf2"
      },
      "execution_count": null,
      "outputs": [
        {
          "output_type": "stream",
          "name": "stdout",
          "text": [
            "list after union of two list :  [0, 1, 2, 3, 4, 6, 7, 8, 11]\n"
          ]
        }
      ]
    },
    {
      "cell_type": "code",
      "source": [
        "# Que 15 Write a code to shuffle a given list randomly without using any\n",
        "\n",
        "li=[14,5,15,6,7,10]\n",
        "set_=set(li)\n",
        "set_"
      ],
      "metadata": {
        "id": "M3QiqdcwePbH"
      },
      "execution_count": null,
      "outputs": []
    },
    {
      "cell_type": "code",
      "source": [
        "# Que 16 Write a code that takes two tuples as input and returns a new tuple containing elements that are common to both input tuples\n",
        "tuple_1=()\n",
        "tuple_2=()\n",
        "size1=int(input(\"enter size of tupple 1 :\"))\n",
        "size2=int(input(\"enter size of tupple 2 :\"))\n",
        "print(\"enter elemnet of tupple 1\")\n",
        "while size1>0 :\n",
        "    x=int(input())\n",
        "    tuple_1=tuple_1+(x,)\n",
        "    size1-=1\n",
        "print(\"enter elemnet of tupple 2\")\n",
        "while size2>0 :\n",
        "    x=int(input())\n",
        "    tuple_2=tuple_2+(x,)\n",
        "    size2-=1\n",
        "li=[]\n",
        "for x in tuple_1:\n",
        "    if x in tuple_2:\n",
        "        li.append(x)\n",
        "merge_tupple=tuple(li)\n",
        "print(\"common element i tuples is :\",merge_tupple)\n"
      ],
      "metadata": {
        "colab": {
          "base_uri": "https://localhost:8080/"
        },
        "id": "uJdArkn9enh0",
        "outputId": "2a7fecdb-70fa-4f91-9aaf-00bdc6557b29"
      },
      "execution_count": null,
      "outputs": [
        {
          "output_type": "stream",
          "name": "stdout",
          "text": [
            "enter size of tupple 1 :1\n",
            "enter size of tupple 2 :1\n",
            "enter elemnet of tupple 1\n",
            "1\n",
            "enter elemnet of tupple 2\n",
            "1\n",
            "common element i tuples is : (1,)\n"
          ]
        }
      ]
    },
    {
      "cell_type": "code",
      "source": [
        "# 1\n",
        "# Que 17 Create a code that prompts the user to enter two sets of integers separated by commas. Then, print the intersection of these two sets.\n",
        "def set_element( set1) :\n",
        "    return set(map(int,set1.split(\",\")))\n",
        "\n",
        "input1=input(\"enetr set elemet 1\")\n",
        "input2=input(\"enetr set element 2\")\n",
        "set1=set_element(input1)\n",
        "set2=set_element(input2)\n",
        "common_set= set1 & set2\n",
        "print(f\"common element of {set1} and {set2} is :\")\n",
        "print(\"common_set :\",common_set)"
      ],
      "metadata": {
        "id": "JHC-ratlfPe7"
      },
      "execution_count": null,
      "outputs": []
    },
    {
      "cell_type": "code",
      "source": [
        "# Que 18 Write a code to concatenate two tuples. The function should take two tuples as input and return a new tuple containing elements from both input tuples.\n",
        "def set_element( set1) :\n",
        "    return tuple(map(s,set1.split(\",\")))\n",
        "def combine_tuple(tup1,tup2) :\n",
        "    return tup1+tup2\n",
        "input1=input(\"enetr set elemet 1 :\")\n",
        "input2=input(\"enetr set element 2 :\")\n",
        "tuple1=set_element(input1)\n",
        "tuple2=set_element(input2)\n",
        "combine=combine_tuple(tuple1,tuple2)\n",
        "print(\"combine two tuples are \")\n",
        "print(combine)"
      ],
      "metadata": {
        "id": "R9GfLHwjfY6S"
      },
      "execution_count": null,
      "outputs": []
    },
    {
      "cell_type": "code",
      "source": [
        "# Que 19 Develop a code that prompts the user to input two sets of strings. Then, print the elements that are present in the first set but not in the second set.\n",
        "def set_element(el):\n",
        "      return set(map(lambda x:x,el.split(\",\")))\n",
        "diff_set=lambda x,y:x-y\n",
        "\n",
        "input1=input(\"enetr set elemet 1 :\")\n",
        "input2=input(\"enetr set element 2 :\")\n",
        "set1=set_element(input1)\n",
        "set2=set_element(input2)\n",
        "print(f\" the difernce of two set is :\",diff_set(set1,set2))"
      ],
      "metadata": {
        "id": "x87fHyjYfrk2"
      },
      "execution_count": null,
      "outputs": []
    },
    {
      "cell_type": "code",
      "source": [
        "# Que 20 Create a code that takes a tuple and two integers as input. The function should return a new tuple containing elements from the original tuple within the specified range of indices.\n",
        "def set_element(el):\n",
        "      return tuple(map(lambda x:int(x),el.split(\",\")))\n",
        "def new_tuple(tup,n1,n2):\n",
        "    return tup[n1:n2];\n",
        "input1=input(\"enter tuple elemet 1 :\")\n",
        "num1=int(input(\"enter starting idx :\" ))\n",
        "num2=int(input(\"enter ending idx :\"))\n",
        "tup=set_element(input1)\n",
        "final_tup=new_tuple(tup\n",
        "                    ,num1,num2)\n",
        "print(f\"new tuple of '{input1}' of idx'{num1}' and idx'{num2}' is  \",final_tup)"
      ],
      "metadata": {
        "id": "Ngl4jW5Lf2E7"
      },
      "execution_count": null,
      "outputs": []
    },
    {
      "cell_type": "code",
      "source": [
        "# Que 21 Write a code that prompts the user to input two sets of characters. Then, print the union of these two sets.\n",
        "def set_element(el):\n",
        "      return set(map(lambda x:x,el.split(\",\")))\n",
        "def union_set(s1,s2):\n",
        "    return s1 | s2\n",
        "input1=input(\"enter set of character  :\")\n",
        "input2=input(\"enter set of character :\")\n",
        "set1=set_element(input1)\n",
        "set2=set_element(input2)\n",
        "final_set=union_set(set1,set2)\n",
        "print(f\"final union of  is :\",final_set)"
      ],
      "metadata": {
        "id": "nTbozE5wgAlo"
      },
      "execution_count": null,
      "outputs": []
    },
    {
      "cell_type": "code",
      "source": [
        "# Que 22 Develop a code that takes a tuple of integers as input. The function should return the maximum and minimu-m values from the tuple using tuple unpacking.\n",
        "def tup_element(el):\n",
        "      return tuple(map(lambda x:int(x),el.split(\",\")))\n",
        "def calcu(s):\n",
        "    return max(s),min(s)\n",
        "input1=input(\"enter integer in tuple :\")\n",
        "tupp=tup_element(input1)\n",
        "min_max=calcu(tupp)\n",
        "min_max\n",
        "print(f\" {tupp} \\n the max is :{min_max[0]} \\n min is : {min_max[1]}\")"
      ],
      "metadata": {
        "id": "002KrE2kgKWM"
      },
      "execution_count": null,
      "outputs": []
    },
    {
      "cell_type": "code",
      "source": [
        "# Que 23 Create a code that defines two sets of integers. Then, print the union, intersection, and difference of these two sets.\n",
        "def set_element( set1) :\n",
        "    return set(map(lambda s:int(s),set1.split(\",\")))\n",
        "def union(tup1,tup2) :\n",
        "      print(\"Union : \",tup1|tup2)\n",
        "def inter(tup1,tup2) :\n",
        "      print(\"Intersection : \",tup1&tup2)\n",
        "def diff(tup1,tup2) :\n",
        "      print(\"Difference :\",tup1-tup2)\n",
        "input1=input(\"enetr set elemet 1 :\")\n",
        "input2=input(\"enetr set element 2 :\")\n",
        "tuple1=set_element(input1)\n",
        "tuple2=set_element(input2)\n",
        "union(tuple1,tuple2)\n",
        "inter(tuple1,tuple2)\n",
        "diff(tuple1,tuple2)"
      ],
      "metadata": {
        "id": "Trgcn3nNgR5r"
      },
      "execution_count": null,
      "outputs": []
    },
    {
      "cell_type": "code",
      "source": [
        "# Que 24 Write a code that takes a tuple and an element as input. The function should return the count of occurrences of the given element in the tuple.\n",
        "def tup_element(t):\n",
        "      return tuple(map(lambda x:int(x),t.split(\",\")))\n",
        "def elemen_freq(tup,el):\n",
        "    return tup.count(el)\n",
        "input1=input(\"enter integer in tuple :\")\n",
        "num1=int(input(\"enter element  :\" ))\n",
        "tupp=tup_element(input1)\n",
        "freq=elemen_freq(tupp,num1)\n",
        "print(f\" the freq of '{num1}' in'{tupp} ' is :\",freq)\n"
      ],
      "metadata": {
        "id": "6BygZBvrghyf"
      },
      "execution_count": null,
      "outputs": []
    },
    {
      "cell_type": "code",
      "source": [
        "# Que 25 Develop a code that prompts the user to input two sets of strings. Then, print the symmetric difference of these two sets.\n",
        "def set_element( set1) :\n",
        "    return set(map(lambda s:s,set1.split(\",\")))\n",
        "def sym_diff(tup1,tup2) :\n",
        "    return tup1^tup2\n",
        "input1=input(\"enetr set elemet 1 :\")\n",
        "input2=input(\"enetr set element 2 :\")\n",
        "tuple1=set_element(input1)\n",
        "tuple2=set_element(input2)\n",
        "Sym_diff=sym_diff(tuple1,tuple2)\n",
        "print(\"Symmetrice diff is : \")\n",
        "print(Sym_diff)"
      ],
      "metadata": {
        "id": "6ffS8eDzguEW"
      },
      "execution_count": null,
      "outputs": []
    },
    {
      "cell_type": "code",
      "source": [
        "# Que 26 Write a code that takes a list of words as input and returns a dictionary where the keys are unique words and the values are the frequencies of those words in the input list.\n",
        "def word_list(in_put):\n",
        "    return in_put.split(\",\")\n",
        "def word_dict(li):\n",
        "    se=set(li);\n",
        "    dic={}\n",
        "    for x in se:\n",
        "        dic[x]=li.count(x)\n",
        "    return dic\n",
        "\n",
        "input1=input(\"enter an list of word\")\n",
        "list1=word_list(input1)\n",
        "\n",
        "dic_=word_dict(list1)\n",
        "dic_"
      ],
      "metadata": {
        "id": "dBRAx8UIg-Cp"
      },
      "execution_count": null,
      "outputs": []
    },
    {
      "cell_type": "code",
      "source": [
        "# Que 27 Write a code that takes two dictionaries as input and merges them into a single dictionary. If there are common keys, the values should be added together.\n",
        "def after_merge(d1,d2):\n",
        "    final={}\n",
        "    for i in d1:\n",
        "        if i in d2:\n",
        "            final[i]=d1[i]+d2[i]\n",
        "        else:\n",
        "            final[i]=d1[i]\n",
        "    return final\n",
        "inp1=int(input(\"enter an  no of element for dictionary 1 :\"))\n",
        "dictionary_ele1={input(\"enter key of dictionary 1 :\"):input(\"enter values of dictiionary 1 :\") for i in range(inp1)}\n",
        "print(\"the dictionary 1 is :\",dictionary_ele1)\n",
        "inp2=int(input(\"enter an  no of element for dictionary 2 :\"))\n",
        "dictionary_ele2={input(\"enter key of dictionary 2 :\"):input(\"enter values of dictiionary 2 :\") for i in range(inp2)}\n",
        "print(\"the dictionary 1 is :\",dictionary_ele1)\n",
        "print(\"the dictionary 2 is :\",dictionary_ele2)\n",
        "merge=after_merge(dictionary_ele1,dictionary_ele2)\n",
        "print(\"after the merge dictionary :\",merge)"
      ],
      "metadata": {
        "id": "qKUfsAQohD1g"
      },
      "execution_count": null,
      "outputs": []
    },
    {
      "cell_type": "code",
      "source": [
        "# Que 28 Write a code to access a value in a nested dictionary. The function should take the dictionary and a list of keys as input and return the corresponding value. If any of the keys do not exist in the dictionary, the function should return None.\n",
        "def values_dict(dic,li):\n",
        "    values={}\n",
        "    for x in li:\n",
        "        if x in dic:\n",
        "             values[x]=dic[x]\n",
        "        else:\n",
        "            values[x]=\"None\"\n",
        "    return values\n",
        "inp=int(input(\"enter an  no of element for dictionary\"))\n",
        "dictionary_ele={input(\"enter key of dictionary\"):input(\"enter values of dictiionary\") for i in range(inp)}\n",
        "print(\"dictionary element\",dictionary_ele)\n",
        "inpu_list=int(input(\"enter an element no of list\"))\n",
        "list_ele=[input(\"enter list of key\") for i in range(inpu_list)]\n",
        "print(\"list of key elemnet\",list_ele)\n",
        "print(\"corresponding values of keys\")\n",
        "values_dict(dictionary_ele,list_ele)\n"
      ],
      "metadata": {
        "id": "k3Y3sKyohWBi"
      },
      "execution_count": null,
      "outputs": []
    },
    {
      "cell_type": "code",
      "source": [
        "# Que 29 Write a code that takes a dictionary as input and returns a sorted version of it based on the values. You can choose whether to sort in ascending or descending order\n",
        "inp=int(input(\"enter an  no of element for dictionary\"))\n",
        "dictionary_ele={input(\"enter key of dictionary\"):input(\"enter values of dictiionary\") for i in range(inp)}\n",
        "di={}\n",
        "sort=dict(sorted(dictionary_ele.items(),key=lambda x:x[1] ))\n",
        "print(\"sorted dictionary with values refrence :\",sort)"
      ],
      "metadata": {
        "id": "cnFrSZUThiWT"
      },
      "execution_count": null,
      "outputs": []
    },
    {
      "cell_type": "code",
      "source": [
        "# Que 30 Write a code that inverts a dictionary, swapping keys and values. Ensure that the inverted dictionary correctly handles cases where multiple keys have the same value by storing the keys as a list in the inverted dictionary\n",
        "def invert_dict(di):\n",
        "        k=dictionary_ele.keys()\n",
        "        v=dictionary_ele.values()\n",
        "        d={}\n",
        "        for i in dictionary_ele.keys():\n",
        "            x=dictionary_ele[i]\n",
        "            l=[]\n",
        "            for y in k:\n",
        "                if dictionary_ele[y]==x:\n",
        "                    l.append(y)\n",
        "            d[x]=l\n",
        "        return d\n",
        "\n",
        "\n",
        "inp=int(input(\"enter an  no of element for dictionary\"))\n",
        "dictionary_ele={input(\"enter key of dictionary\"):input(\"enter values of dictiionary\") for i in range(inp)}\n",
        "swap_dict=invert_dict(dictionary_ele)\n",
        "print(\"the dictionary items is :\",dictionary_ele)\n",
        "print(\"After swap of key with values new dictionary is :\",swap_dict)\n",
        "swap_dict\n"
      ],
      "metadata": {
        "id": "h17fdSzMh2ji"
      },
      "execution_count": null,
      "outputs": []
    }
  ],
  "metadata": {
    "colab": {
      "provenance": [],
      "authorship_tag": "ABX9TyPBeKBEierWouHD49FFk+j6",
      "include_colab_link": true
    },
    "kernelspec": {
      "display_name": "Python 3",
      "name": "python3"
    },
    "language_info": {
      "name": "python"
    }
  },
  "nbformat": 4,
  "nbformat_minor": 0
}